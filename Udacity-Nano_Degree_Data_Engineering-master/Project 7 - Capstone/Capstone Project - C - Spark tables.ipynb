{
 "cells": [
  {
   "cell_type": "markdown",
   "metadata": {
    "editable": true
   },
   "source": [
    "# US Travels : Business / Pleasure / Education / All\n",
    "### Data Engineering Capstone Project ( Spark )\n",
    "#### Preparing queries for Fact & Dimension tables"
   ]
  },
  {
   "cell_type": "markdown",
   "metadata": {
    "editable": true
   },
   "source": [
    "<div style=\"background-color:#ffe5e5;\">\n",
    "<br>    \n",
    "    <b>Important</b> : Initially thought of using this Notebook to prepare queries to INSERT into Fact & Dimension tables and Analytics report, but found out Spark SQL is very slow with 50k rows itself as Spark SQL does full scan of the dataset for every WHERE clause, so quitting the idea of using SPARK Tables.\n",
    "\n",
    "<div>Below codes were used to write a small sample output of i94 dataset containing 10k rows.</div>\n",
    "<br>\n",
    "</div>"
   ]
  },
  {
   "cell_type": "markdown",
   "metadata": {
    "editable": true
   },
   "source": [
    "##### Import packages"
   ]
  },
  {
   "cell_type": "code",
   "execution_count": 2,
   "metadata": {
    "editable": true
   },
   "outputs": [
    {
     "name": "stdout",
     "output_type": "stream",
     "text": [
      "Collecting fuzzywuzzy[speedup]\n",
      "  Downloading https://files.pythonhosted.org/packages/43/ff/74f23998ad2f93b945c0309f825be92e04e0348e062026998b5eefef4c33/fuzzywuzzy-0.18.0-py2.py3-none-any.whl\n",
      "Collecting python-levenshtein>=0.12; extra == \"speedup\" (from fuzzywuzzy[speedup])\n",
      "\u001b[?25l  Downloading https://files.pythonhosted.org/packages/42/a9/d1785c85ebf9b7dfacd08938dd028209c34a0ea3b1bcdb895208bd40a67d/python-Levenshtein-0.12.0.tar.gz (48kB)\n",
      "\u001b[K    100% |████████████████████████████████| 51kB 4.6MB/s ta 0:00:011\n",
      "\u001b[?25hRequirement already satisfied: setuptools in /opt/conda/lib/python3.6/site-packages (from python-levenshtein>=0.12; extra == \"speedup\"->fuzzywuzzy[speedup]) (38.4.0)\n",
      "Building wheels for collected packages: python-levenshtein\n",
      "  Running setup.py bdist_wheel for python-levenshtein ... \u001b[?25ldone\n",
      "\u001b[?25h  Stored in directory: /root/.cache/pip/wheels/de/c2/93/660fd5f7559049268ad2dc6d81c4e39e9e36518766eaf7e342\n",
      "Successfully built python-levenshtein\n",
      "Installing collected packages: python-levenshtein, fuzzywuzzy\n",
      "Successfully installed fuzzywuzzy-0.18.0 python-levenshtein-0.12.0\n"
     ]
    }
   ],
   "source": [
    "import sys\n",
    "# Below used by fuzzy matching\n",
    "!{sys.executable} -m pip install fuzzywuzzy[speedup]"
   ]
  },
  {
   "cell_type": "code",
   "execution_count": 3,
   "metadata": {
    "editable": true
   },
   "outputs": [],
   "source": [
    "import pandas as pd\n",
    "import os\n",
    "import glob\n",
    "#import psycopg2\n",
    "import pandas as pd\n",
    "import numpy as np\n",
    "#from sql_queries import *\n",
    "import datetime as dt\n",
    "import json\n",
    "from fuzzywuzzy import fuzz, process"
   ]
  },
  {
   "cell_type": "code",
   "execution_count": 4,
   "metadata": {
    "editable": true
   },
   "outputs": [],
   "source": [
    "import pyspark\n",
    "from pyspark import SparkConf\n",
    "from pyspark.sql import SparkSession\n",
    "\n",
    "from pyspark.sql.types import StructType, StructField\n",
    "from pyspark.sql.types import StringType, IntegerType, FloatType, TimestampType, LongType, DateType, NullType\n",
    "\n",
    "import datetime #Required for ts conversion\n",
    "#from pyspark.sql.functions import udf\n",
    "#from pyspark.sql import functions as F\n",
    "\n",
    "#import pyspark.sql.functions as F\n",
    "\n",
    "#from pyspark.sql.functions import lit\n",
    "from pyspark.sql.functions import year, month, dayofmonth, hour, minute, second\n",
    "\n",
    "#from pyspark.sql.functions import *\n",
    "from pyspark.sql.functions import udf, lit, datediff, when, col"
   ]
  },
  {
   "cell_type": "markdown",
   "metadata": {
    "editable": true
   },
   "source": [
    "##### Create spark session with hadoop-aws package"
   ]
  },
  {
   "cell_type": "code",
   "execution_count": 4,
   "metadata": {
    "editable": true
   },
   "outputs": [],
   "source": [
    "spark = SparkSession.builder.\\\n",
    "config(\"spark.jars.packages\",\"saurfang:spark-sas7bdat:2.0.0-s_2.11\")\\\n",
    ".enableHiveSupport().getOrCreate()"
   ]
  },
  {
   "cell_type": "code",
   "execution_count": 5,
   "metadata": {
    "editable": true
   },
   "outputs": [
    {
     "data": {
      "text/plain": [
       "[('spark.submit.pyFiles',\n",
       "  '/root/.ivy2/jars/saurfang_spark-sas7bdat-2.0.0-s_2.11.jar,/root/.ivy2/jars/com.epam_parso-2.0.8.jar,/root/.ivy2/jars/org.apache.logging.log4j_log4j-api-scala_2.11-2.7.jar,/root/.ivy2/jars/org.slf4j_slf4j-api-1.7.5.jar,/root/.ivy2/jars/org.scala-lang_scala-reflect-2.11.8.jar'),\n",
       " ('spark.repl.local.jars',\n",
       "  'file:///root/.ivy2/jars/saurfang_spark-sas7bdat-2.0.0-s_2.11.jar,file:///root/.ivy2/jars/com.epam_parso-2.0.8.jar,file:///root/.ivy2/jars/org.apache.logging.log4j_log4j-api-scala_2.11-2.7.jar,file:///root/.ivy2/jars/org.slf4j_slf4j-api-1.7.5.jar,file:///root/.ivy2/jars/org.scala-lang_scala-reflect-2.11.8.jar'),\n",
       " ('spark.executor.id', 'driver'),\n",
       " ('spark.jars.packages', 'saurfang:spark-sas7bdat:2.0.0-s_2.11'),\n",
       " ('spark.app.name', 'pyspark-shell'),\n",
       " ('spark.app.id', 'local-1582388996084'),\n",
       " ('spark.files',\n",
       "  'file:///root/.ivy2/jars/saurfang_spark-sas7bdat-2.0.0-s_2.11.jar,file:///root/.ivy2/jars/com.epam_parso-2.0.8.jar,file:///root/.ivy2/jars/org.apache.logging.log4j_log4j-api-scala_2.11-2.7.jar,file:///root/.ivy2/jars/org.slf4j_slf4j-api-1.7.5.jar,file:///root/.ivy2/jars/org.scala-lang_scala-reflect-2.11.8.jar'),\n",
       " ('spark.sql.catalogImplementation', 'hive'),\n",
       " ('spark.rdd.compress', 'True'),\n",
       " ('spark.serializer.objectStreamReset', '100'),\n",
       " ('spark.driver.port', '33391'),\n",
       " ('spark.jars',\n",
       "  'file:///root/.ivy2/jars/saurfang_spark-sas7bdat-2.0.0-s_2.11.jar,file:///root/.ivy2/jars/com.epam_parso-2.0.8.jar,file:///root/.ivy2/jars/org.apache.logging.log4j_log4j-api-scala_2.11-2.7.jar,file:///root/.ivy2/jars/org.slf4j_slf4j-api-1.7.5.jar,file:///root/.ivy2/jars/org.scala-lang_scala-reflect-2.11.8.jar'),\n",
       " ('spark.master', 'local[*]'),\n",
       " ('spark.driver.host', '1150c8c516d1'),\n",
       " ('spark.submit.deployMode', 'client'),\n",
       " ('spark.ui.showConsoleProgress', 'true')]"
      ]
     },
     "execution_count": 5,
     "metadata": {},
     "output_type": "execute_result"
    }
   ],
   "source": [
    "spark.sparkContext.getConf().getAll()"
   ]
  },
  {
   "cell_type": "code",
   "execution_count": 6,
   "metadata": {
    "editable": true
   },
   "outputs": [
    {
     "data": {
      "text/html": [
       "\n",
       "            <div>\n",
       "                <p><b>SparkSession - hive</b></p>\n",
       "                \n",
       "        <div>\n",
       "            <p><b>SparkContext</b></p>\n",
       "\n",
       "            <p><a href=\"http://1150c8c516d1:4041\">Spark UI</a></p>\n",
       "\n",
       "            <dl>\n",
       "              <dt>Version</dt>\n",
       "                <dd><code>v2.4.3</code></dd>\n",
       "              <dt>Master</dt>\n",
       "                <dd><code>local[*]</code></dd>\n",
       "              <dt>AppName</dt>\n",
       "                <dd><code>pyspark-shell</code></dd>\n",
       "            </dl>\n",
       "        </div>\n",
       "        \n",
       "            </div>\n",
       "        "
      ],
      "text/plain": [
       "<pyspark.sql.session.SparkSession at 0x7fb4380e6208>"
      ]
     },
     "execution_count": 6,
     "metadata": {},
     "output_type": "execute_result"
    }
   ],
   "source": [
    "spark"
   ]
  },
  {
   "cell_type": "code",
   "execution_count": 7,
   "metadata": {
    "editable": true
   },
   "outputs": [],
   "source": [
    "# Panda options\n",
    "pd.set_option('display.max_columns', None)\n",
    "pd.set_option('display.max_colwidth', 200)\n",
    "\n",
    "# for all rows set to None\n",
    "# pd.set_option('display.max_rows', None) \n",
    "\n",
    "pd.set_option('display.max_rows', 100) "
   ]
  },
  {
   "cell_type": "markdown",
   "metadata": {
    "editable": true
   },
   "source": [
    "##### Function"
   ]
  },
  {
   "cell_type": "code",
   "execution_count": null,
   "metadata": {
    "editable": true
   },
   "outputs": [],
   "source": []
  },
  {
   "cell_type": "markdown",
   "metadata": {
    "editable": true
   },
   "source": [
    "##### Gather"
   ]
  },
  {
   "cell_type": "code",
   "execution_count": 14,
   "metadata": {
    "editable": true
   },
   "outputs": [
    {
     "name": "stdout",
     "output_type": "stream",
     "text": [
      "2020-02-22 16:34:31.051485 : Read csv to dataframes\n"
     ]
    }
   ],
   "source": [
    "print(\"{} : Read csv to dataframes\".format(dt.datetime.now()))\n",
    "dfs_visatype1 = spark.read.csv('outputs/df_visatype1.csv', header=True)\n",
    "dfs_ac1 = spark.read.csv('outputs/df_ac1.csv', header=True)\n",
    "dfs_USPoE1 = spark.read.csv('outputs/df_USPoE1.csv', header=True)\n",
    "dfs_uszips1 = spark.read.csv('outputs/df_uszips1.csv', header=True)\n",
    "dfs_i94countrycode1 = spark.read.csv('outputs/df_i94countrycode1.csv', header=True)\n",
    "dfs_uscd1 = spark.read.csv('outputs/df_uscd1.csv', header=True)\n",
    "dfs_usdp = spark.read.csv('outputs/df_usdp.csv', header=True)\n",
    "dfs_usdr = spark.read.csv('outputs/df_usdr.csv', header=True)\n",
    "dfs_temper1 = spark.read.csv('outputs/df_temper1.csv', header=True)\n",
    "dfs_wc1 = spark.read.csv('outputs/df_wc1.csv', header=True)\n",
    "\n",
    "dfs_alc = spark.read.csv('outputs/df_alc.csv', header=True)\n",
    "dfs_visapost = spark.read.csv('outputs/df_visapost.csv', header=True)\n",
    "dfs_alpha2countrycode = spark.read.csv('outputs/df_alpha2countrycode.csv', header=True)\n",
    "dfs_iap = spark.read.csv('outputs/df_iap.csv', header=True)\n",
    "dfs_USstatecode = spark.read.csv('outputs/df_USstatecode.csv', header=True)"
   ]
  },
  {
   "cell_type": "code",
   "execution_count": 15,
   "metadata": {
    "editable": true
   },
   "outputs": [
    {
     "name": "stdout",
     "output_type": "stream",
     "text": [
      "2020-02-22 16:34:36.410255 : Read csv gzip to dataframe\n"
     ]
    }
   ],
   "source": [
    "i94_schema = StructType([\n",
    " StructField(\"CoC\", IntegerType()),\n",
    " StructField(\"CoR\", IntegerType()),\n",
    " StructField(\"PoE\", StringType()),\n",
    " StructField(\"landing_state\", StringType()),\n",
    " StructField(\"age\", IntegerType()),\n",
    " StructField(\"visa_issued_in\", StringType()),\n",
    " StructField(\"occup\", StringType()),\n",
    " StructField(\"biryear\", IntegerType()),\n",
    " StructField(\"gender\", StringType()),\n",
    " StructField(\"airline\", StringType()),\n",
    " StructField(\"admnum\", IntegerType()),\n",
    " StructField(\"fltno\", StringType()),\n",
    " StructField(\"visatype\", StringType()),\n",
    " StructField(\"arrival_mode\", StringType()),\n",
    " StructField(\"visit_purpose\", StringType()),\n",
    " StructField(\"arrival_dt\", DateType()),\n",
    " StructField(\"departure_dt\", DateType()),\n",
    " StructField(\"DaysinUS\", IntegerType()),\n",
    " StructField(\"added_to_i94\", DateType()),\n",
    " StructField(\"allowed_until\", DateType()),\n",
    " StructField(\"entry_exit\", StringType()),\n",
    " StructField(\"month\", IntegerType())\n",
    "])\n",
    "print(\"{} : Read csv gzip to dataframe\".format(dt.datetime.now()))\n",
    "\n",
    "# This limits reading to 50k rows as the whole file contains around 28M rows\n",
    "dfs_ids1 = spark.read.schema(i94_schema).csv('outputs-gzip/dfs_ids1.gzip', header=True).limit(10000)"
   ]
  },
  {
   "cell_type": "code",
   "execution_count": 16,
   "metadata": {
    "editable": true
   },
   "outputs": [
    {
     "name": "stdout",
     "output_type": "stream",
     "text": [
      "== Physical Plan ==\n",
      "CollectLimit 10000\n",
      "+- *(1) FileScan csv [CoC#704,CoR#705,PoE#706,landing_state#707,age#708,visa_issued_in#709,occup#710,biryear#711,gender#712,airline#713,admnum#714,fltno#715,visatype#716,arrival_mode#717,visit_purpose#718,arrival_dt#719,departure_dt#720,DaysinUS#721,added_to_i94#722,allowed_until#723,entry_exit#724,month#725] Batched: false, Format: CSV, Location: InMemoryFileIndex[file:/home/workspace/outputs-gzip/dfs_ids1.gzip], PartitionFilters: [], PushedFilters: [], ReadSchema: struct<CoC:int,CoR:int,PoE:string,landing_state:string,age:int,visa_issued_in:string,occup:string...\n"
     ]
    }
   ],
   "source": [
    "dfs_ids1.explain()"
   ]
  },
  {
   "cell_type": "code",
   "execution_count": 17,
   "metadata": {
    "editable": true
   },
   "outputs": [],
   "source": [
    "dfs_ids1.write\\\n",
    "  .format(\"com.databricks.spark.csv\")\\\n",
    "  .option(\"header\",\"true\")\\\n",
    "  .option(\"codec\", \"org.apache.hadoop.io.compress.GzipCodec\")\\\n",
    "  .save('./outputs-gzip/dfs_ids1_10k.gzip')"
   ]
  },
  {
   "cell_type": "code",
   "execution_count": 18,
   "metadata": {
    "editable": true
   },
   "outputs": [],
   "source": [
    "dfs_ids1 = spark.read.csv('outputs-gzip/dfs_ids1_10k.gzip', header=True)"
   ]
  },
  {
   "cell_type": "code",
   "execution_count": 19,
   "metadata": {
    "editable": true
   },
   "outputs": [
    {
     "name": "stdout",
     "output_type": "stream",
     "text": [
      "+---+---+---+-------------+---+--------------+-----+-------+------+-------+----------+-----+--------+------------+-------------+----------+------------+--------+------------+-------------+----------+-----+\n",
      "|CoC|CoR|PoE|landing_state|age|visa_issued_in|occup|biryear|gender|airline|    admnum|fltno|visatype|arrival_mode|visit_purpose|arrival_dt|departure_dt|DaysinUS|added_to_i94|allowed_until|entry_exit|month|\n",
      "+---+---+---+-------------+---+--------------+-----+-------+------+-------+----------+-----+--------+------------+-------------+----------+------------+--------+------------+-------------+----------+-----+\n",
      "|140|140|NYC|           NY| 45|          null| null|   1971|     F|     DL|2147483647|09858|      WT|         Air|     Pleasure|2016-07-01|  2016-07-22|      21|  2016-07-01|   2016-09-28|      exit|    7|\n",
      "|258|258|HOU|           TX|  5|           KRC| null|   2011|     F|     TK|2147483647|00033|      B2|         Air|     Pleasure|2016-07-10|  2016-08-26|      47|  2016-07-10|   2017-01-09|      exit|    7|\n",
      "|582|582|CHI|           IL| 28|           MTR| null|   1988|     F|     Y4|2147483647|00882|      B2|         Air|     Pleasure|2016-07-18|  2016-08-05|      18|  2016-07-18|   2017-01-17|      exit|    7|\n",
      "|108|108|SEA|           ID|  4|          null| null|   2012|     M|     DL|2147483647|  145|      WT|         Air|     Pleasure|2016-07-26|  2016-08-27|      32|  2016-08-28|   2016-10-23|      exit|    7|\n",
      "|135|135|ORL|           FL| 10|          null| null|   2006|     M|     VS|2147483647|00071|      WT|         Air|     Pleasure|2016-07-01|  2016-07-22|      21|  2016-07-01|   2016-09-28|      exit|    7|\n",
      "|369|369|NEW|           VT| 64|           ADD| null|   1952|     F|     ET|2147483647|00508|      B2|         Air|     Pleasure|2016-07-10|  2016-10-09|      91|  2016-07-10|   2017-01-09|      exit|    7|\n",
      "|514|514|ORL|           FL| 60|           KNG| null|   1956|     F|     BW|2147483647|00075|      B2|         Air|     Pleasure|2016-07-18|  2016-08-12|      25|  2016-07-18|   2017-01-17|      exit|    7|\n",
      "|135|135|ORL|           FL| 62|          null| null|   1954|     F|     VS|2147483647|   15|      WT|         Air|     Pleasure|2016-07-26|  2016-08-09|      14|  2016-08-09|   2016-10-23|      exit|    7|\n",
      "|124|124|TAM|           FL| 17|          null| null|   1999|     M|     LH|2147483647|00482|      WT|         Air|     Pleasure|2016-07-01|  2016-07-10|       9|  2016-07-01|   2016-09-28|      exit|    7|\n",
      "|582|582|MIA|           FL| 66|           MEX| null|   1950|     M|     4O|2147483647|02962|      B2|         Air|     Pleasure|2016-07-10|  2016-07-17|       7|  2016-07-10|   2017-01-09|      exit|    7|\n",
      "|130|130|LOS|           CA|  1|          null| null|   2015|     M|     SU|2147483647|00106|      WT|         Air|     Pleasure|2016-07-01|  2016-07-27|      26|  2016-07-01|   2016-09-28|      exit|    7|\n",
      "|108|108|SEA|           ID| 12|          null| null|   2004|     M|     DL|2147483647|  145|      WT|         Air|     Pleasure|2016-07-26|  2016-08-27|      32|  2016-08-28|   2016-10-23|      exit|    7|\n",
      "|343|343|CHI|           TX| 49|           LGS| null|   1967|     M|     UA|2147483647|00945|      B2|         Air|     Pleasure|2016-07-18|  2016-08-08|      21|  2016-07-18|   2017-01-17|      exit|    7|\n",
      "|245|245|LOS|           CA| 28|           SHG| null|   1988|     F|     DL|2147483647|00186|      B2|         Air|     Pleasure|2016-07-10|  2016-07-22|      12|  2016-07-10|   2017-01-09|      exit|    7|\n",
      "|135|135|SFR|           CA| 51|          null| null|   1965|     M|     BA|2147483647|00285|      WT|         Air|     Pleasure|2016-07-01|  2016-07-13|      12|  2016-07-01|   2016-09-28|      exit|    7|\n",
      "|117|117|NYC|           NY| 54|          null| null|   1962|     M|     DL|2147483647|  445|      WT|         Air|     Pleasure|2016-07-26|  2016-07-31|       5|  2016-07-31|   2016-10-23|      exit|    7|\n",
      "|336|373|CHI|           MI| 19|           GAB| null|   1997|     M|     UA|2147483647|00945|      B2|         Air|     Pleasure|2016-07-18|  2016-07-31|      13|  2016-07-18|   2017-01-17|      exit|    7|\n",
      "|245|245|WAS|           VA| 18|           GUZ| null|   1998|     F|     UA|2147483647|00808|      B2|         Air|     Pleasure|2016-07-10|  2016-07-22|      12|  2016-07-10|   2017-01-09|      exit|    7|\n",
      "|115|115|OAK|           CA| 13|          null| null|   2003|     F|     DY|2147483647|07067|      WT|         Air|     Pleasure|2016-07-01|  2016-07-11|      10|  2016-07-01|   2016-09-28|      exit|    7|\n",
      "|342|342|CHI|           MI| 50|          null| null|   1966|     F|     EK|2147483647|  235|      B2|         Air|     Pleasure|2016-07-26|  2016-08-22|      27|  2016-08-23|   2017-01-25|      exit|    7|\n",
      "+---+---+---+-------------+---+--------------+-----+-------+------+-------+----------+-----+--------+------------+-------------+----------+------------+--------+------------+-------------+----------+-----+\n",
      "only showing top 20 rows\n",
      "\n",
      "CPU times: user 1.49 ms, sys: 285 µs, total: 1.78 ms\n",
      "Wall time: 413 ms\n"
     ]
    }
   ],
   "source": [
    "%%time\n",
    "#dfs_ids1.count()\n",
    "dfs_ids1.show()"
   ]
  },
  {
   "cell_type": "code",
   "execution_count": 20,
   "metadata": {
    "editable": true
   },
   "outputs": [
    {
     "name": "stdout",
     "output_type": "stream",
     "text": [
      "2020-02-22 16:39:48.964385 : Cleaned dataframes rows count\n",
      "dfs_visatype1   = 108\n",
      "dfs_ac1         = 113\n",
      "dfs_USPoE1      = 526\n",
      "dfs_uszips1     = 33099\n",
      "dfs_ids1        = 10000\n",
      "dfs_i94countrycode1 = 236\n",
      "dfs_uscd1       = 2883\n",
      "dfs_usdp        = 594\n",
      "dfs_usdr        = 594\n",
      "dfs_temper1     = 639649\n",
      "dfs_wc1         = 15493\n",
      "2020-02-22 16:39:52.065908 : Datasets with no changes/updates\n",
      "dfs_alc         = 1571\n",
      "dfs_visapost    = 284\n",
      "dfs_alpha2countrycode = 249\n",
      "dfs_iap         = 1304\n",
      "dfs_USstatecode = 62\n"
     ]
    }
   ],
   "source": [
    "##### Rows Count ##### \n",
    "print(\"{} : Cleaned dataframes rows count\".format(dt.datetime.now()))\n",
    "print(\"{:15} = {}\".format(\"dfs_visatype1\", dfs_visatype1.count() ))\n",
    "print(\"{:15} = {}\".format(\"dfs_ac1\", dfs_ac1.count() ))\n",
    "print(\"{:15} = {}\".format(\"dfs_USPoE1\", dfs_USPoE1.count() ))\n",
    "print(\"{:15} = {}\".format(\"dfs_uszips1\", dfs_uszips1.count() ))\n",
    "\n",
    "#Full dataframe is 28217609(process-df.py)\n",
    "print(\"{:15} = {}\".format(\"dfs_ids1\", dfs_ids1.count()))    \n",
    "\n",
    "print(\"{:15} = {}\".format(\"dfs_i94countrycode1\", dfs_i94countrycode1.count() ))\n",
    "print(\"{:15} = {}\".format(\"dfs_uscd1\", dfs_uscd1.count() ))\n",
    "print(\"{:15} = {}\".format(\"dfs_usdp\", dfs_usdp.count() ))\n",
    "print(\"{:15} = {}\".format(\"dfs_usdr\", dfs_usdr.count() ))\n",
    "print(\"{:15} = {}\".format(\"dfs_temper1\", dfs_temper1.count() ))\n",
    "print(\"{:15} = {}\".format(\"dfs_wc1\", dfs_wc1.count() ))\n",
    "\n",
    "print(\"{} : Datasets with no changes/updates\".format(dt.datetime.now()))\n",
    "print(\"{:15} = {}\".format(\"dfs_alc\", dfs_alc.count() ))\n",
    "print(\"{:15} = {}\".format(\"dfs_visapost\", dfs_visapost.count() ))\n",
    "print(\"{:15} = {}\".format(\"dfs_alpha2countrycode\", dfs_alpha2countrycode.count() ))\n",
    "print(\"{:15} = {}\".format(\"dfs_iap\", dfs_iap.count() ))\n",
    "print(\"{:15} = {}\".format(\"dfs_USstatecode\", dfs_USstatecode.count() ))    "
   ]
  },
  {
   "cell_type": "markdown",
   "metadata": {
    "editable": true
   },
   "source": [
    "##### Assess"
   ]
  },
  {
   "cell_type": "code",
   "execution_count": 21,
   "metadata": {
    "editable": true
   },
   "outputs": [],
   "source": [
    "dfs_visatype1.createOrReplaceTempView(\"stab_visatype1\")\n",
    "dfs_ac1.createOrReplaceTempView(\"stab_ac1\")\n",
    "dfs_USPoE1.createOrReplaceTempView(\"stab_USPoE1\")\n",
    "dfs_uszips1.createOrReplaceTempView(\"stab_uszips1\")\n",
    "dfs_i94countrycode1.createOrReplaceTempView(\"stab_i94countrycode1\")\n",
    "dfs_uscd1.createOrReplaceTempView(\"stab_uscd1\")\n",
    "dfs_usdp.createOrReplaceTempView(\"stab_usdp\")\n",
    "dfs_usdr.createOrReplaceTempView(\"stab_usdr\")\n",
    "dfs_temper1.createOrReplaceTempView(\"stab_temper1\")\n",
    "dfs_wc1.createOrReplaceTempView(\"stab_wc1\")\n",
    "\n",
    "dfs_alc.createOrReplaceTempView(\"stab_alc\")\n",
    "dfs_visapost.createOrReplaceTempView(\"stab_visapost\")\n",
    "dfs_alpha2countrycode.createOrReplaceTempView(\"stab_alpha2countrycode\")\n",
    "dfs_iap.createOrReplaceTempView(\"stab_iap\")\n",
    "dfs_USstatecode.createOrReplaceTempView(\"stab_USstatecode\")\n",
    "\n",
    "dfs_ids1.createOrReplaceTempView(\"stab_ids1\")"
   ]
  },
  {
   "cell_type": "code",
   "execution_count": 22,
   "metadata": {
    "editable": true
   },
   "outputs": [
    {
     "name": "stdout",
     "output_type": "stream",
     "text": [
      "+----+------------------+\n",
      "|code|       description|\n",
      "+----+------------------+\n",
      "| 02Q|     Titan Airways|\n",
      "| 04Q|Tradewind Aviation|\n",
      "+----+------------------+\n",
      "\n"
     ]
    }
   ],
   "source": [
    "spark.sql('''\n",
    "select * from stab_alc limit 2\n",
    "''').show()"
   ]
  },
  {
   "cell_type": "code",
   "execution_count": 23,
   "metadata": {
    "editable": true
   },
   "outputs": [
    {
     "name": "stdout",
     "output_type": "stream",
     "text": [
      "+---+---+---+-------------+---+--------------+-----+-------+------+-------+----------+-----+--------+------------+-------------+----------+------------+--------+------------+-------------+----------+-----+\n",
      "|CoC|CoR|PoE|landing_state|age|visa_issued_in|occup|biryear|gender|airline|    admnum|fltno|visatype|arrival_mode|visit_purpose|arrival_dt|departure_dt|DaysinUS|added_to_i94|allowed_until|entry_exit|month|\n",
      "+---+---+---+-------------+---+--------------+-----+-------+------+-------+----------+-----+--------+------------+-------------+----------+------------+--------+------------+-------------+----------+-----+\n",
      "|140|140|NYC|           NY| 45|          null| null|   1971|     F|     DL|2147483647|09858|      WT|         Air|     Pleasure|2016-07-01|  2016-07-22|      21|  2016-07-01|   2016-09-28|      exit|    7|\n",
      "|258|258|HOU|           TX|  5|           KRC| null|   2011|     F|     TK|2147483647|00033|      B2|         Air|     Pleasure|2016-07-10|  2016-08-26|      47|  2016-07-10|   2017-01-09|      exit|    7|\n",
      "+---+---+---+-------------+---+--------------+-----+-------+------+-------+----------+-----+--------+------------+-------------+----------+------------+--------+------------+-------------+----------+-----+\n",
      "\n",
      "CPU times: user 1.71 ms, sys: 324 µs, total: 2.03 ms\n",
      "Wall time: 219 ms\n"
     ]
    }
   ],
   "source": [
    "%%time\n",
    "spark.sql('''\n",
    "select * from stab_ids1 limit 2\n",
    "''').show()"
   ]
  },
  {
   "cell_type": "code",
   "execution_count": 24,
   "metadata": {
    "editable": true
   },
   "outputs": [
    {
     "name": "stdout",
     "output_type": "stream",
     "text": [
      "CPU times: user 5.22 ms, sys: 2.35 ms, total: 7.58 ms\n",
      "Wall time: 239 ms\n"
     ]
    },
    {
     "data": {
      "text/plain": [
       "[Row(CoC='140', CoR='140', PoE='NYC', landing_state='NY', age='45', visa_issued_in=None, occup=None, biryear='1971', gender='F', airline='DL', admnum='2147483647', fltno='09858', visatype='WT', arrival_mode='Air', visit_purpose='Pleasure', arrival_dt='2016-07-01', departure_dt='2016-07-22', DaysinUS='21', added_to_i94='2016-07-01', allowed_until='2016-09-28', entry_exit='exit', month='7'),\n",
       " Row(CoC='258', CoR='258', PoE='HOU', landing_state='TX', age='5', visa_issued_in='KRC', occup=None, biryear='2011', gender='F', airline='TK', admnum='2147483647', fltno='00033', visatype='B2', arrival_mode='Air', visit_purpose='Pleasure', arrival_dt='2016-07-10', departure_dt='2016-08-26', DaysinUS='47', added_to_i94='2016-07-10', allowed_until='2017-01-09', entry_exit='exit', month='7')]"
      ]
     },
     "execution_count": 24,
     "metadata": {},
     "output_type": "execute_result"
    }
   ],
   "source": [
    "%%time\n",
    "dfs_ids1.take(2)"
   ]
  },
  {
   "cell_type": "code",
   "execution_count": 25,
   "metadata": {
    "editable": true
   },
   "outputs": [
    {
     "name": "stdout",
     "output_type": "stream",
     "text": [
      "+---+---+---+-------------+---+--------------+-----+-------+------+-------+----------+-----+--------+------------+-------------+----------+------------+--------+------------+-------------+----------+-----+\n",
      "|CoC|CoR|PoE|landing_state|age|visa_issued_in|occup|biryear|gender|airline|    admnum|fltno|visatype|arrival_mode|visit_purpose|arrival_dt|departure_dt|DaysinUS|added_to_i94|allowed_until|entry_exit|month|\n",
      "+---+---+---+-------------+---+--------------+-----+-------+------+-------+----------+-----+--------+------------+-------------+----------+------------+--------+------------+-------------+----------+-----+\n",
      "|140|140|NYC|           NY| 45|          null| null|   1971|     F|     DL|2147483647|09858|      WT|         Air|     Pleasure|2016-07-01|  2016-07-22|      21|  2016-07-01|   2016-09-28|      exit|    7|\n",
      "|258|258|HOU|           TX|  5|           KRC| null|   2011|     F|     TK|2147483647|00033|      B2|         Air|     Pleasure|2016-07-10|  2016-08-26|      47|  2016-07-10|   2017-01-09|      exit|    7|\n",
      "+---+---+---+-------------+---+--------------+-----+-------+------+-------+----------+-----+--------+------------+-------------+----------+------------+--------+------------+-------------+----------+-----+\n",
      "only showing top 2 rows\n",
      "\n",
      "CPU times: user 1.69 ms, sys: 0 ns, total: 1.69 ms\n",
      "Wall time: 214 ms\n"
     ]
    }
   ],
   "source": [
    "%%time\n",
    "dfs_ids1.show(2)"
   ]
  },
  {
   "cell_type": "code",
   "execution_count": 26,
   "metadata": {
    "editable": true
   },
   "outputs": [
    {
     "name": "stdout",
     "output_type": "stream",
     "text": [
      "root\n",
      " |-- visatype: string (nullable = true)\n",
      " |-- description: string (nullable = true)\n",
      "\n",
      "root\n",
      " |-- type: string (nullable = true)\n",
      " |-- name: string (nullable = true)\n",
      " |-- elevation_ft: string (nullable = true)\n",
      " |-- continent: string (nullable = true)\n",
      " |-- iso_country: string (nullable = true)\n",
      " |-- iso_region: string (nullable = true)\n",
      " |-- municipality: string (nullable = true)\n",
      " |-- iata_code: string (nullable = true)\n",
      " |-- local_code: string (nullable = true)\n",
      " |-- coordinates: string (nullable = true)\n",
      " |-- longitude: string (nullable = true)\n",
      " |-- latitude: string (nullable = true)\n",
      " |-- state: string (nullable = true)\n",
      " |-- facilities: string (nullable = true)\n",
      "\n",
      "root\n",
      " |-- code: string (nullable = true)\n",
      " |-- citystate: string (nullable = true)\n",
      " |-- city: string (nullable = true)\n",
      " |-- state: string (nullable = true)\n",
      "\n",
      "root\n",
      " |-- zip: string (nullable = true)\n",
      " |-- lat: string (nullable = true)\n",
      " |-- lng: string (nullable = true)\n",
      " |-- city: string (nullable = true)\n",
      " |-- state_id: string (nullable = true)\n",
      " |-- state_name: string (nullable = true)\n",
      " |-- population: string (nullable = true)\n",
      " |-- density: string (nullable = true)\n",
      " |-- county_fips: string (nullable = true)\n",
      " |-- county_name: string (nullable = true)\n",
      "\n",
      "root\n",
      " |-- code: string (nullable = true)\n",
      " |-- country: string (nullable = true)\n",
      "\n",
      "root\n",
      " |-- City: string (nullable = true)\n",
      " |-- State: string (nullable = true)\n",
      " |-- Median Age: string (nullable = true)\n",
      " |-- Male Population: string (nullable = true)\n",
      " |-- Female Population: string (nullable = true)\n",
      " |-- Total Population: string (nullable = true)\n",
      " |-- Number of Veterans: string (nullable = true)\n",
      " |-- Foreign-born: string (nullable = true)\n",
      " |-- Average Household Size: string (nullable = true)\n",
      " |-- State Code: string (nullable = true)\n",
      " |-- Race: string (nullable = true)\n",
      " |-- Count: string (nullable = true)\n",
      "\n",
      "root\n",
      " |-- State: string (nullable = true)\n",
      " |-- City: string (nullable = true)\n",
      " |-- Median_Age: string (nullable = true)\n",
      " |-- State_Code: string (nullable = true)\n",
      " |-- Male Population: string (nullable = true)\n",
      " |-- Female_Population: string (nullable = true)\n",
      " |-- Total_Population: string (nullable = true)\n",
      " |-- Number_of_Veterans: string (nullable = true)\n",
      " |-- Foreign_born: string (nullable = true)\n",
      "\n",
      "root\n",
      " |-- State: string (nullable = true)\n",
      " |-- City: string (nullable = true)\n",
      " |-- State_Code: string (nullable = true)\n",
      " |-- American_Indian_and_Alaska_Native: string (nullable = true)\n",
      " |-- Asian: string (nullable = true)\n",
      " |-- Black_or_African_American: string (nullable = true)\n",
      " |-- Hispanic_or_Latino: string (nullable = true)\n",
      " |-- White: string (nullable = true)\n",
      "\n",
      "root\n",
      " |-- dt: string (nullable = true)\n",
      " |-- AverageTemperature: string (nullable = true)\n",
      " |-- City: string (nullable = true)\n",
      " |-- Country: string (nullable = true)\n",
      "\n",
      "root\n",
      " |-- city: string (nullable = true)\n",
      " |-- city_ascii: string (nullable = true)\n",
      " |-- lat: string (nullable = true)\n",
      " |-- lng: string (nullable = true)\n",
      " |-- country: string (nullable = true)\n",
      " |-- iso2: string (nullable = true)\n",
      " |-- iso3: string (nullable = true)\n",
      " |-- admin_name: string (nullable = true)\n",
      " |-- capital: string (nullable = true)\n",
      " |-- population: string (nullable = true)\n",
      " |-- id: string (nullable = true)\n",
      "\n",
      "root\n",
      " |-- code: string (nullable = true)\n",
      " |-- description: string (nullable = true)\n",
      "\n",
      "root\n",
      " |-- location: string (nullable = true)\n",
      " |-- code: string (nullable = true)\n",
      "\n",
      "root\n",
      " |-- country: string (nullable = true)\n",
      " |-- alpha2: string (nullable = true)\n",
      " |-- alpha3: string (nullable = true)\n",
      " |-- Num: string (nullable = true)\n",
      " |-- ITU: string (nullable = true)\n",
      " |-- GEC: string (nullable = true)\n",
      " |-- IOC: string (nullable = true)\n",
      " |-- FIFA: string (nullable = true)\n",
      " |-- DS: string (nullable = true)\n",
      " |-- WMO: string (nullable = true)\n",
      " |-- GAUL: string (nullable = true)\n",
      " |-- MARC: string (nullable = true)\n",
      " |-- dial: string (nullable = true)\n",
      " |-- independent: string (nullable = true)\n",
      " |-- VisaRequired: string (nullable = true)\n",
      "\n",
      "root\n",
      " |-- Location: string (nullable = true)\n",
      " |-- Airport: string (nullable = true)\n",
      " |-- IATA: string (nullable = true)\n",
      "\n",
      "root\n",
      " |-- code: string (nullable = true)\n",
      " |-- state: string (nullable = true)\n",
      " |-- status: string (nullable = true)\n",
      "\n",
      "root\n",
      " |-- CoC: string (nullable = true)\n",
      " |-- CoR: string (nullable = true)\n",
      " |-- PoE: string (nullable = true)\n",
      " |-- landing_state: string (nullable = true)\n",
      " |-- age: string (nullable = true)\n",
      " |-- visa_issued_in: string (nullable = true)\n",
      " |-- occup: string (nullable = true)\n",
      " |-- biryear: string (nullable = true)\n",
      " |-- gender: string (nullable = true)\n",
      " |-- airline: string (nullable = true)\n",
      " |-- admnum: string (nullable = true)\n",
      " |-- fltno: string (nullable = true)\n",
      " |-- visatype: string (nullable = true)\n",
      " |-- arrival_mode: string (nullable = true)\n",
      " |-- visit_purpose: string (nullable = true)\n",
      " |-- arrival_dt: string (nullable = true)\n",
      " |-- departure_dt: string (nullable = true)\n",
      " |-- DaysinUS: string (nullable = true)\n",
      " |-- added_to_i94: string (nullable = true)\n",
      " |-- allowed_until: string (nullable = true)\n",
      " |-- entry_exit: string (nullable = true)\n",
      " |-- month: string (nullable = true)\n",
      "\n"
     ]
    }
   ],
   "source": [
    "dfs_visatype1.printSchema()\n",
    "dfs_ac1.printSchema()\n",
    "dfs_USPoE1.printSchema()\n",
    "dfs_uszips1.printSchema()\n",
    "dfs_i94countrycode1.printSchema()\n",
    "dfs_uscd1.printSchema()\n",
    "dfs_usdp.printSchema()\n",
    "dfs_usdr.printSchema()\n",
    "dfs_temper1.printSchema()\n",
    "dfs_wc1.printSchema()\n",
    "\n",
    "dfs_alc.printSchema()\n",
    "dfs_visapost.printSchema()\n",
    "dfs_alpha2countrycode.printSchema()\n",
    "dfs_iap.printSchema()\n",
    "dfs_USstatecode.printSchema()\n",
    "\n",
    "dfs_ids1.printSchema()"
   ]
  },
  {
   "cell_type": "code",
   "execution_count": 27,
   "metadata": {
    "editable": true
   },
   "outputs": [
    {
     "name": "stdout",
     "output_type": "stream",
     "text": [
      "+--------------+--------------------+------------+---------+-----------+----------+-------------+---------+----------+--------------------+------------------+-----------------+-----+----------+\n",
      "|          type|                name|elevation_ft|continent|iso_country|iso_region| municipality|iata_code|local_code|         coordinates|         longitude|         latitude|state|facilities|\n",
      "+--------------+--------------------+------------+---------+-----------+----------+-------------+---------+----------+--------------------+------------------+-----------------+-----+----------+\n",
      "| large_airport|Albuquerque Inter...|      5355.0|     null|         US|     US-NM|  Albuquerque|      ABQ|       ABQ|-106.609001, 35.0...|       -106.609001|        35.040199|   NM|        CI|\n",
      "|medium_airport|Atlantic City Int...|        75.0|     null|         US|     US-NJ|Atlantic City|      ACY|       ACY|-74.5772018432617...|-74.57720184326172|39.45759963989258|   NJ|        CI|\n",
      "|medium_airport|Akron Fulton Inte...|      1067.0|     null|         US|     US-OH|        Akron|      AKC|       AKR|-81.4669036865, 4...|    -81.4669036865|    41.0374984741|   OH|        CI|\n",
      "|medium_airport|Albany Internatio...|       285.0|     null|         US|     US-NY|       Albany|      ALB|       ALB|-73.8016967773437...|-73.80169677734375|42.74829864501953|   NY|        CI|\n",
      "| large_airport|Hartsfield Jackso...|      1026.0|     null|         US|     US-GA|      Atlanta|      ATL|       ATL| -84.428101, 33.6367|        -84.428101|          33.6367|   GA|        CI|\n",
      "+--------------+--------------------+------------+---------+-----------+----------+-------------+---------+----------+--------------------+------------------+-----------------+-----+----------+\n",
      "only showing top 5 rows\n",
      "\n"
     ]
    }
   ],
   "source": [
    "dfs_ac1.show(5)"
   ]
  },
  {
   "cell_type": "code",
   "execution_count": 28,
   "metadata": {
    "editable": true
   },
   "outputs": [],
   "source": [
    "# close spark sessoion\n",
    "spark.stop()"
   ]
  },
  {
   "cell_type": "code",
   "execution_count": null,
   "metadata": {
    "editable": true
   },
   "outputs": [],
   "source": []
  },
  {
   "cell_type": "markdown",
   "metadata": {
    "editable": true
   },
   "source": [
    "#### Reducing the inputs dataset size for project submission\n",
    "##### Weather dataset is 499MB, so filtering it to 3 countries to reduce size"
   ]
  },
  {
   "cell_type": "code",
   "execution_count": 11,
   "metadata": {
    "editable": true
   },
   "outputs": [],
   "source": [
    "# World Temperature Data\n",
    "#df_temper = pd.read_csv('inputs/world_temperature.csv')"
   ]
  },
  {
   "cell_type": "code",
   "execution_count": 12,
   "metadata": {
    "editable": true
   },
   "outputs": [
    {
     "name": "stdout",
     "output_type": "stream",
     "text": [
      "Total Rows =  765988\n",
      "Total Countries =  3\n",
      "Total Cities =  285\n"
     ]
    },
    {
     "data": {
      "text/plain": [
       "array(['United States', 'Argentina', 'Finland'], dtype=object)"
      ]
     },
     "execution_count": 12,
     "metadata": {},
     "output_type": "execute_result"
    }
   ],
   "source": [
    "# df_temper1  = df_temper.copy()\n",
    "# print('Total Rows = ',df_temper1.shape[0])\n",
    "# print('Total Countries = ',df_temper1.Country.unique().shape[0])\n",
    "# print('Total Cities = ',df_temper1.City.unique().shape[0])\n",
    "# df_temper1.Country.unique()"
   ]
  },
  {
   "cell_type": "code",
   "execution_count": 9,
   "metadata": {
    "editable": true
   },
   "outputs": [
    {
     "name": "stdout",
     "output_type": "stream",
     "text": [
      "Total Rows =  765988\n",
      "Total Countries =  3\n",
      "Total Cities =  285\n"
     ]
    },
    {
     "data": {
      "text/plain": [
       "array(['United States', 'Argentina', 'Finland'], dtype=object)"
      ]
     },
     "execution_count": 9,
     "metadata": {},
     "output_type": "execute_result"
    }
   ],
   "source": [
    "# countries = ['Argentina', 'United States', 'Finland']\n",
    "# df_temper1 = df_temper1[df_temper1.Country.isin(countries)].copy()\n",
    "# print('Total Rows = ',df_temper1.shape[0])\n",
    "# print('Total Countries = ',df_temper1.Country.unique().shape[0])\n",
    "# print('Total Cities = ',df_temper1.City.unique().shape[0])\n",
    "# df_temper1.Country.unique()"
   ]
  },
  {
   "cell_type": "code",
   "execution_count": 10,
   "metadata": {
    "editable": true
   },
   "outputs": [],
   "source": [
    "# df_temper1.to_csv('inputs/world_temperature.csv', encoding='utf-8', index=False)"
   ]
  },
  {
   "cell_type": "code",
   "execution_count": null,
   "metadata": {
    "editable": true
   },
   "outputs": [],
   "source": []
  },
  {
   "cell_type": "code",
   "execution_count": null,
   "metadata": {
    "editable": true
   },
   "outputs": [],
   "source": []
  }
 ],
 "metadata": {
  "kernelspec": {
   "display_name": "Python 3",
   "language": "python",
   "name": "python3"
  },
  "language_info": {
   "codemirror_mode": {
    "name": "ipython",
    "version": 3
   },
   "file_extension": ".py",
   "mimetype": "text/x-python",
   "name": "python",
   "nbconvert_exporter": "python",
   "pygments_lexer": "ipython3",
   "version": "3.6.3"
  }
 },
 "nbformat": 4,
 "nbformat_minor": 4
}
