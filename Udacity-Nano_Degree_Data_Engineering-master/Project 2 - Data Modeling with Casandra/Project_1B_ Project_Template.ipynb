{
 "cells": [
  {
   "cell_type": "markdown",
   "metadata": {},
   "source": [
    "# Part I. ETL Pipeline for Pre-Processing the Files"
   ]
  },
  {
   "cell_type": "markdown",
   "metadata": {},
   "source": [
    "##### PLEASE RUN THE FOLLOWING CODE FOR PRE-PROCESSING THE FILES"
   ]
  },
  {
   "cell_type": "markdown",
   "metadata": {},
   "source": [
    "#### Import Python packages "
   ]
  },
  {
   "cell_type": "code",
   "execution_count": 79,
   "metadata": {},
   "outputs": [],
   "source": [
    "# 1. Import Python packages \n",
    "import pandas as pd\n",
    "import cassandra\n",
    "import re\n",
    "import os\n",
    "import glob\n",
    "import numpy as np\n",
    "import json\n",
    "import csv"
   ]
  },
  {
   "cell_type": "code",
   "execution_count": 80,
   "metadata": {},
   "outputs": [],
   "source": [
    "def duplicate_check(in_df):\n",
    "    \"\"\" \n",
    "    Summary line. \n",
    "    Check for duplicates\n",
    "  \n",
    "    Parameters: \n",
    "    arg1 (dataframe)\n",
    "  \n",
    "    Returns: \n",
    "    duplicates.shape\n",
    "    \"\"\"    \n",
    "    bool_series = in_df.duplicated() \n",
    "    # display data \n",
    "    #print(df_clean[bool_series].shape)\n",
    "    return in_df[bool_series].shape\n",
    "\n",
    "def remove_duplicates(in_df):\n",
    "    \"\"\" \n",
    "    Summary line. \n",
    "    Removes duplicates\n",
    "  \n",
    "    Parameters: \n",
    "    arg1 (in_df)\n",
    "  \n",
    "    Returns: \n",
    "    return unique dataframe\n",
    "    \"\"\"    \n",
    "    bool_series = in_df.duplicated() \n",
    "    # removing duplicates\n",
    "    df_ndup = in_df[~bool_series]\n",
    "    return df_ndup\n",
    "\n",
    "def show_duplicates(in_df):\n",
    "    \"\"\" \n",
    "    Summary line. \n",
    "    Show duplicates\n",
    "  \n",
    "    Parameters: \n",
    "    arg1 (in_df)\n",
    "  \n",
    "    Returns: \n",
    "    returns rows having duplicates\n",
    "    \"\"\"        \n",
    "    bool_series = in_df.duplicated()\n",
    "    return in_df[bool_series]\n",
    "\n",
    "def run_cql(query, session):\n",
    "    \"\"\" \n",
    "    Summary line. \n",
    "    Run Cassandra Queries\n",
    "  \n",
    "    Parameters: \n",
    "    arg1 (query) : CQL\n",
    "    arg2 (session)\n",
    "  \n",
    "    Returns: \n",
    "    None\n",
    "    \"\"\"        \n",
    "    try:\n",
    "        rs1 = session.execute(query)\n",
    "    except Exception as e:\n",
    "        print(e)\n",
    "\n",
    "    for row in rs1:\n",
    "        print (row)\n"
   ]
  },
  {
   "cell_type": "markdown",
   "metadata": {},
   "source": [
    "# GATHER"
   ]
  },
  {
   "cell_type": "markdown",
   "metadata": {},
   "source": [
    "#### Creating list of filepaths to process original event csv data files"
   ]
  },
  {
   "cell_type": "code",
   "execution_count": 81,
   "metadata": {},
   "outputs": [
    {
     "name": "stdout",
     "output_type": "stream",
     "text": [
      "Current Working Directory :  /home/workspace\n",
      "/home/workspace/event_data\n",
      "33 files found in /home/workspace/event_data\n"
     ]
    }
   ],
   "source": [
    "# 2. checking your current working directory\n",
    "print('Current Working Directory : ',os.getcwd())\n",
    "\n",
    "# Get your current folder and subfolder event data\n",
    "filepath = os.getcwd() + '/event_data'\n",
    "print(filepath)\n",
    "\n",
    "# Create a for loop to create a list of files and collect each filepath\n",
    "# 3. join the file path and roots with the subdirectories using glob\n",
    "#    get all files matching extension from directory\n",
    "all_files = []\n",
    "for root, dirs, files in os.walk(filepath):\n",
    "    files = glob.glob(os.path.join(root,'*.csv'))\n",
    "    for f in files :\n",
    "        all_files.append(os.path.abspath(f))\n",
    "\n",
    "# get total number of files found\n",
    "num_files = len(all_files)\n",
    "print('{} files found in {}'.format(num_files, filepath))"
   ]
  },
  {
   "cell_type": "markdown",
   "metadata": {},
   "source": [
    "#### Processing the files to create the data file csv that will be used for Apache Casssandra tables"
   ]
  },
  {
   "cell_type": "code",
   "execution_count": 82,
   "metadata": {},
   "outputs": [
    {
     "name": "stdout",
     "output_type": "stream",
     "text": [
      "Total Files =  33\n",
      "File 0 : /home/workspace/event_data/2018-11-04-events.csv\n",
      "File 1 : /home/workspace/event_data/2018-11-01-events.csv\n",
      "File 2 : /home/workspace/event_data/2018-11-22-events.csv\n",
      "File 3 : /home/workspace/event_data/2018-11-27-events.csv\n",
      "File 4 : /home/workspace/event_data/2018-11-24-events.csv\n",
      "File 5 : /home/workspace/event_data/2018-11-18-events.csv\n",
      "File 6 : /home/workspace/event_data/2018-11-03-events.csv\n",
      "File 7 : /home/workspace/event_data/2018-11-20-events.csv\n",
      "File 8 : /home/workspace/event_data/2018-11-11-events.csv\n",
      "File 9 : /home/workspace/event_data/2018-11-29-events.csv\n",
      "File 10 : /home/workspace/event_data/2018-11-02-events.csv\n",
      "File 11 : /home/workspace/event_data/2018-11-26-events.csv\n",
      "File 12 : /home/workspace/event_data/2018-11-13-events.csv\n",
      "File 13 : /home/workspace/event_data/2018-11-28-events.csv\n",
      "File 14 : /home/workspace/event_data/2018-11-25-events.csv\n",
      "File 15 : /home/workspace/event_data/2018-11-30-events.csv\n",
      "File 16 : /home/workspace/event_data/2018-11-12-events.csv\n",
      "File 17 : /home/workspace/event_data/2018-11-06-events.csv\n",
      "File 18 : /home/workspace/event_data/2018-11-08-events.csv\n",
      "File 19 : /home/workspace/event_data/2018-11-07-events.csv\n",
      "File 20 : /home/workspace/event_data/2018-11-10-events.csv\n",
      "File 21 : /home/workspace/event_data/2018-11-19-events.csv\n",
      "File 22 : /home/workspace/event_data/2018-11-14-events.csv\n",
      "File 23 : /home/workspace/event_data/2018-11-09-events.csv\n",
      "File 24 : /home/workspace/event_data/2018-11-21-events.csv\n",
      "File 25 : /home/workspace/event_data/2018-11-23-events.csv\n",
      "File 26 : /home/workspace/event_data/2018-11-17-events.csv\n",
      "File 27 : /home/workspace/event_data/2018-11-05-events.csv\n",
      "File 28 : /home/workspace/event_data/2018-11-15-events.csv\n",
      "File 29 : /home/workspace/event_data/2018-11-16-events.csv\n",
      "File 30 : /home/workspace/event_data/.ipynb_checkpoints/2018-11-01-events-checkpoint.csv\n",
      "File 31 : /home/workspace/event_data/.ipynb_checkpoints/2018-11-11-events-checkpoint.csv\n",
      "File 32 : /home/workspace/event_data/.ipynb_checkpoints/2018-11-30-events-checkpoint.csv\n",
      "Total Records =  8554\n",
      "Sample Record\n",
      "['', 'Logged In', 'Theodore', 'M', '0', 'Smith', '', 'free', 'Houston-The Woodlands-Sugar Land, TX', 'GET', 'Home', '1.54031E+12', '154', '', '200', '1.54129E+12', '52']\n"
     ]
    }
   ],
   "source": [
    "# 4. Read CSV file one by one and append to list\n",
    "\n",
    "# initiating an empty list of rows that will be generated from each file\n",
    "full_data_rows_list = [] \n",
    "\n",
    "print('Total Files = ',len(all_files))\n",
    "# for every filepath in the file path list \n",
    "count = 0\n",
    "for f in all_files:\n",
    "    print(\"File {} : {}\".format(count, f))\n",
    "# reading csv file \n",
    "    with open(f, 'r', encoding = 'utf8', newline='') as csvfile:         \n",
    "        count+=1\n",
    "        # creating a csv reader object \n",
    "        csvreader = csv.reader(csvfile) \n",
    "        next(csvreader)\n",
    "        \n",
    " # extracting each data row one by one and append it        \n",
    "        for line in csvreader:\n",
    "            #print(line)\n",
    "            full_data_rows_list.append(line) \n",
    "            \n",
    "# uncomment the code below if you would like to get total number of rows \n",
    "print('Total Records = ',len(full_data_rows_list))\n",
    "# uncomment the code below if you would like to check to see what the list of event data rows will look like\n",
    "print('Sample Record')\n",
    "print(full_data_rows_list[0])\n",
    "\n",
    "# 5. creating a smaller event data csv file called event_datafile_full csv that will be used to insert data into the \\\n",
    "# Apache Cassandra tables\n",
    "csv.register_dialect('myDialect', quoting=csv.QUOTE_ALL, skipinitialspace=True)\n",
    "\n",
    "#Not Added : ts\n",
    "with open('event_datafile_new.csv', 'w', encoding = 'utf8', newline='') as f:\n",
    "    writer = csv.writer(f, dialect='myDialect')\n",
    "    writer.writerow(['artist','firstName','gender','itemInSession','lastName','length',\\\n",
    "                'level','location','sessionId','song','userId', 'ts'])\n",
    "    for row in full_data_rows_list:\n",
    "        if (row[0] == ''):\n",
    "            continue\n",
    "        writer.writerow((row[0], row[2], row[3], row[4], row[5], row[6], row[7], row[8], row[12], row[13], row[16], row[15]))                "
   ]
  },
  {
   "cell_type": "markdown",
   "metadata": {},
   "source": [
    "# ASSESS"
   ]
  },
  {
   "cell_type": "code",
   "execution_count": 83,
   "metadata": {},
   "outputs": [
    {
     "name": "stdout",
     "output_type": "stream",
     "text": [
      "Total records after removing empty lines\n",
      "7235\n"
     ]
    }
   ],
   "source": [
    "# check the number of rows in your csv file\n",
    "print('Total records after removing empty lines')\n",
    "with open('event_datafile_new.csv', 'r', encoding = 'utf8') as f:\n",
    "    print(sum(1 for line in f))"
   ]
  },
  {
   "cell_type": "code",
   "execution_count": 84,
   "metadata": {},
   "outputs": [
    {
     "name": "stdout",
     "output_type": "stream",
     "text": [
      "(row, column) =  (7234, 12)\n"
     ]
    }
   ],
   "source": [
    "# 6. Read New Event Data File : event_datafile_new.csv : df\n",
    "df = pd.read_csv('event_datafile_new.csv')\n",
    "print('(row, column) = ', df.shape)"
   ]
  },
  {
   "cell_type": "code",
   "execution_count": 85,
   "metadata": {},
   "outputs": [
    {
     "name": "stdout",
     "output_type": "stream",
     "text": [
      "<class 'pandas.core.frame.DataFrame'>\n",
      "RangeIndex: 7234 entries, 0 to 7233\n",
      "Data columns (total 12 columns):\n",
      "artist           7234 non-null object\n",
      "firstName        7234 non-null object\n",
      "gender           7234 non-null object\n",
      "itemInSession    7234 non-null int64\n",
      "lastName         7234 non-null object\n",
      "length           7234 non-null float64\n",
      "level            7234 non-null object\n",
      "location         7234 non-null object\n",
      "sessionId        7234 non-null int64\n",
      "song             7234 non-null object\n",
      "userId           7234 non-null int64\n",
      "ts               7234 non-null float64\n",
      "dtypes: float64(2), int64(3), object(7)\n",
      "memory usage: 678.3+ KB\n"
     ]
    }
   ],
   "source": [
    "df.info()"
   ]
  },
  {
   "cell_type": "code",
   "execution_count": 86,
   "metadata": {},
   "outputs": [
    {
     "data": {
      "text/html": [
       "<div>\n",
       "<style scoped>\n",
       "    .dataframe tbody tr th:only-of-type {\n",
       "        vertical-align: middle;\n",
       "    }\n",
       "\n",
       "    .dataframe tbody tr th {\n",
       "        vertical-align: top;\n",
       "    }\n",
       "\n",
       "    .dataframe thead th {\n",
       "        text-align: right;\n",
       "    }\n",
       "</style>\n",
       "<table border=\"1\" class=\"dataframe\">\n",
       "  <thead>\n",
       "    <tr style=\"text-align: right;\">\n",
       "      <th></th>\n",
       "      <th>artist</th>\n",
       "      <th>firstName</th>\n",
       "      <th>gender</th>\n",
       "      <th>itemInSession</th>\n",
       "      <th>lastName</th>\n",
       "      <th>length</th>\n",
       "      <th>level</th>\n",
       "      <th>location</th>\n",
       "      <th>sessionId</th>\n",
       "      <th>song</th>\n",
       "      <th>userId</th>\n",
       "      <th>ts</th>\n",
       "    </tr>\n",
       "  </thead>\n",
       "  <tbody>\n",
       "    <tr>\n",
       "      <th>0</th>\n",
       "      <td>Professor Longhair</td>\n",
       "      <td>Ann</td>\n",
       "      <td>F</td>\n",
       "      <td>0</td>\n",
       "      <td>Banks</td>\n",
       "      <td>214.20363</td>\n",
       "      <td>free</td>\n",
       "      <td>Salt Lake City, UT</td>\n",
       "      <td>124</td>\n",
       "      <td>Mean Ol'World</td>\n",
       "      <td>99</td>\n",
       "      <td>1.541290e+12</td>\n",
       "    </tr>\n",
       "    <tr>\n",
       "      <th>1</th>\n",
       "      <td>Gary Hobbs</td>\n",
       "      <td>Jahiem</td>\n",
       "      <td>M</td>\n",
       "      <td>1</td>\n",
       "      <td>Miles</td>\n",
       "      <td>245.52444</td>\n",
       "      <td>free</td>\n",
       "      <td>San Antonio-New Braunfels, TX</td>\n",
       "      <td>42</td>\n",
       "      <td>En Mi Mundo</td>\n",
       "      <td>43</td>\n",
       "      <td>1.541300e+12</td>\n",
       "    </tr>\n",
       "    <tr>\n",
       "      <th>2</th>\n",
       "      <td>Lifehouse</td>\n",
       "      <td>Jahiem</td>\n",
       "      <td>M</td>\n",
       "      <td>2</td>\n",
       "      <td>Miles</td>\n",
       "      <td>203.59791</td>\n",
       "      <td>free</td>\n",
       "      <td>San Antonio-New Braunfels, TX</td>\n",
       "      <td>42</td>\n",
       "      <td>We'll Never Know</td>\n",
       "      <td>43</td>\n",
       "      <td>1.541300e+12</td>\n",
       "    </tr>\n",
       "    <tr>\n",
       "      <th>3</th>\n",
       "      <td>Olivia Ruiz</td>\n",
       "      <td>Jahiem</td>\n",
       "      <td>M</td>\n",
       "      <td>3</td>\n",
       "      <td>Miles</td>\n",
       "      <td>254.74567</td>\n",
       "      <td>free</td>\n",
       "      <td>San Antonio-New Braunfels, TX</td>\n",
       "      <td>42</td>\n",
       "      <td>Cabaret Blanco</td>\n",
       "      <td>43</td>\n",
       "      <td>1.541300e+12</td>\n",
       "    </tr>\n",
       "    <tr>\n",
       "      <th>4</th>\n",
       "      <td>Jordan Rudess</td>\n",
       "      <td>Cecilia</td>\n",
       "      <td>F</td>\n",
       "      <td>1</td>\n",
       "      <td>Owens</td>\n",
       "      <td>1367.84934</td>\n",
       "      <td>free</td>\n",
       "      <td>Atlanta-Sandy Springs-Roswell, GA</td>\n",
       "      <td>225</td>\n",
       "      <td>Tarkus</td>\n",
       "      <td>6</td>\n",
       "      <td>1.541310e+12</td>\n",
       "    </tr>\n",
       "  </tbody>\n",
       "</table>\n",
       "</div>"
      ],
      "text/plain": [
       "               artist firstName gender  itemInSession lastName      length  \\\n",
       "0  Professor Longhair       Ann      F              0    Banks   214.20363   \n",
       "1          Gary Hobbs    Jahiem      M              1    Miles   245.52444   \n",
       "2           Lifehouse    Jahiem      M              2    Miles   203.59791   \n",
       "3         Olivia Ruiz    Jahiem      M              3    Miles   254.74567   \n",
       "4       Jordan Rudess   Cecilia      F              1    Owens  1367.84934   \n",
       "\n",
       "  level                           location  sessionId              song  \\\n",
       "0  free                 Salt Lake City, UT        124     Mean Ol'World   \n",
       "1  free      San Antonio-New Braunfels, TX         42       En Mi Mundo   \n",
       "2  free      San Antonio-New Braunfels, TX         42  We'll Never Know   \n",
       "3  free      San Antonio-New Braunfels, TX         42    Cabaret Blanco   \n",
       "4  free  Atlanta-Sandy Springs-Roswell, GA        225            Tarkus   \n",
       "\n",
       "   userId            ts  \n",
       "0      99  1.541290e+12  \n",
       "1      43  1.541300e+12  \n",
       "2      43  1.541300e+12  \n",
       "3      43  1.541300e+12  \n",
       "4       6  1.541310e+12  "
      ]
     },
     "execution_count": 86,
     "metadata": {},
     "output_type": "execute_result"
    }
   ],
   "source": [
    "df.head()"
   ]
  },
  {
   "cell_type": "code",
   "execution_count": 87,
   "metadata": {},
   "outputs": [
    {
     "name": "stdout",
     "output_type": "stream",
     "text": [
      "(414, 12)\n"
     ]
    },
    {
     "data": {
      "text/html": [
       "<div>\n",
       "<style scoped>\n",
       "    .dataframe tbody tr th:only-of-type {\n",
       "        vertical-align: middle;\n",
       "    }\n",
       "\n",
       "    .dataframe tbody tr th {\n",
       "        vertical-align: top;\n",
       "    }\n",
       "\n",
       "    .dataframe thead th {\n",
       "        text-align: right;\n",
       "    }\n",
       "</style>\n",
       "<table border=\"1\" class=\"dataframe\">\n",
       "  <thead>\n",
       "    <tr style=\"text-align: right;\">\n",
       "      <th></th>\n",
       "      <th>artist</th>\n",
       "      <th>firstName</th>\n",
       "      <th>gender</th>\n",
       "      <th>itemInSession</th>\n",
       "      <th>lastName</th>\n",
       "      <th>length</th>\n",
       "      <th>level</th>\n",
       "      <th>location</th>\n",
       "      <th>sessionId</th>\n",
       "      <th>song</th>\n",
       "      <th>userId</th>\n",
       "      <th>ts</th>\n",
       "    </tr>\n",
       "  </thead>\n",
       "  <tbody>\n",
       "    <tr>\n",
       "      <th>7037</th>\n",
       "      <td>+ / - {Plus/Minus}</td>\n",
       "      <td>Matthew</td>\n",
       "      <td>M</td>\n",
       "      <td>11</td>\n",
       "      <td>Jones</td>\n",
       "      <td>318.98077</td>\n",
       "      <td>paid</td>\n",
       "      <td>Janesville-Beloit, WI</td>\n",
       "      <td>998</td>\n",
       "      <td>The Queen of Nothing</td>\n",
       "      <td>36</td>\n",
       "      <td>1.543580e+12</td>\n",
       "    </tr>\n",
       "    <tr>\n",
       "      <th>6935</th>\n",
       "      <td>1 Mile North</td>\n",
       "      <td>Ryan</td>\n",
       "      <td>M</td>\n",
       "      <td>0</td>\n",
       "      <td>Smith</td>\n",
       "      <td>352.73098</td>\n",
       "      <td>free</td>\n",
       "      <td>San Jose-Sunnyvale-Santa Clara, CA</td>\n",
       "      <td>1068</td>\n",
       "      <td>Black Lines</td>\n",
       "      <td>26</td>\n",
       "      <td>1.543550e+12</td>\n",
       "    </tr>\n",
       "    <tr>\n",
       "      <th>7116</th>\n",
       "      <td>12 Stones</td>\n",
       "      <td>Jayden</td>\n",
       "      <td>M</td>\n",
       "      <td>5</td>\n",
       "      <td>Fox</td>\n",
       "      <td>184.03220</td>\n",
       "      <td>free</td>\n",
       "      <td>New Orleans-Metairie, LA</td>\n",
       "      <td>1060</td>\n",
       "      <td>Anthem For The Underdog</td>\n",
       "      <td>101</td>\n",
       "      <td>1.543590e+12</td>\n",
       "    </tr>\n",
       "    <tr>\n",
       "      <th>7134</th>\n",
       "      <td>3 Doors Down</td>\n",
       "      <td>Rylan</td>\n",
       "      <td>M</td>\n",
       "      <td>8</td>\n",
       "      <td>George</td>\n",
       "      <td>233.74322</td>\n",
       "      <td>paid</td>\n",
       "      <td>Birmingham-Hoover, AL</td>\n",
       "      <td>1076</td>\n",
       "      <td>Kryptonite</td>\n",
       "      <td>16</td>\n",
       "      <td>1.543590e+12</td>\n",
       "    </tr>\n",
       "    <tr>\n",
       "      <th>6990</th>\n",
       "      <td>3OH!3</td>\n",
       "      <td>Chloe</td>\n",
       "      <td>F</td>\n",
       "      <td>20</td>\n",
       "      <td>Cuevas</td>\n",
       "      <td>192.52200</td>\n",
       "      <td>paid</td>\n",
       "      <td>San Francisco-Oakland-Hayward, CA</td>\n",
       "      <td>1079</td>\n",
       "      <td>My First Kiss (Feat. Ke$ha) [Album Version]</td>\n",
       "      <td>49</td>\n",
       "      <td>1.543560e+12</td>\n",
       "    </tr>\n",
       "  </tbody>\n",
       "</table>\n",
       "</div>"
      ],
      "text/plain": [
       "                  artist firstName gender  itemInSession lastName     length  \\\n",
       "7037  + / - {Plus/Minus}   Matthew      M             11    Jones  318.98077   \n",
       "6935        1 Mile North      Ryan      M              0    Smith  352.73098   \n",
       "7116           12 Stones    Jayden      M              5      Fox  184.03220   \n",
       "7134        3 Doors Down     Rylan      M              8   George  233.74322   \n",
       "6990               3OH!3     Chloe      F             20   Cuevas  192.52200   \n",
       "\n",
       "     level                            location  sessionId  \\\n",
       "7037  paid               Janesville-Beloit, WI        998   \n",
       "6935  free  San Jose-Sunnyvale-Santa Clara, CA       1068   \n",
       "7116  free            New Orleans-Metairie, LA       1060   \n",
       "7134  paid               Birmingham-Hoover, AL       1076   \n",
       "6990  paid   San Francisco-Oakland-Hayward, CA       1079   \n",
       "\n",
       "                                             song  userId            ts  \n",
       "7037                         The Queen of Nothing      36  1.543580e+12  \n",
       "6935                                  Black Lines      26  1.543550e+12  \n",
       "7116                      Anthem For The Underdog     101  1.543590e+12  \n",
       "7134                                   Kryptonite      16  1.543590e+12  \n",
       "6990  My First Kiss (Feat. Ke$ha) [Album Version]      49  1.543560e+12  "
      ]
     },
     "execution_count": 87,
     "metadata": {},
     "output_type": "execute_result"
    }
   ],
   "source": [
    "bool_series = df.duplicated() \n",
    "  \n",
    "# display data \n",
    "print(df[bool_series].shape)\n",
    "df[bool_series].head()\n",
    "\n",
    "dups = df[bool_series].copy()\n",
    "dups.sort_values(['artist', 'firstName', 'itemInSession'], axis = 0, ascending = True, inplace = True, na_position ='first') \n",
    "dups.head()"
   ]
  },
  {
   "cell_type": "code",
   "execution_count": 88,
   "metadata": {},
   "outputs": [
    {
     "data": {
      "text/html": [
       "<div>\n",
       "<style scoped>\n",
       "    .dataframe tbody tr th:only-of-type {\n",
       "        vertical-align: middle;\n",
       "    }\n",
       "\n",
       "    .dataframe tbody tr th {\n",
       "        vertical-align: top;\n",
       "    }\n",
       "\n",
       "    .dataframe thead th {\n",
       "        text-align: right;\n",
       "    }\n",
       "</style>\n",
       "<table border=\"1\" class=\"dataframe\">\n",
       "  <thead>\n",
       "    <tr style=\"text-align: right;\">\n",
       "      <th></th>\n",
       "      <th>artist</th>\n",
       "      <th>firstName</th>\n",
       "      <th>gender</th>\n",
       "      <th>itemInSession</th>\n",
       "      <th>lastName</th>\n",
       "      <th>length</th>\n",
       "      <th>level</th>\n",
       "      <th>location</th>\n",
       "      <th>sessionId</th>\n",
       "      <th>song</th>\n",
       "      <th>userId</th>\n",
       "      <th>ts</th>\n",
       "    </tr>\n",
       "  </thead>\n",
       "  <tbody>\n",
       "    <tr>\n",
       "      <th>3085</th>\n",
       "      <td>12 Stones</td>\n",
       "      <td>Jayden</td>\n",
       "      <td>M</td>\n",
       "      <td>5</td>\n",
       "      <td>Fox</td>\n",
       "      <td>184.0322</td>\n",
       "      <td>free</td>\n",
       "      <td>New Orleans-Metairie, LA</td>\n",
       "      <td>1060</td>\n",
       "      <td>Anthem For The Underdog</td>\n",
       "      <td>101</td>\n",
       "      <td>1.543590e+12</td>\n",
       "    </tr>\n",
       "    <tr>\n",
       "      <th>7116</th>\n",
       "      <td>12 Stones</td>\n",
       "      <td>Jayden</td>\n",
       "      <td>M</td>\n",
       "      <td>5</td>\n",
       "      <td>Fox</td>\n",
       "      <td>184.0322</td>\n",
       "      <td>free</td>\n",
       "      <td>New Orleans-Metairie, LA</td>\n",
       "      <td>1060</td>\n",
       "      <td>Anthem For The Underdog</td>\n",
       "      <td>101</td>\n",
       "      <td>1.543590e+12</td>\n",
       "    </tr>\n",
       "  </tbody>\n",
       "</table>\n",
       "</div>"
      ],
      "text/plain": [
       "         artist firstName gender  itemInSession lastName    length level  \\\n",
       "3085  12 Stones    Jayden      M              5      Fox  184.0322  free   \n",
       "7116  12 Stones    Jayden      M              5      Fox  184.0322  free   \n",
       "\n",
       "                      location  sessionId                     song  userId  \\\n",
       "3085  New Orleans-Metairie, LA       1060  Anthem For The Underdog     101   \n",
       "7116  New Orleans-Metairie, LA       1060  Anthem For The Underdog     101   \n",
       "\n",
       "                ts  \n",
       "3085  1.543590e+12  \n",
       "7116  1.543590e+12  "
      ]
     },
     "execution_count": 88,
     "metadata": {},
     "output_type": "execute_result"
    }
   ],
   "source": [
    "# Duplicate Verification 1\n",
    "df[(df.artist == '12 Stones') & (df.firstName == 'Jayden') & (df.userId == 101)]"
   ]
  },
  {
   "cell_type": "code",
   "execution_count": 89,
   "metadata": {},
   "outputs": [
    {
     "data": {
      "text/html": [
       "<div>\n",
       "<style scoped>\n",
       "    .dataframe tbody tr th:only-of-type {\n",
       "        vertical-align: middle;\n",
       "    }\n",
       "\n",
       "    .dataframe tbody tr th {\n",
       "        vertical-align: top;\n",
       "    }\n",
       "\n",
       "    .dataframe thead th {\n",
       "        text-align: right;\n",
       "    }\n",
       "</style>\n",
       "<table border=\"1\" class=\"dataframe\">\n",
       "  <thead>\n",
       "    <tr style=\"text-align: right;\">\n",
       "      <th></th>\n",
       "      <th>artist</th>\n",
       "      <th>firstName</th>\n",
       "      <th>gender</th>\n",
       "      <th>itemInSession</th>\n",
       "      <th>lastName</th>\n",
       "      <th>length</th>\n",
       "      <th>level</th>\n",
       "      <th>location</th>\n",
       "      <th>sessionId</th>\n",
       "      <th>song</th>\n",
       "      <th>userId</th>\n",
       "      <th>ts</th>\n",
       "    </tr>\n",
       "  </thead>\n",
       "  <tbody>\n",
       "    <tr>\n",
       "      <th>3103</th>\n",
       "      <td>3 Doors Down</td>\n",
       "      <td>Rylan</td>\n",
       "      <td>M</td>\n",
       "      <td>8</td>\n",
       "      <td>George</td>\n",
       "      <td>233.74322</td>\n",
       "      <td>paid</td>\n",
       "      <td>Birmingham-Hoover, AL</td>\n",
       "      <td>1076</td>\n",
       "      <td>Kryptonite</td>\n",
       "      <td>16</td>\n",
       "      <td>1.543590e+12</td>\n",
       "    </tr>\n",
       "    <tr>\n",
       "      <th>7134</th>\n",
       "      <td>3 Doors Down</td>\n",
       "      <td>Rylan</td>\n",
       "      <td>M</td>\n",
       "      <td>8</td>\n",
       "      <td>George</td>\n",
       "      <td>233.74322</td>\n",
       "      <td>paid</td>\n",
       "      <td>Birmingham-Hoover, AL</td>\n",
       "      <td>1076</td>\n",
       "      <td>Kryptonite</td>\n",
       "      <td>16</td>\n",
       "      <td>1.543590e+12</td>\n",
       "    </tr>\n",
       "  </tbody>\n",
       "</table>\n",
       "</div>"
      ],
      "text/plain": [
       "            artist firstName gender  itemInSession lastName     length level  \\\n",
       "3103  3 Doors Down     Rylan      M              8   George  233.74322  paid   \n",
       "7134  3 Doors Down     Rylan      M              8   George  233.74322  paid   \n",
       "\n",
       "                   location  sessionId        song  userId            ts  \n",
       "3103  Birmingham-Hoover, AL       1076  Kryptonite      16  1.543590e+12  \n",
       "7134  Birmingham-Hoover, AL       1076  Kryptonite      16  1.543590e+12  "
      ]
     },
     "execution_count": 89,
     "metadata": {},
     "output_type": "execute_result"
    }
   ],
   "source": [
    "# Duplicate Verification 2\n",
    "df[(df.artist == '3 Doors Down') & (df.firstName == 'Rylan') & (df.userId == 16)]"
   ]
  },
  {
   "cell_type": "code",
   "execution_count": 90,
   "metadata": {},
   "outputs": [
    {
     "data": {
      "text/html": [
       "<div>\n",
       "<style scoped>\n",
       "    .dataframe tbody tr th:only-of-type {\n",
       "        vertical-align: middle;\n",
       "    }\n",
       "\n",
       "    .dataframe tbody tr th {\n",
       "        vertical-align: top;\n",
       "    }\n",
       "\n",
       "    .dataframe thead th {\n",
       "        text-align: right;\n",
       "    }\n",
       "</style>\n",
       "<table border=\"1\" class=\"dataframe\">\n",
       "  <thead>\n",
       "    <tr style=\"text-align: right;\">\n",
       "      <th></th>\n",
       "      <th>artist</th>\n",
       "      <th>firstName</th>\n",
       "      <th>gender</th>\n",
       "      <th>itemInSession</th>\n",
       "      <th>lastName</th>\n",
       "      <th>length</th>\n",
       "      <th>level</th>\n",
       "      <th>location</th>\n",
       "      <th>sessionId</th>\n",
       "      <th>song</th>\n",
       "      <th>userId</th>\n",
       "      <th>ts</th>\n",
       "    </tr>\n",
       "  </thead>\n",
       "  <tbody>\n",
       "    <tr>\n",
       "      <th>154</th>\n",
       "      <td>Survivor</td>\n",
       "      <td>Jayden</td>\n",
       "      <td>M</td>\n",
       "      <td>0</td>\n",
       "      <td>Fox</td>\n",
       "      <td>245.36771</td>\n",
       "      <td>free</td>\n",
       "      <td>New Orleans-Metairie, LA</td>\n",
       "      <td>100</td>\n",
       "      <td>Eye Of The Tiger</td>\n",
       "      <td>101</td>\n",
       "      <td>1.541110e+12</td>\n",
       "    </tr>\n",
       "    <tr>\n",
       "      <th>6830</th>\n",
       "      <td>Survivor</td>\n",
       "      <td>Jayden</td>\n",
       "      <td>M</td>\n",
       "      <td>0</td>\n",
       "      <td>Fox</td>\n",
       "      <td>245.36771</td>\n",
       "      <td>free</td>\n",
       "      <td>New Orleans-Metairie, LA</td>\n",
       "      <td>100</td>\n",
       "      <td>Eye Of The Tiger</td>\n",
       "      <td>101</td>\n",
       "      <td>1.541110e+12</td>\n",
       "    </tr>\n",
       "  </tbody>\n",
       "</table>\n",
       "</div>"
      ],
      "text/plain": [
       "        artist firstName gender  itemInSession lastName     length level  \\\n",
       "154   Survivor    Jayden      M              0      Fox  245.36771  free   \n",
       "6830  Survivor    Jayden      M              0      Fox  245.36771  free   \n",
       "\n",
       "                      location  sessionId              song  userId  \\\n",
       "154   New Orleans-Metairie, LA        100  Eye Of The Tiger     101   \n",
       "6830  New Orleans-Metairie, LA        100  Eye Of The Tiger     101   \n",
       "\n",
       "                ts  \n",
       "154   1.541110e+12  \n",
       "6830  1.541110e+12  "
      ]
     },
     "execution_count": 90,
     "metadata": {},
     "output_type": "execute_result"
    }
   ],
   "source": [
    "# Duplicate Verification 3\n",
    "df[(df.artist == 'Survivor') & (df.userId == 101)]"
   ]
  },
  {
   "cell_type": "code",
   "execution_count": 91,
   "metadata": {},
   "outputs": [
    {
     "data": {
      "text/html": [
       "<div>\n",
       "<style scoped>\n",
       "    .dataframe tbody tr th:only-of-type {\n",
       "        vertical-align: middle;\n",
       "    }\n",
       "\n",
       "    .dataframe tbody tr th {\n",
       "        vertical-align: top;\n",
       "    }\n",
       "\n",
       "    .dataframe thead th {\n",
       "        text-align: right;\n",
       "    }\n",
       "</style>\n",
       "<table border=\"1\" class=\"dataframe\">\n",
       "  <thead>\n",
       "    <tr style=\"text-align: right;\">\n",
       "      <th></th>\n",
       "      <th>artist</th>\n",
       "      <th>firstName</th>\n",
       "      <th>gender</th>\n",
       "      <th>itemInSession</th>\n",
       "      <th>lastName</th>\n",
       "      <th>length</th>\n",
       "      <th>level</th>\n",
       "      <th>location</th>\n",
       "      <th>sessionId</th>\n",
       "      <th>song</th>\n",
       "      <th>userId</th>\n",
       "      <th>ts</th>\n",
       "    </tr>\n",
       "  </thead>\n",
       "  <tbody>\n",
       "    <tr>\n",
       "      <th>197</th>\n",
       "      <td>Modest Mouse</td>\n",
       "      <td>Kate</td>\n",
       "      <td>F</td>\n",
       "      <td>5</td>\n",
       "      <td>Harrell</td>\n",
       "      <td>209.52771</td>\n",
       "      <td>paid</td>\n",
       "      <td>Lansing-East Lansing, MI</td>\n",
       "      <td>828</td>\n",
       "      <td>Float On</td>\n",
       "      <td>97</td>\n",
       "      <td>1.542890e+12</td>\n",
       "    </tr>\n",
       "    <tr>\n",
       "      <th>199</th>\n",
       "      <td>Modest Mouse</td>\n",
       "      <td>Kate</td>\n",
       "      <td>F</td>\n",
       "      <td>7</td>\n",
       "      <td>Harrell</td>\n",
       "      <td>209.52771</td>\n",
       "      <td>paid</td>\n",
       "      <td>Lansing-East Lansing, MI</td>\n",
       "      <td>828</td>\n",
       "      <td>Float On</td>\n",
       "      <td>97</td>\n",
       "      <td>1.542890e+12</td>\n",
       "    </tr>\n",
       "    <tr>\n",
       "      <th>3440</th>\n",
       "      <td>Modest Mouse</td>\n",
       "      <td>Kate</td>\n",
       "      <td>F</td>\n",
       "      <td>9</td>\n",
       "      <td>Harrell</td>\n",
       "      <td>209.52771</td>\n",
       "      <td>paid</td>\n",
       "      <td>Lansing-East Lansing, MI</td>\n",
       "      <td>293</td>\n",
       "      <td>Float On</td>\n",
       "      <td>97</td>\n",
       "      <td>1.541530e+12</td>\n",
       "    </tr>\n",
       "  </tbody>\n",
       "</table>\n",
       "</div>"
      ],
      "text/plain": [
       "            artist firstName gender  itemInSession lastName     length level  \\\n",
       "197   Modest Mouse      Kate      F              5  Harrell  209.52771  paid   \n",
       "199   Modest Mouse      Kate      F              7  Harrell  209.52771  paid   \n",
       "3440  Modest Mouse      Kate      F              9  Harrell  209.52771  paid   \n",
       "\n",
       "                      location  sessionId      song  userId            ts  \n",
       "197   Lansing-East Lansing, MI        828  Float On      97  1.542890e+12  \n",
       "199   Lansing-East Lansing, MI        828  Float On      97  1.542890e+12  \n",
       "3440  Lansing-East Lansing, MI        293  Float On      97  1.541530e+12  "
      ]
     },
     "execution_count": 91,
     "metadata": {},
     "output_type": "execute_result"
    }
   ],
   "source": [
    "df[(df.song == 'Float On') & (df.userId == 97)]"
   ]
  },
  {
   "cell_type": "markdown",
   "metadata": {},
   "source": [
    "### Quality\n",
    "1. Remove duplicates from df\n",
    "2. Check of duplicates & remove after splitting df\n",
    "\n",
    "### Tidiness\n",
    "1. Change ts column from float to timestamp to string.  \n",
    "   a. When trying to load cassandra table, encountered error for this timestamp column. But it seemed to load successfully when dataframe timestamp column is of type(string). So converting this timestamp column to string.  \n",
    "2. Split df into 3 separate dataframes(appHist, songHist, userHist) to store rows as per queries"
   ]
  },
  {
   "cell_type": "markdown",
   "metadata": {},
   "source": [
    "# CLEAN"
   ]
  },
  {
   "cell_type": "code",
   "execution_count": 92,
   "metadata": {},
   "outputs": [],
   "source": [
    "#Create copies of dataframe\n",
    "df_clean = df.copy()"
   ]
  },
  {
   "cell_type": "markdown",
   "metadata": {},
   "source": [
    "#### Issue 1 : Convert ts from float64 to timestamp\n",
    "##### Define\n",
    "Tidiness : 1. Change ts column from float to timestamp\n",
    "\n",
    "##### Code"
   ]
  },
  {
   "cell_type": "code",
   "execution_count": 93,
   "metadata": {},
   "outputs": [],
   "source": [
    "df_clean['ts'] = pd.to_datetime(df_clean['ts'], unit='ms')\n",
    "df_clean['ts'] = df_clean.ts.astype(str)"
   ]
  },
  {
   "cell_type": "markdown",
   "metadata": {},
   "source": [
    "##### Test"
   ]
  },
  {
   "cell_type": "code",
   "execution_count": 94,
   "metadata": {},
   "outputs": [
    {
     "name": "stdout",
     "output_type": "stream",
     "text": [
      "<class 'pandas.core.frame.DataFrame'>\n",
      "RangeIndex: 7234 entries, 0 to 7233\n",
      "Data columns (total 12 columns):\n",
      "artist           7234 non-null object\n",
      "firstName        7234 non-null object\n",
      "gender           7234 non-null object\n",
      "itemInSession    7234 non-null int64\n",
      "lastName         7234 non-null object\n",
      "length           7234 non-null float64\n",
      "level            7234 non-null object\n",
      "location         7234 non-null object\n",
      "sessionId        7234 non-null int64\n",
      "song             7234 non-null object\n",
      "userId           7234 non-null int64\n",
      "ts               7234 non-null object\n",
      "dtypes: float64(1), int64(3), object(8)\n",
      "memory usage: 678.3+ KB\n"
     ]
    }
   ],
   "source": [
    "df_clean.info()"
   ]
  },
  {
   "cell_type": "markdown",
   "metadata": {},
   "source": [
    "#### Issue 2 : Removing duplicates  \n",
    "\n",
    "##### Define\n",
    "Quality : 1. Remove duplicates from df  \n",
    "\n",
    "##### Code"
   ]
  },
  {
   "cell_type": "code",
   "execution_count": 95,
   "metadata": {},
   "outputs": [
    {
     "name": "stdout",
     "output_type": "stream",
     "text": [
      "df : Duplicate Check :  (414, 12)\n",
      "Unique Rows :  (6820, 12)\n"
     ]
    }
   ],
   "source": [
    "print('df : Duplicate Check : ',duplicate_check(df_clean))\n",
    "\n",
    "df_ndup = df_clean.copy()\n",
    "\n",
    "# removing duplicates\n",
    "df_ndup = remove_duplicates(df_clean)\n",
    "\n",
    "print('Unique Rows : ',df_ndup.shape)\n",
    "\n",
    "df_clean = df_ndup.copy()"
   ]
  },
  {
   "cell_type": "markdown",
   "metadata": {},
   "source": [
    "##### Test"
   ]
  },
  {
   "cell_type": "code",
   "execution_count": 96,
   "metadata": {},
   "outputs": [
    {
     "data": {
      "text/html": [
       "<div>\n",
       "<style scoped>\n",
       "    .dataframe tbody tr th:only-of-type {\n",
       "        vertical-align: middle;\n",
       "    }\n",
       "\n",
       "    .dataframe tbody tr th {\n",
       "        vertical-align: top;\n",
       "    }\n",
       "\n",
       "    .dataframe thead th {\n",
       "        text-align: right;\n",
       "    }\n",
       "</style>\n",
       "<table border=\"1\" class=\"dataframe\">\n",
       "  <thead>\n",
       "    <tr style=\"text-align: right;\">\n",
       "      <th></th>\n",
       "      <th>artist</th>\n",
       "      <th>firstName</th>\n",
       "      <th>gender</th>\n",
       "      <th>itemInSession</th>\n",
       "      <th>lastName</th>\n",
       "      <th>length</th>\n",
       "      <th>level</th>\n",
       "      <th>location</th>\n",
       "      <th>sessionId</th>\n",
       "      <th>song</th>\n",
       "      <th>userId</th>\n",
       "      <th>ts</th>\n",
       "    </tr>\n",
       "  </thead>\n",
       "  <tbody>\n",
       "    <tr>\n",
       "      <th>3085</th>\n",
       "      <td>12 Stones</td>\n",
       "      <td>Jayden</td>\n",
       "      <td>M</td>\n",
       "      <td>5</td>\n",
       "      <td>Fox</td>\n",
       "      <td>184.0322</td>\n",
       "      <td>free</td>\n",
       "      <td>New Orleans-Metairie, LA</td>\n",
       "      <td>1060</td>\n",
       "      <td>Anthem For The Underdog</td>\n",
       "      <td>101</td>\n",
       "      <td>2018-11-30 15:00:00</td>\n",
       "    </tr>\n",
       "  </tbody>\n",
       "</table>\n",
       "</div>"
      ],
      "text/plain": [
       "         artist firstName gender  itemInSession lastName    length level  \\\n",
       "3085  12 Stones    Jayden      M              5      Fox  184.0322  free   \n",
       "\n",
       "                      location  sessionId                     song  userId  \\\n",
       "3085  New Orleans-Metairie, LA       1060  Anthem For The Underdog     101   \n",
       "\n",
       "                       ts  \n",
       "3085  2018-11-30 15:00:00  "
      ]
     },
     "execution_count": 96,
     "metadata": {},
     "output_type": "execute_result"
    }
   ],
   "source": [
    "# Duplicate Verification 1\n",
    "df_clean[(df_clean.artist == '12 Stones') & (df_clean.firstName == 'Jayden') & (df_clean.userId == 101)]"
   ]
  },
  {
   "cell_type": "markdown",
   "metadata": {},
   "source": [
    "#### Issue 3 : Split df to separate dataframes\n",
    "##### Define\n",
    "Tidiness : 2. Split df into 3 separate dataframes(appHist, songHist, userHist) to store rows as per queries\n",
    "\n",
    "##### Code"
   ]
  },
  {
   "cell_type": "code",
   "execution_count": 97,
   "metadata": {},
   "outputs": [],
   "source": [
    "appHist_df = df_clean[['sessionId', 'itemInSession', 'artist', 'song', 'length']]\n",
    "userHist_df = df_clean[['userId', 'sessionId', 'itemInSession', 'firstName', 'lastName', 'artist', 'song']]\n",
    "songHist_df = df_clean[['song', 'userId', 'firstName', 'lastName', 'ts']]"
   ]
  },
  {
   "cell_type": "markdown",
   "metadata": {},
   "source": [
    "##### Test"
   ]
  },
  {
   "cell_type": "code",
   "execution_count": 98,
   "metadata": {},
   "outputs": [
    {
     "data": {
      "text/html": [
       "<div>\n",
       "<style scoped>\n",
       "    .dataframe tbody tr th:only-of-type {\n",
       "        vertical-align: middle;\n",
       "    }\n",
       "\n",
       "    .dataframe tbody tr th {\n",
       "        vertical-align: top;\n",
       "    }\n",
       "\n",
       "    .dataframe thead th {\n",
       "        text-align: right;\n",
       "    }\n",
       "</style>\n",
       "<table border=\"1\" class=\"dataframe\">\n",
       "  <thead>\n",
       "    <tr style=\"text-align: right;\">\n",
       "      <th></th>\n",
       "      <th>sessionId</th>\n",
       "      <th>itemInSession</th>\n",
       "      <th>artist</th>\n",
       "      <th>song</th>\n",
       "      <th>length</th>\n",
       "    </tr>\n",
       "  </thead>\n",
       "  <tbody>\n",
       "    <tr>\n",
       "      <th>3728</th>\n",
       "      <td>338</td>\n",
       "      <td>4</td>\n",
       "      <td>Faithless</td>\n",
       "      <td>Music Matters (Mark Knight Dub)</td>\n",
       "      <td>495.3073</td>\n",
       "    </tr>\n",
       "  </tbody>\n",
       "</table>\n",
       "</div>"
      ],
      "text/plain": [
       "      sessionId  itemInSession     artist                             song  \\\n",
       "3728        338              4  Faithless  Music Matters (Mark Knight Dub)   \n",
       "\n",
       "        length  \n",
       "3728  495.3073  "
      ]
     },
     "execution_count": 98,
     "metadata": {},
     "output_type": "execute_result"
    }
   ],
   "source": [
    "#Query 1\n",
    "appHist_df[(appHist_df.sessionId == 338) & (appHist_df.itemInSession == 4)]"
   ]
  },
  {
   "cell_type": "code",
   "execution_count": 99,
   "metadata": {},
   "outputs": [
    {
     "data": {
      "text/html": [
       "<div>\n",
       "<style scoped>\n",
       "    .dataframe tbody tr th:only-of-type {\n",
       "        vertical-align: middle;\n",
       "    }\n",
       "\n",
       "    .dataframe tbody tr th {\n",
       "        vertical-align: top;\n",
       "    }\n",
       "\n",
       "    .dataframe thead th {\n",
       "        text-align: right;\n",
       "    }\n",
       "</style>\n",
       "<table border=\"1\" class=\"dataframe\">\n",
       "  <thead>\n",
       "    <tr style=\"text-align: right;\">\n",
       "      <th></th>\n",
       "      <th>userId</th>\n",
       "      <th>sessionId</th>\n",
       "      <th>itemInSession</th>\n",
       "      <th>firstName</th>\n",
       "      <th>lastName</th>\n",
       "      <th>artist</th>\n",
       "      <th>song</th>\n",
       "    </tr>\n",
       "  </thead>\n",
       "  <tbody>\n",
       "    <tr>\n",
       "      <th>1899</th>\n",
       "      <td>10</td>\n",
       "      <td>182</td>\n",
       "      <td>0</td>\n",
       "      <td>Sylvie</td>\n",
       "      <td>Cruz</td>\n",
       "      <td>Down To The Bone</td>\n",
       "      <td>Keep On Keepin' On</td>\n",
       "    </tr>\n",
       "    <tr>\n",
       "      <th>1900</th>\n",
       "      <td>10</td>\n",
       "      <td>182</td>\n",
       "      <td>1</td>\n",
       "      <td>Sylvie</td>\n",
       "      <td>Cruz</td>\n",
       "      <td>Three Drives</td>\n",
       "      <td>Greece 2000</td>\n",
       "    </tr>\n",
       "    <tr>\n",
       "      <th>1901</th>\n",
       "      <td>10</td>\n",
       "      <td>182</td>\n",
       "      <td>2</td>\n",
       "      <td>Sylvie</td>\n",
       "      <td>Cruz</td>\n",
       "      <td>Sebastien Tellier</td>\n",
       "      <td>Kilometer</td>\n",
       "    </tr>\n",
       "    <tr>\n",
       "      <th>1902</th>\n",
       "      <td>10</td>\n",
       "      <td>182</td>\n",
       "      <td>3</td>\n",
       "      <td>Sylvie</td>\n",
       "      <td>Cruz</td>\n",
       "      <td>Lonnie Gordon</td>\n",
       "      <td>Catch You Baby (Steve Pitron &amp; Max Sanna Radio...</td>\n",
       "    </tr>\n",
       "  </tbody>\n",
       "</table>\n",
       "</div>"
      ],
      "text/plain": [
       "      userId  sessionId  itemInSession firstName lastName             artist  \\\n",
       "1899      10        182              0    Sylvie     Cruz   Down To The Bone   \n",
       "1900      10        182              1    Sylvie     Cruz       Three Drives   \n",
       "1901      10        182              2    Sylvie     Cruz  Sebastien Tellier   \n",
       "1902      10        182              3    Sylvie     Cruz      Lonnie Gordon   \n",
       "\n",
       "                                                   song  \n",
       "1899                                 Keep On Keepin' On  \n",
       "1900                                        Greece 2000  \n",
       "1901                                          Kilometer  \n",
       "1902  Catch You Baby (Steve Pitron & Max Sanna Radio...  "
      ]
     },
     "execution_count": 99,
     "metadata": {},
     "output_type": "execute_result"
    }
   ],
   "source": [
    "#Query 2\n",
    "userHist_df[(userHist_df.userId == 10) & (userHist_df.sessionId == 182)]"
   ]
  },
  {
   "cell_type": "code",
   "execution_count": 100,
   "metadata": {},
   "outputs": [
    {
     "data": {
      "text/html": [
       "<div>\n",
       "<style scoped>\n",
       "    .dataframe tbody tr th:only-of-type {\n",
       "        vertical-align: middle;\n",
       "    }\n",
       "\n",
       "    .dataframe tbody tr th {\n",
       "        vertical-align: top;\n",
       "    }\n",
       "\n",
       "    .dataframe thead th {\n",
       "        text-align: right;\n",
       "    }\n",
       "</style>\n",
       "<table border=\"1\" class=\"dataframe\">\n",
       "  <thead>\n",
       "    <tr style=\"text-align: right;\">\n",
       "      <th></th>\n",
       "      <th>song</th>\n",
       "      <th>userId</th>\n",
       "      <th>firstName</th>\n",
       "      <th>lastName</th>\n",
       "      <th>ts</th>\n",
       "    </tr>\n",
       "  </thead>\n",
       "  <tbody>\n",
       "    <tr>\n",
       "      <th>998</th>\n",
       "      <td>All Hands Against His Own</td>\n",
       "      <td>95</td>\n",
       "      <td>Sara</td>\n",
       "      <td>Johnson</td>\n",
       "      <td>2018-11-03 18:33:20</td>\n",
       "    </tr>\n",
       "    <tr>\n",
       "      <th>4491</th>\n",
       "      <td>All Hands Against His Own</td>\n",
       "      <td>29</td>\n",
       "      <td>Jacqueline</td>\n",
       "      <td>Lynch</td>\n",
       "      <td>2018-11-14 12:53:20</td>\n",
       "    </tr>\n",
       "    <tr>\n",
       "      <th>6106</th>\n",
       "      <td>All Hands Against His Own</td>\n",
       "      <td>80</td>\n",
       "      <td>Tegan</td>\n",
       "      <td>Levine</td>\n",
       "      <td>2018-11-15 11:06:40</td>\n",
       "    </tr>\n",
       "  </tbody>\n",
       "</table>\n",
       "</div>"
      ],
      "text/plain": [
       "                           song  userId   firstName lastName  \\\n",
       "998   All Hands Against His Own      95        Sara  Johnson   \n",
       "4491  All Hands Against His Own      29  Jacqueline    Lynch   \n",
       "6106  All Hands Against His Own      80       Tegan   Levine   \n",
       "\n",
       "                       ts  \n",
       "998   2018-11-03 18:33:20  \n",
       "4491  2018-11-14 12:53:20  \n",
       "6106  2018-11-15 11:06:40  "
      ]
     },
     "execution_count": 100,
     "metadata": {},
     "output_type": "execute_result"
    }
   ],
   "source": [
    "#Query 3\n",
    "songHist_df[(songHist_df.song =='All Hands Against His Own')]"
   ]
  },
  {
   "cell_type": "markdown",
   "metadata": {},
   "source": [
    "#### Issue 4 : Check & Remove duplicates in new dataframes\n",
    "\n",
    "##### Define\n",
    "Quality : 2. Check of duplicates & remove after splitting df\n",
    "\n",
    "##### Code"
   ]
  },
  {
   "cell_type": "code",
   "execution_count": 101,
   "metadata": {},
   "outputs": [
    {
     "name": "stdout",
     "output_type": "stream",
     "text": [
      "(0, 5)\n",
      "(0, 7)\n",
      "(19, 5)\n"
     ]
    }
   ],
   "source": [
    "print(duplicate_check(appHist_df))\n",
    "print(duplicate_check(userHist_df))\n",
    "print(duplicate_check(songHist_df))"
   ]
  },
  {
   "cell_type": "code",
   "execution_count": 102,
   "metadata": {},
   "outputs": [],
   "source": [
    "# Removing duplicates from song_history\n",
    "songHist_df = remove_duplicates(songHist_df)"
   ]
  },
  {
   "cell_type": "code",
   "execution_count": 103,
   "metadata": {},
   "outputs": [
    {
     "data": {
      "text/html": [
       "<div>\n",
       "<style scoped>\n",
       "    .dataframe tbody tr th:only-of-type {\n",
       "        vertical-align: middle;\n",
       "    }\n",
       "\n",
       "    .dataframe tbody tr th {\n",
       "        vertical-align: top;\n",
       "    }\n",
       "\n",
       "    .dataframe thead th {\n",
       "        text-align: right;\n",
       "    }\n",
       "</style>\n",
       "<table border=\"1\" class=\"dataframe\">\n",
       "  <thead>\n",
       "    <tr style=\"text-align: right;\">\n",
       "      <th></th>\n",
       "      <th>song</th>\n",
       "      <th>userId</th>\n",
       "      <th>firstName</th>\n",
       "      <th>lastName</th>\n",
       "      <th>ts</th>\n",
       "    </tr>\n",
       "  </thead>\n",
       "  <tbody>\n",
       "    <tr>\n",
       "      <th>197</th>\n",
       "      <td>Float On</td>\n",
       "      <td>97</td>\n",
       "      <td>Kate</td>\n",
       "      <td>Harrell</td>\n",
       "      <td>2018-11-22 12:33:20</td>\n",
       "    </tr>\n",
       "    <tr>\n",
       "      <th>3440</th>\n",
       "      <td>Float On</td>\n",
       "      <td>97</td>\n",
       "      <td>Kate</td>\n",
       "      <td>Harrell</td>\n",
       "      <td>2018-11-06 18:46:40</td>\n",
       "    </tr>\n",
       "  </tbody>\n",
       "</table>\n",
       "</div>"
      ],
      "text/plain": [
       "          song  userId firstName lastName                   ts\n",
       "197   Float On      97      Kate  Harrell  2018-11-22 12:33:20\n",
       "3440  Float On      97      Kate  Harrell  2018-11-06 18:46:40"
      ]
     },
     "execution_count": 103,
     "metadata": {},
     "output_type": "execute_result"
    }
   ],
   "source": [
    "songHist_df[(songHist_df.song == 'Float On') & (songHist_df.userId == 97)]"
   ]
  },
  {
   "cell_type": "markdown",
   "metadata": {},
   "source": [
    "##### Test"
   ]
  },
  {
   "cell_type": "code",
   "execution_count": 104,
   "metadata": {},
   "outputs": [
    {
     "data": {
      "text/html": [
       "<div>\n",
       "<style scoped>\n",
       "    .dataframe tbody tr th:only-of-type {\n",
       "        vertical-align: middle;\n",
       "    }\n",
       "\n",
       "    .dataframe tbody tr th {\n",
       "        vertical-align: top;\n",
       "    }\n",
       "\n",
       "    .dataframe thead th {\n",
       "        text-align: right;\n",
       "    }\n",
       "</style>\n",
       "<table border=\"1\" class=\"dataframe\">\n",
       "  <thead>\n",
       "    <tr style=\"text-align: right;\">\n",
       "      <th></th>\n",
       "      <th>song</th>\n",
       "      <th>userId</th>\n",
       "      <th>firstName</th>\n",
       "      <th>lastName</th>\n",
       "      <th>ts</th>\n",
       "    </tr>\n",
       "  </thead>\n",
       "  <tbody>\n",
       "  </tbody>\n",
       "</table>\n",
       "</div>"
      ],
      "text/plain": [
       "Empty DataFrame\n",
       "Columns: [song, userId, firstName, lastName, ts]\n",
       "Index: []"
      ]
     },
     "execution_count": 104,
     "metadata": {},
     "output_type": "execute_result"
    }
   ],
   "source": [
    "show_duplicates(songHist_df)"
   ]
  },
  {
   "cell_type": "markdown",
   "metadata": {},
   "source": [
    "# Part II. Complete the Apache Cassandra coding portion of your project. \n",
    "\n",
    "## Now you are ready to work with the CSV file titled <font color=red>event_datafile_new.csv</font>, located within the Workspace directory.  The event_datafile_new.csv contains the following columns: \n",
    "- artist \n",
    "- firstName of user\n",
    "- gender of user\n",
    "- item number in session\n",
    "- last name of user\n",
    "- length of the song\n",
    "- level (paid or free song)\n",
    "- location of the user\n",
    "- sessionId\n",
    "- song title\n",
    "- userId\n",
    "\n",
    "The image below is a screenshot of what the denormalized data should appear like in the <font color=red>**event_datafile_new.csv**</font> after the code above is run:<br>\n",
    "\n",
    "<img src=\"images/image_event_datafile_new.jpg\">"
   ]
  },
  {
   "cell_type": "markdown",
   "metadata": {},
   "source": [
    "## Begin writing your Apache Cassandra code in the cells below"
   ]
  },
  {
   "cell_type": "markdown",
   "metadata": {},
   "source": [
    "#### Creating a Cluster"
   ]
  },
  {
   "cell_type": "code",
   "execution_count": 105,
   "metadata": {},
   "outputs": [],
   "source": [
    "from cassandra.cluster import Cluster\n",
    "try: \n",
    "    # This should make a connection to a Cassandra instance your local machine \n",
    "    # (127.0.0.1)   \n",
    "    cluster = Cluster(['127.0.0.1']) #If you have a locally installed Apache Cassandra instance\n",
    "    # To establish connection and begin executing queries, need a session    \n",
    "    session = cluster.connect()\n",
    "except Exception as e:\n",
    "    print(e)"
   ]
  },
  {
   "cell_type": "markdown",
   "metadata": {},
   "source": [
    "#### Create Keyspace"
   ]
  },
  {
   "cell_type": "code",
   "execution_count": 106,
   "metadata": {},
   "outputs": [],
   "source": [
    "# TO-DO: Create a Keyspace \n",
    "try:\n",
    "    session.execute(\"\"\"\n",
    "    CREATE KEYSPACE IF NOT EXISTS udacity \n",
    "    WITH REPLICATION = \n",
    "    { 'class' : 'SimpleStrategy', 'replication_factor' : 1 }\"\"\"\n",
    ")\n",
    "except Exception as e:\n",
    "    print(e)"
   ]
  },
  {
   "cell_type": "markdown",
   "metadata": {},
   "source": [
    "#### Set Keyspace"
   ]
  },
  {
   "cell_type": "code",
   "execution_count": 107,
   "metadata": {},
   "outputs": [],
   "source": [
    "# TO-DO: Set KEYSPACE to the keyspace specified above\n",
    "try:\n",
    "    session.set_keyspace('udacity')\n",
    "except Exception as e:\n",
    "    print(e)"
   ]
  },
  {
   "cell_type": "markdown",
   "metadata": {},
   "source": [
    "#### Create Apache Cassandra tables"
   ]
  },
  {
   "cell_type": "code",
   "execution_count": 108,
   "metadata": {},
   "outputs": [],
   "source": [
    "# DROP QUERIES\n",
    "appHist_DROP = \"\"\"DROP TABLE IF EXISTS app_history;\"\"\"\n",
    "userHist_DROP = \"\"\"DROP TABLE IF EXISTS user_history;\"\"\"\n",
    "songHist_DROP = \"\"\"DROP TABLE IF EXISTS song_history;\"\"\"\n",
    "\n",
    "# CREATE QUERIES\n",
    "appHist_CREATE = (\n",
    "\"\"\"\n",
    "CREATE TABLE IF NOT EXISTS app_history(\n",
    "sessionId INT,\n",
    "itemInSession INT,\n",
    "artist VARCHAR,\n",
    "song VARCHAR,\n",
    "length DECIMAL,\n",
    "PRIMARY KEY(sessionId, itemInSession)\n",
    ");\n",
    "\"\"\")\n",
    "\n",
    "userHist_CREATE = (\n",
    "\"\"\"\n",
    "CREATE TABLE IF NOT EXISTS user_history (\n",
    "userId INT,\n",
    "sessionId INT,\n",
    "itemInSession INT,\n",
    "firstName VARCHAR,\n",
    "lastName VARCHAR,\n",
    "artist VARCHAR,\n",
    "song VARCHAR,\n",
    "PRIMARY KEY(userId, sessionId, itemInSession)\n",
    ");\n",
    "\"\"\")\n",
    "\n",
    "songHist_CREATE = (\n",
    "\"\"\"\n",
    "CREATE TABLE IF NOT EXISTS song_history (\n",
    "song VARCHAR,\n",
    "userId INT,\n",
    "firstName VARCHAR,\n",
    "lastName VARCHAR,\n",
    "ts timestamp,\n",
    "PRIMARY KEY(song, userId, ts)\n",
    ");\n",
    "\"\"\")\n",
    "\n",
    "# INSERT QUERIES\n",
    "appHist_INSERT = (\"\"\"\n",
    "INSERT INTO app_history (\n",
    "sessionId, itemInSession, artist, song, length)\n",
    "VALUES (%s, %s, %s, %s, %s);\n",
    "\"\"\")\n",
    "\n",
    "userHist_INSERT = (\"\"\"\n",
    "INSERT INTO user_history (\n",
    "userId, sessionId, itemInSession, firstName, lastName, artist, song)\n",
    "VALUES (%s, %s, %s, %s, %s, %s, %s);\n",
    "\"\"\")\n",
    "\n",
    "songHist_INSERT = (\"\"\"\n",
    "INSERT INTO song_history (\n",
    "song, userId, firstName, lastName, ts)\n",
    "VALUES (%s, %s, %s, %s, %s);\n",
    "\"\"\")\n",
    "\n",
    "try:\n",
    "    session.execute(appHist_DROP)\n",
    "    session.execute(userHist_DROP)\n",
    "    session.execute(songHist_DROP)\n",
    "\n",
    "    session.execute(appHist_CREATE)\n",
    "    session.execute(userHist_CREATE)\n",
    "    session.execute(songHist_CREATE)\n",
    "except Exception as e:\n",
    "    print(e)"
   ]
  },
  {
   "cell_type": "markdown",
   "metadata": {},
   "source": [
    "#### Confirm table creation"
   ]
  },
  {
   "cell_type": "code",
   "execution_count": 109,
   "metadata": {},
   "outputs": [
    {
     "name": "stdout",
     "output_type": "stream",
     "text": [
      "Row(apphist=0)\n",
      "Row(userhist=0)\n",
      "Row(songhist=0)\n"
     ]
    }
   ],
   "source": [
    "# Confirm Table Creation\n",
    "Q1 = \"select count(*) as appHist from app_history ;\"\n",
    "Q2 = \"select count(*) as userHist from user_history ;\"\n",
    "Q3 = \"select count(*) as songHist from song_history ;\"\n",
    "\n",
    "run_cql(Q1, session)\n",
    "run_cql(Q2, session)\n",
    "run_cql(Q3, session)"
   ]
  },
  {
   "cell_type": "markdown",
   "metadata": {},
   "source": [
    "#### Load table app_history"
   ]
  },
  {
   "cell_type": "code",
   "execution_count": 110,
   "metadata": {},
   "outputs": [],
   "source": [
    "for i, row in appHist_df.iterrows():\n",
    "    try:\n",
    "        row_data = (row.sessionId, row.itemInSession, row.artist, row.song, row.length)\n",
    "        session.execute(appHist_INSERT, row_data)\n",
    "    except Exception as e:\n",
    "        print(e)    \n",
    "        print(i, row)"
   ]
  },
  {
   "cell_type": "markdown",
   "metadata": {},
   "source": [
    "#### Load table user_history"
   ]
  },
  {
   "cell_type": "code",
   "execution_count": 111,
   "metadata": {},
   "outputs": [],
   "source": [
    "for i, row in userHist_df.iterrows():\n",
    "    try:\n",
    "        row_data = (row.userId, row.sessionId, row.itemInSession, row.firstName, row.lastName, row.artist, row.song)\n",
    "        session.execute(userHist_INSERT, row_data)\n",
    "    except Exception as e:\n",
    "        print(e)    \n",
    "        print(i, row)"
   ]
  },
  {
   "cell_type": "markdown",
   "metadata": {},
   "source": [
    "#### Load table song_history"
   ]
  },
  {
   "cell_type": "code",
   "execution_count": 112,
   "metadata": {},
   "outputs": [],
   "source": [
    "for i, row in songHist_df.iterrows():\n",
    "    try:\n",
    "        row_data = (row.song, row.userId, row.firstName, row.lastName, row.ts)\n",
    "        session.execute(songHist_INSERT, row_data)\n",
    "    except Exception as e:\n",
    "        print(e)    \n",
    "        print(i, row)"
   ]
  },
  {
   "cell_type": "code",
   "execution_count": 113,
   "metadata": {},
   "outputs": [
    {
     "name": "stdout",
     "output_type": "stream",
     "text": [
      "Row(apphist=6820)\n",
      "Row(userhist=6820)\n",
      "Row(songhist=6801)\n"
     ]
    }
   ],
   "source": [
    "# Check load counts\n",
    "Q1 = \"select count(*) as appHist from app_history ;\"\n",
    "Q2 = \"select count(*) as userHist from user_history ;\"\n",
    "Q3 = \"select count(*) as songHist from song_history ;\"\n",
    "\n",
    "run_cql(Q1, session)\n",
    "run_cql(Q2, session)\n",
    "run_cql(Q3, session)"
   ]
  },
  {
   "cell_type": "markdown",
   "metadata": {},
   "source": [
    "## Create queries to ask the following three questions of the data\n",
    "\n",
    "### 1. Give me the artist, song title and song's length in the music app history that was heard during  sessionId = 338, and itemInSession  = 4\n",
    "\n",
    "\n",
    "### 2. Give me only the following: name of artist, song (sorted by itemInSession) and user (first and last name) for userid = 10, sessionid = 182\n",
    "    \n",
    "\n",
    "### 3. Give me every user name (first and last) in my music app history who listened to the song 'All Hands Against His Own'\n",
    "\n",
    "\n"
   ]
  },
  {
   "cell_type": "code",
   "execution_count": 114,
   "metadata": {},
   "outputs": [
    {
     "name": "stdout",
     "output_type": "stream",
     "text": [
      "Row(artist='Faithless', song='Music Matters (Mark Knight Dub)')\n"
     ]
    }
   ],
   "source": [
    "## TO-DO: Query 1:  Give me the artist, song title and song's length in the music app history that was heard during \\\n",
    "## sessionId = 338, and itemInSession = 4\n",
    "Q1 = \"select artist, song from app_history where sessionId = 338 and itemInSession = 4\"\n",
    "run_cql(Q1, session)"
   ]
  },
  {
   "cell_type": "code",
   "execution_count": 115,
   "metadata": {},
   "outputs": [
    {
     "name": "stdout",
     "output_type": "stream",
     "text": [
      "Row(artist='Down To The Bone', song=\"Keep On Keepin' On\")\n",
      "Row(artist='Three Drives', song='Greece 2000')\n",
      "Row(artist='Sebastien Tellier', song='Kilometer')\n",
      "Row(artist='Lonnie Gordon', song='Catch You Baby (Steve Pitron & Max Sanna Radio Edit)')\n"
     ]
    }
   ],
   "source": [
    "## TO-DO: Query 2: Give me only the following: name of artist, song (sorted by itemInSession) and user (first and last name)\\\n",
    "## for userid = 10, sessionid = 182\n",
    "Q2 = \"select artist, song from user_history where userId = 10 and sessionId = 182\"\n",
    "run_cql(Q2, session)                   "
   ]
  },
  {
   "cell_type": "code",
   "execution_count": 116,
   "metadata": {},
   "outputs": [
    {
     "name": "stdout",
     "output_type": "stream",
     "text": [
      "Row(firstname='Jacqueline', lastname='Lynch')\n",
      "Row(firstname='Tegan', lastname='Levine')\n",
      "Row(firstname='Sara', lastname='Johnson')\n"
     ]
    }
   ],
   "source": [
    "## TO-DO: Query 3: Give me every user name (first and last) in my music app history who listened to the song 'All Hands Against His Own'\n",
    "Q3 = \"select firstName, lastName from song_history where song = 'All Hands Against His Own'\"\n",
    "run_cql(Q3, session)"
   ]
  },
  {
   "cell_type": "markdown",
   "metadata": {},
   "source": [
    "### Drop the tables before closing out the sessions"
   ]
  },
  {
   "cell_type": "code",
   "execution_count": 117,
   "metadata": {},
   "outputs": [],
   "source": [
    "run_cql(appHist_DROP, session)\n",
    "run_cql(userHist_DROP, session)\n",
    "run_cql(songHist_DROP, session)"
   ]
  },
  {
   "cell_type": "markdown",
   "metadata": {},
   "source": [
    "### Close the session and cluster connection¶"
   ]
  },
  {
   "cell_type": "code",
   "execution_count": 118,
   "metadata": {},
   "outputs": [],
   "source": [
    "session.shutdown()\n",
    "cluster.shutdown()"
   ]
  },
  {
   "cell_type": "code",
   "execution_count": null,
   "metadata": {},
   "outputs": [],
   "source": []
  }
 ],
 "metadata": {
  "kernelspec": {
   "display_name": "Python 3",
   "language": "python",
   "name": "python3"
  },
  "language_info": {
   "codemirror_mode": {
    "name": "ipython",
    "version": 3
   },
   "file_extension": ".py",
   "mimetype": "text/x-python",
   "name": "python",
   "nbconvert_exporter": "python",
   "pygments_lexer": "ipython3",
   "version": "3.6.3"
  }
 },
 "nbformat": 4,
 "nbformat_minor": 4
}
