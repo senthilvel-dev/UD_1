{
 "cells": [
  {
   "cell_type": "markdown",
   "metadata": {},
   "source": [
    "# Part I. ETL Pipeline for Pre-Processing the Files"
   ]
  },
  {
   "cell_type": "markdown",
   "metadata": {},
   "source": [
    "## PLEASE RUN THE FOLLOWING CODE FOR PRE-PROCESSING THE FILES"
   ]
  },
  {
   "cell_type": "markdown",
   "metadata": {},
   "source": [
    "#### Import Python packages "
   ]
  },
  {
   "cell_type": "code",
   "execution_count": 1,
   "metadata": {},
   "outputs": [],
   "source": [
    "# Import Python packages \n",
    "import pandas as pd\n",
    "import cassandra\n",
    "import re\n",
    "import os\n",
    "import glob\n",
    "import numpy as np\n",
    "import json\n",
    "import csv"
   ]
  },
  {
   "cell_type": "markdown",
   "metadata": {},
   "source": [
    "#### Creating list of filepaths to process original event csv data files"
   ]
  },
  {
   "cell_type": "code",
   "execution_count": 2,
   "metadata": {},
   "outputs": [
    {
     "name": "stdout",
     "output_type": "stream",
     "text": [
      "/home/workspace\n"
     ]
    }
   ],
   "source": [
    "# checking your current working directory\n",
    "print(os.getcwd())\n",
    "\n",
    "# Get your current folder and subfolder event data\n",
    "filepath = os.getcwd() + '/event_data'\n",
    "\n",
    "# Create a for loop to create a list of files and collect each filepath\n",
    "for root, dirs, files in os.walk(filepath):\n",
    "    \n",
    "# join the file path and roots with the subdirectories using glob\n",
    "    file_path_list = glob.glob(os.path.join(root,'*'))\n",
    "    #print(file_path_list)"
   ]
  },
  {
   "cell_type": "markdown",
   "metadata": {},
   "source": [
    "#### Processing the files to create the data file csv that will be used for Apache Casssandra tables"
   ]
  },
  {
   "cell_type": "code",
   "execution_count": 5,
   "metadata": {},
   "outputs": [
    {
     "name": "stdout",
     "output_type": "stream",
     "text": [
      "File :  /home/workspace/event_data/.ipynb_checkpoints/2018-11-01-events-checkpoint.csv\n",
      "['', 'Logged In', 'Walter', 'M', '0', 'Frye', '', 'free', 'San Francisco-Oakland-Hayward, CA', 'GET', 'Home', '1.54092E+12', '38', '', '200', '1.54111E+12', '39']\n",
      "['', 'Logged In', 'Kaylee', 'F', '0', 'Summers', '', 'free', 'Phoenix-Mesa-Scottsdale, AZ', 'GET', 'Home', '1.54034E+12', '139', '', '200', '1.54111E+12', '8']\n",
      "[\"Des'ree\", 'Logged In', 'Kaylee', 'F', '1', 'Summers', '246.30812', 'free', 'Phoenix-Mesa-Scottsdale, AZ', 'PUT', 'NextSong', '1.54034E+12', '139', 'You Gotta Be', '200', '1.54111E+12', '8']\n",
      "['', 'Logged In', 'Kaylee', 'F', '2', 'Summers', '', 'free', 'Phoenix-Mesa-Scottsdale, AZ', 'GET', 'Upgrade', '1.54034E+12', '139', '', '200', '1.54111E+12', '8']\n",
      "['Mr Oizo', 'Logged In', 'Kaylee', 'F', '3', 'Summers', '144.03873', 'free', 'Phoenix-Mesa-Scottsdale, AZ', 'PUT', 'NextSong', '1.54034E+12', '139', 'Flat 55', '200', '1.54111E+12', '8']\n",
      "['Tamba Trio', 'Logged In', 'Kaylee', 'F', '4', 'Summers', '177.18812', 'free', 'Phoenix-Mesa-Scottsdale, AZ', 'PUT', 'NextSong', '1.54034E+12', '139', 'Quem Quiser Encontrar O Amor', '200', '1.54111E+12', '8']\n",
      "['The Mars Volta', 'Logged In', 'Kaylee', 'F', '5', 'Summers', '380.42077', 'free', 'Phoenix-Mesa-Scottsdale, AZ', 'PUT', 'NextSong', '1.54034E+12', '139', 'Eriatarka', '200', '1.54111E+12', '8']\n",
      "['Infected Mushroom', 'Logged In', 'Kaylee', 'F', '6', 'Summers', '440.2673', 'free', 'Phoenix-Mesa-Scottsdale, AZ', 'PUT', 'NextSong', '1.54034E+12', '139', 'Becoming Insane', '200', '1.54111E+12', '8']\n",
      "['Blue October / Imogen Heap', 'Logged In', 'Kaylee', 'F', '7', 'Summers', '241.3971', 'free', 'Phoenix-Mesa-Scottsdale, AZ', 'PUT', 'NextSong', '1.54034E+12', '139', 'Congratulations', '200', '1.54111E+12', '8']\n",
      "['Girl Talk', 'Logged In', 'Kaylee', 'F', '8', 'Summers', '160.15628', 'free', 'Phoenix-Mesa-Scottsdale, AZ', 'PUT', 'NextSong', '1.54034E+12', '139', 'Once again', '200', '1.54111E+12', '8']\n",
      "['Black Eyed Peas', 'Logged In', 'Sylvie', 'F', '0', 'Cruz', '214.93506', 'free', 'Washington-Arlington-Alexandria, DC-VA-MD-WV', 'PUT', 'NextSong', '1.54027E+12', '9', 'Pump It', '200', '1.54111E+12', '10']\n",
      "['', 'Logged In', 'Ryan', 'M', '0', 'Smith', '', 'free', 'San Jose-Sunnyvale-Santa Clara, CA', 'GET', 'Home', '1.54102E+12', '169', '', '200', '1.54111E+12', '26']\n",
      "['Fall Out Boy', 'Logged In', 'Ryan', 'M', '1', 'Smith', '200.72444', 'free', 'San Jose-Sunnyvale-Santa Clara, CA', 'PUT', 'NextSong', '1.54102E+12', '169', 'Nobody Puts Baby In The Corner', '200', '1.54111E+12', '26']\n",
      "['M.I.A.', 'Logged In', 'Ryan', 'M', '2', 'Smith', '233.7171', 'free', 'San Jose-Sunnyvale-Santa Clara, CA', 'PUT', 'NextSong', '1.54102E+12', '169', 'Mango Pickle Down River (With The Wilcannia Mob)', '200', '1.54111E+12', '26']\n",
      "['Survivor', 'Logged In', 'Jayden', 'M', '0', 'Fox', '245.36771', 'free', 'New Orleans-Metairie, LA', 'PUT', 'NextSong', '1.54103E+12', '100', 'Eye Of The Tiger', '200', '1.54111E+12', '101']\n",
      "File :  /home/workspace/event_data/.ipynb_checkpoints/2018-11-11-events-checkpoint.csv\n",
      "['Frumpies', 'Logged In', 'Anabelle', 'F', '0', 'Simpson', '134.47791', 'free', 'Philadelphia-Camden-Wilmington, PA-NJ-DE-MD', 'PUT', 'NextSong', '1.54104E+12', '455', 'Hello Kitty', '200', '1.5419E+12', '69']\n",
      "['Kenny G with Peabo Bryson', 'Logged In', 'Anabelle', 'F', '1', 'Simpson', '264.75057', 'free', 'Philadelphia-Camden-Wilmington, PA-NJ-DE-MD', 'PUT', 'NextSong', '1.54104E+12', '455', 'By The Time This Night Is Over', '200', '1.5419E+12', '69']\n",
      "['Biffy Clyro', 'Logged In', 'Anabelle', 'F', '2', 'Simpson', '189.83138', 'free', 'Philadelphia-Camden-Wilmington, PA-NJ-DE-MD', 'PUT', 'NextSong', '1.54104E+12', '455', 'God & Satan', '200', '1.5419E+12', '69']\n",
      "['', 'Logged In', 'Lily', 'F', '0', 'Burns', '', 'free', 'New York-Newark-Jersey City, NY-NJ-PA', 'GET', 'Home', '1.54062E+12', '456', '', '200', '1.54191E+12', '32']\n",
      "['HIM', 'Logged In', 'Lily', 'F', '1', 'Burns', '212.06159', 'free', 'New York-Newark-Jersey City, NY-NJ-PA', 'PUT', 'NextSong', '1.54062E+12', '456', 'Beautiful', '200', '1.54191E+12', '32']\n",
      "['Matmos', 'Logged In', 'Joseph', 'M', '0', 'Gutierrez', '1449.11628', 'free', 'Columbia, SC', 'PUT', 'NextSong', '1.54081E+12', '284', 'Supreme Balloon', '200', '1.54191E+12', '75']\n",
      "['Gary Allan', 'Logged In', 'Ryann', 'F', '0', 'Smith', '259.83955', 'free', 'Palestine, TX', 'PUT', 'NextSong', '1.54069E+12', '328', 'The One', '200', '1.54193E+12', '92']\n",
      "['Miracle Fortress', 'Logged In', 'Ryann', 'F', '1', 'Smith', '200.9073', 'free', 'Palestine, TX', 'PUT', 'NextSong', '1.54069E+12', '328', 'Five Roses', '200', '1.54193E+12', '92']\n",
      "['Don Omar', 'Logged In', 'Ryann', 'F', '2', 'Smith', '261.35465', 'free', 'Palestine, TX', 'PUT', 'NextSong', '1.54069E+12', '328', 'Cuentale', '200', '1.54193E+12', '92']\n",
      "['Jay-Z', 'Logged In', 'Ryann', 'F', '3', 'Smith', '212.27057', 'free', 'Palestine, TX', 'PUT', 'NextSong', '1.54069E+12', '328', \"D'Evils\", '200', '1.54193E+12', '92']\n",
      "['Red Hot Chili Peppers', 'Logged In', 'Ryann', 'F', '4', 'Smith', '231.33995', 'free', 'Palestine, TX', 'PUT', 'NextSong', '1.54069E+12', '328', 'Easily (Album Version)', '200', '1.54193E+12', '92']\n",
      "['', 'Logged In', 'Chloe', 'F', '0', 'Cuevas', '', 'free', 'San Francisco-Oakland-Hayward, CA', 'GET', 'Home', '1.54094E+12', '437', '', '200', '1.54193E+12', '49']\n",
      "['Flogging Molly', 'Logged In', 'Chloe', 'F', '1', 'Cuevas', '361.9522', 'free', 'San Francisco-Oakland-Hayward, CA', 'PUT', 'NextSong', '1.54094E+12', '437', 'Rebels of the Sacred Heart', '200', '1.54193E+12', '49']\n",
      "['Reverend Horton Heat', 'Logged In', 'Chloe', 'F', '2', 'Cuevas', '158.64118', 'free', 'San Francisco-Oakland-Hayward, CA', 'PUT', 'NextSong', '1.54094E+12', '437', 'Now_ Right Now', '200', '1.54193E+12', '49']\n",
      "['Sea Wolf', 'Logged In', 'Chloe', 'F', '3', 'Cuevas', '232.61995', 'free', 'San Francisco-Oakland-Hayward, CA', 'PUT', 'NextSong', '1.54094E+12', '437', 'I Made A Resolution', '200', '1.54193E+12', '49']\n",
      "['Jason Mraz & Colbie Caillat', 'Logged In', 'Chloe', 'F', '4', 'Cuevas', '189.6224', 'free', 'San Francisco-Oakland-Hayward, CA', 'PUT', 'NextSong', '1.54094E+12', '437', 'Lucky (Album Version)', '200', '1.54193E+12', '49']\n",
      "['Jamie Lidell', 'Logged In', 'Chloe', 'F', '5', 'Cuevas', '175.25506', 'free', 'San Francisco-Oakland-Hayward, CA', 'PUT', 'NextSong', '1.54094E+12', '437', 'Enough\\x19s Enough', '200', '1.54193E+12', '49']\n",
      "['Feist', 'Logged In', 'Chloe', 'F', '6', 'Cuevas', '212.79302', 'free', 'San Francisco-Oakland-Hayward, CA', 'PUT', 'NextSong', '1.54094E+12', '437', 'Mushaboom (Postal Service Mix)', '200', '1.54193E+12', '49']\n",
      "['', 'Logged In', 'Chloe', 'F', '7', 'Cuevas', '', 'free', 'San Francisco-Oakland-Hayward, CA', 'PUT', 'Logout', '1.54094E+12', '437', '', '307', '1.54193E+12', '49']\n",
      "['', 'Logged Out', '', '', '8', '', '', 'free', '', 'GET', 'Home', '', '437', '', '200', '1.54193E+12', '']\n",
      "['', 'Logged Out', '', '', '9', '', '', 'free', '', 'GET', 'Home', '', '437', '', '200', '1.54193E+12', '']\n",
      "['', 'Logged Out', '', '', '10', '', '', 'free', '', 'PUT', 'Login', '', '437', '', '307', '1.54193E+12', '']\n",
      "['', 'Logged In', 'Chloe', 'F', '11', 'Cuevas', '', 'free', 'San Francisco-Oakland-Hayward, CA', 'GET', 'Home', '1.54094E+12', '437', '', '200', '1.54193E+12', '49']\n",
      "['Sex Slaves', 'Logged In', 'Chloe', 'F', '12', 'Cuevas', '175.51628', 'free', 'San Francisco-Oakland-Hayward, CA', 'PUT', 'NextSong', '1.54094E+12', '437', \"We're Going Out Tonight\", '200', '1.54193E+12', '49']\n",
      "['', 'Logged In', 'Chloe', 'F', '0', 'Cuevas', '', 'free', 'San Francisco-Oakland-Hayward, CA', 'GET', 'Home', '1.54094E+12', '469', '', '200', '1.54194E+12', '49']\n",
      "['Rise Against', 'Logged In', 'Chloe', 'F', '1', 'Cuevas', '169.482', 'free', 'San Francisco-Oakland-Hayward, CA', 'PUT', 'NextSong', '1.54094E+12', '469', 'To Them These Streets Belong', '200', '1.54194E+12', '49']\n",
      "['', 'Logged In', 'Mohammad', 'M', '0', 'Rodriguez', '', 'free', 'Sacramento--Roseville--Arden-Arcade, CA', 'GET', 'Home', '1.54051E+12', '441', '', '200', '1.54194E+12', '88']\n",
      "['BeyoncÃ\\x83Â©', 'Logged In', 'Mohammad', 'M', '1', 'Rodriguez', '359.54893', 'free', 'Sacramento--Roseville--Arden-Arcade, CA', 'PUT', 'NextSong', '1.54051E+12', '441', 'Get Me Bodied', '200', '1.54194E+12', '88']\n",
      "['Nate Dogg', 'Logged In', 'Mohammad', 'M', '2', 'Rodriguez', '356.38812', 'free', 'Sacramento--Roseville--Arden-Arcade, CA', 'PUT', 'NextSong', '1.54051E+12', '441', 'Never Leave Me Alone', '200', '1.54194E+12', '88']\n",
      "['', 'Logged In', 'Cierra', 'F', '0', 'Finley', '', 'free', 'Richmond, VA', 'GET', 'Home', '1.54101E+12', '443', '', '200', '1.54195E+12', '96']\n",
      "['Taylor Swift', 'Logged In', 'Cierra', 'F', '1', 'Finley', '233.89995', 'free', 'Richmond, VA', 'PUT', 'NextSong', '1.54101E+12', '443', 'Love Story', '200', '1.54195E+12', '96']\n",
      "['Lynyrd Skynyrd', 'Logged In', 'Ryan', 'M', '0', 'Smith', '216.60689', 'free', 'San Jose-Sunnyvale-Santa Clara, CA', 'PUT', 'NextSong', '1.54102E+12', '452', 'Sweet home Alabama', '200', '1.54195E+12', '26']\n",
      "['Kelis', 'Logged In', 'Cierra', 'F', '2', 'Finley', '293.58975', 'free', 'Richmond, VA', 'PUT', 'NextSong', '1.54101E+12', '443', 'Caught Out There (Explicit)', '200', '1.54195E+12', '96']\n",
      "['The Kills', 'Logged In', 'Cierra', 'F', '3', 'Finley', '203.38893', 'free', 'Richmond, VA', 'PUT', 'NextSong', '1.54101E+12', '443', 'Last Day Of Magic', '200', '1.54195E+12', '96']\n",
      "['', 'Logged In', 'Aleena', 'F', '0', 'Kirby', '', 'paid', 'Waterloo-Cedar Falls, IA', 'GET', 'Home', '1.54102E+12', '448', '', '200', '1.54195E+12', '44']\n",
      "['Collie Buddz featuring Paul Wall', 'Logged In', 'Aleena', 'F', '1', 'Kirby', '271.62077', 'paid', 'Waterloo-Cedar Falls, IA', 'PUT', 'NextSong', '1.54102E+12', '448', 'What A Feeling', '200', '1.54195E+12', '44']\n",
      "['Charttraxx Karaoke', 'Logged In', 'Cierra', 'F', '4', 'Finley', '225.17506', 'free', 'Richmond, VA', 'PUT', 'NextSong', '1.54101E+12', '443', 'Fireflies', '200', '1.54195E+12', '96']\n",
      "['Band Of Horses', 'Logged In', 'Aleena', 'F', '2', 'Kirby', '321.14893', 'paid', 'Waterloo-Cedar Falls, IA', 'PUT', 'NextSong', '1.54102E+12', '448', 'The Funeral (Album Version)', '200', '1.54195E+12', '44']\n",
      "['Coldplay', 'Logged In', 'Aleena', 'F', '3', 'Kirby', '307.51302', 'paid', 'Waterloo-Cedar Falls, IA', 'PUT', 'NextSong', '1.54102E+12', '448', 'Clocks', '200', '1.54195E+12', '44']\n",
      "['Bon Jovi', 'Logged In', 'Aleena', 'F', '4', 'Kirby', '228.75383', 'paid', 'Waterloo-Cedar Falls, IA', 'PUT', 'NextSong', '1.54102E+12', '448', 'Have A Nice Day', '200', '1.54195E+12', '44']\n",
      "['P.O.D.', 'Logged In', 'Aleena', 'F', '5', 'Kirby', '203.7024', 'paid', 'Waterloo-Cedar Falls, IA', 'PUT', 'NextSong', '1.54102E+12', '448', 'Alive (2006 Remastered Album Version)', '200', '1.54195E+12', '44']\n",
      "['Bloc Party', 'Logged In', 'Aleena', 'F', '6', 'Kirby', '222.04036', 'paid', 'Waterloo-Cedar Falls, IA', 'PUT', 'NextSong', '1.54102E+12', '448', 'Plans (Replanned by Mogwai)', '200', '1.54195E+12', '44']\n",
      "['Los Prisioneros', 'Logged In', 'Aleena', 'F', '7', 'Kirby', '211.12118', 'paid', 'Waterloo-Cedar Falls, IA', 'PUT', 'NextSong', '1.54102E+12', '448', 'Pa Pa Pa', '200', '1.54195E+12', '44']\n",
      "['Octopus Project', 'Logged In', 'Aleena', 'F', '8', 'Kirby', '175.25506', 'paid', 'Waterloo-Cedar Falls, IA', 'PUT', 'NextSong', '1.54102E+12', '448', 'Lots More Stairs', '200', '1.54195E+12', '44']\n",
      "['Roudoudou', 'Logged In', 'Aleena', 'F', '9', 'Kirby', '18.41587', 'paid', 'Waterloo-Cedar Falls, IA', 'PUT', 'NextSong', '1.54102E+12', '448', 'Ecoute Ce Scratch', '200', '1.54195E+12', '44']\n",
      "['Africando', 'Logged In', 'Aleena', 'F', '10', 'Kirby', '253.54404', 'paid', 'Waterloo-Cedar Falls, IA', 'PUT', 'NextSong', '1.54102E+12', '448', 'Tierra Tradicional', '200', '1.54195E+12', '44']\n",
      "['RUN-DMC Featuring Method Man_ Kenny Cash_ Mike Ransom_ and Jamel Simmons', 'Logged In', 'Aleena', 'F', '11', 'Kirby', '266.52689', 'paid', 'Waterloo-Cedar Falls, IA', 'PUT', 'NextSong', '1.54102E+12', '448', 'Simmons Incorporated', '200', '1.54195E+12', '44']\n",
      "['', 'Logged In', 'Colm', 'M', '0', 'Santana', '', 'free', 'Nashville-Davidson--Murfreesboro--Franklin, TN', 'GET', 'Home', '1.54086E+12', '414', '', '200', '1.54195E+12', '67']\n",
      "['Graham Coxon', 'Logged In', 'Colm', 'M', '1', 'Santana', '197.14567', 'free', 'Nashville-Davidson--Murfreesboro--Franklin, TN', 'PUT', 'NextSong', '1.54086E+12', '414', \"I'm Goin' Away\", '200', '1.54195E+12', '67']\n",
      "['Queens Of The Stone Age', 'Logged In', 'Aleena', 'F', '12', 'Kirby', '231.02649', 'paid', 'Waterloo-Cedar Falls, IA', 'PUT', 'NextSong', '1.54102E+12', '448', 'In The Fade', '200', '1.54195E+12', '44']\n",
      "['Dance Gavin Dance', 'Logged In', 'Colm', 'M', '2', 'Santana', '193.30567', 'free', 'Nashville-Davidson--Murfreesboro--Franklin, TN', 'PUT', 'NextSong', '1.54086E+12', '414', 'Strawberry AndrÃ\\x83Â© (Album Version)', '200', '1.54195E+12', '67']\n",
      "['', 'Logged In', 'Colm', 'M', '3', 'Santana', '', 'free', 'Nashville-Davidson--Murfreesboro--Franklin, TN', 'GET', 'Home', '1.54086E+12', '414', '', '200', '1.54195E+12', '67']\n",
      "['Passion Pit', 'Logged In', 'Aleena', 'F', '13', 'Kirby', '243.69587', 'paid', 'Waterloo-Cedar Falls, IA', 'PUT', 'NextSong', '1.54102E+12', '448', 'Eyes As Candles', '200', '1.54195E+12', '44']\n",
      "['', 'Logged In', 'Aleena', 'F', '14', 'Kirby', '', 'paid', 'Waterloo-Cedar Falls, IA', 'GET', 'Home', '1.54102E+12', '448', '', '200', '1.54195E+12', '44']\n",
      "['Black Eyed Peas', 'Logged In', 'Colm', 'M', '4', 'Santana', '229.61587', 'free', 'Nashville-Davidson--Murfreesboro--Franklin, TN', 'PUT', 'NextSong', '1.54086E+12', '414', \"Let's Get It Started\", '200', '1.54195E+12', '67']\n",
      "['Plastic Bertrand', 'Logged In', 'Colm', 'M', '5', 'Santana', '180.00934', 'free', 'Nashville-Davidson--Murfreesboro--Franklin, TN', 'PUT', 'NextSong', '1.54086E+12', '414', 'Ca plane pour moi', '200', '1.54195E+12', '67']\n",
      "['Cream', 'Logged In', 'Colm', 'M', '6', 'Santana', '166.5824', 'free', 'Nashville-Davidson--Murfreesboro--Franklin, TN', 'PUT', 'NextSong', '1.54086E+12', '414', 'Strange Brew', '200', '1.54195E+12', '67']\n",
      "['Coldplay', 'Logged In', 'Colm', 'M', '7', 'Santana', '284.39465', 'free', 'Nashville-Davidson--Murfreesboro--Franklin, TN', 'PUT', 'NextSong', '1.54086E+12', '414', 'A Message', '200', '1.54195E+12', '67']\n",
      "['Cute Is What We Aim For', 'Logged In', 'Colm', 'M', '8', 'Santana', '172.22485', 'free', 'Nashville-Davidson--Murfreesboro--Franklin, TN', 'PUT', 'NextSong', '1.54086E+12', '414', 'Sweat the Battle Before the Battle Sweats You (Album Version)', '200', '1.54195E+12', '67']\n",
      "['Metallica', 'Logged In', 'Connar', 'M', '0', 'Moreno', '256.9922', 'free', 'Houston-The Woodlands-Sugar Land, TX', 'PUT', 'NextSong', '1.54082E+12', '218', 'Of Wolf And Man', '200', '1.54195E+12', '62']\n",
      "['The Kills', 'Logged In', 'Connar', 'M', '1', 'Moreno', '217.70404', 'free', 'Houston-The Woodlands-Sugar Land, TX', 'PUT', 'NextSong', '1.54082E+12', '218', 'Tape Song', '200', '1.54195E+12', '62']\n",
      "['Foo Fighters', 'Logged In', 'Connar', 'M', '2', 'Moreno', '271.38567', 'free', 'Houston-The Woodlands-Sugar Land, TX', 'PUT', 'NextSong', '1.54082E+12', '218', 'The Pretender', '200', '1.54195E+12', '62']\n",
      "['Plaid', 'Logged In', 'Connar', 'M', '3', 'Moreno', '260.96281', 'free', 'Houston-The Woodlands-Sugar Land, TX', 'PUT', 'NextSong', '1.54082E+12', '218', 'Eyen [Chosen by fans on Warp20.net]', '200', '1.54195E+12', '62']\n",
      "['', 'Logged In', 'Brayden', 'M', '0', 'Clark', '', 'free', 'New York-Newark-Jersey City, NY-NJ-PA', 'GET', 'Home', '1.54103E+12', '120', '', '200', '1.54195E+12', '41']\n",
      "['', 'Logged In', 'Theodore', 'M', '0', 'Harris', '', 'free', 'Red Bluff, CA', 'GET', 'Home', '1.5411E+12', '462', '', '200', '1.54196E+12', '14']\n",
      "['The Van Pelt', 'Logged In', 'Theodore', 'M', '1', 'Harris', '208.71791', 'free', 'Red Bluff, CA', 'PUT', 'NextSong', '1.5411E+12', '462', \"It's New To Me\", '200', '1.54196E+12', '14']\n",
      "['', 'Logged In', 'Ryan', 'M', '0', 'Smith', '', 'free', 'San Jose-Sunnyvale-Santa Clara, CA', 'GET', 'Home', '1.54102E+12', '472', '', '200', '1.54196E+12', '26']\n",
      "['44', 'Logged In', 'Ryan', 'M', '1', 'Smith', '224.57424', 'free', 'San Jose-Sunnyvale-Santa Clara, CA', 'PUT', 'NextSong', '1.54102E+12', '472', 'Make You Smile', '200', '1.54196E+12', '26']\n",
      "['', 'Logged In', 'Rylan', 'M', '0', 'George', '', 'free', 'Birmingham-Hoover, AL', 'GET', 'Home', '1.54102E+12', '446', '', '200', '1.54196E+12', '16']\n",
      "['Chris Brown', 'Logged In', 'Rylan', 'M', '1', 'George', '275.1473', 'free', 'Birmingham-Hoover, AL', 'PUT', 'NextSong', '1.54102E+12', '446', 'I May Never Find', '200', '1.54196E+12', '16']\n",
      "['KT Tunstall', 'Logged In', 'Ryan', 'M', '2', 'Smith', '170.47465', 'free', 'San Jose-Sunnyvale-Santa Clara, CA', 'PUT', 'NextSong', '1.54102E+12', '472', 'Black Horse And The Cherry Tree (Radio Version)', '200', '1.54196E+12', '26']\n",
      "['Cascada', 'Logged In', 'Rylan', 'M', '2', 'George', '184.39791', 'free', 'Birmingham-Hoover, AL', 'PUT', 'NextSong', '1.54102E+12', '446', 'Kids In America', '200', '1.54196E+12', '16']\n",
      "['Incubus', 'Logged In', 'Ryan', 'M', '3', 'Smith', '293.38077', 'free', 'San Jose-Sunnyvale-Santa Clara, CA', 'PUT', 'NextSong', '1.54102E+12', '472', 'Black Heart Inertia', '200', '1.54196E+12', '26']\n",
      "['', 'Logged In', 'Ryan', 'M', '4', 'Smith', '', 'free', 'San Jose-Sunnyvale-Santa Clara, CA', 'GET', 'Help', '1.54102E+12', '472', '', '200', '1.54196E+12', '26']\n",
      "['', 'Logged In', 'Ryan', 'M', '5', 'Smith', '', 'free', 'San Jose-Sunnyvale-Santa Clara, CA', 'GET', 'Home', '1.54102E+12', '472', '', '200', '1.54196E+12', '26']\n",
      "['', 'Logged In', 'Tegan', 'F', '0', 'Levine', '', 'paid', 'Portland-South Portland, ME', 'GET', 'Home', '1.54079E+12', '435', '', '200', '1.54197E+12', '80']\n",
      "['Miike Snow', 'Logged In', 'Tegan', 'F', '1', 'Levine', '220.83873', 'paid', 'Portland-South Portland, ME', 'PUT', 'NextSong', '1.54079E+12', '435', 'Black & Blue', '200', '1.54197E+12', '80']\n",
      "['Cartola', 'Logged In', 'Tegan', 'F', '2', 'Levine', '208.92689', 'paid', 'Portland-South Portland, ME', 'PUT', 'NextSong', '1.54079E+12', '435', 'Sala De RecepÃ\\x83Â§Ã\\x83Â£o', '200', '1.54197E+12', '80']\n",
      "['Kill The Client', 'Logged In', 'Tegan', 'F', '3', 'Levine', '70.68689', 'paid', 'Portland-South Portland, ME', 'PUT', 'NextSong', '1.54079E+12', '435', 'Commander In Thief', '200', '1.54197E+12', '80']\n",
      "['', 'Logged In', 'Tegan', 'F', '4', 'Levine', '', 'paid', 'Portland-South Portland, ME', 'GET', 'Home', '1.54079E+12', '435', '', '200', '1.54197E+12', '80']\n",
      "['Wolfmother', 'Logged In', 'Tegan', 'F', '5', 'Levine', '175.82975', 'paid', 'Portland-South Portland, ME', 'PUT', 'NextSong', '1.54079E+12', '435', 'Woman', '200', '1.54197E+12', '80']\n",
      "['Old Crow Medicine Show', 'Logged In', 'Tegan', 'F', '6', 'Levine', '231.73179', 'paid', 'Portland-South Portland, ME', 'PUT', 'NextSong', '1.54079E+12', '435', 'Wagon Wheel', '200', '1.54197E+12', '80']\n",
      "['Architecture In Helsinki', 'Logged In', 'Tegan', 'F', '7', 'Levine', '173.73995', 'paid', 'Portland-South Portland, ME', 'PUT', 'NextSong', '1.54079E+12', '435', 'Debbie', '200', '1.54197E+12', '80']\n",
      "['Charlie Louvin', 'Logged In', 'Tegan', 'F', '8', 'Levine', '170.86649', 'paid', 'Portland-South Portland, ME', 'PUT', 'NextSong', '1.54079E+12', '435', \"I Think I'll Live\", '200', '1.54197E+12', '80']\n",
      "['Miguel Morales', 'Logged In', 'Tegan', 'F', '9', 'Levine', '270.78485', 'paid', 'Portland-South Portland, ME', 'PUT', 'NextSong', '1.54079E+12', '435', 'La Derrota de Un Don Juan', '200', '1.54197E+12', '80']\n",
      "['Dominique A', 'Logged In', 'Tegan', 'F', '10', 'Levine', '153.20771', 'paid', 'Portland-South Portland, ME', 'PUT', 'NextSong', '1.54079E+12', '435', 'Le Courage Des Oiseaux', '200', '1.54197E+12', '80']\n",
      "['Cock Sparrer', 'Logged In', 'Tegan', 'F', '11', 'Levine', '203.25832', 'paid', 'Portland-South Portland, ME', 'PUT', 'NextSong', '1.54079E+12', '435', 'Run With The Blind', '200', '1.54197E+12', '80']\n",
      "['Jimmy Wakely', 'Logged In', 'Tegan', 'F', '12', 'Levine', '165.74649', 'paid', 'Portland-South Portland, ME', 'PUT', 'NextSong', '1.54079E+12', '435', 'I Love You So Much It Hurts', '200', '1.54197E+12', '80']\n",
      "['Peter Doherty', 'Logged In', 'Tegan', 'F', '13', 'Levine', '217.02485', 'paid', 'Portland-South Portland, ME', 'PUT', 'NextSong', '1.54079E+12', '435', 'A Little Death Around the Eyes', '200', '1.54197E+12', '80']\n",
      "['Katy Perry', 'Logged In', 'Tegan', 'F', '14', 'Levine', '246.41261', 'paid', 'Portland-South Portland, ME', 'PUT', 'NextSong', '1.54079E+12', '435', 'Thinking Of You', '200', '1.54197E+12', '80']\n",
      "['Sidewalk Prophets', 'Logged In', 'Molly', 'F', '0', 'Taylor', '260.62322', 'free', 'St. Louis, MO-IL', 'PUT', 'NextSong', '1.54099E+12', '464', 'You Love Me Anyway (Album)', '200', '1.54197E+12', '35']\n",
      "['Rise Against', 'Logged In', 'Molly', 'F', '1', 'Taylor', '221.17832', 'free', 'St. Louis, MO-IL', 'PUT', 'NextSong', '1.54099E+12', '464', 'Torches', '200', '1.54197E+12', '35']\n",
      "[\"K'Naan\", 'Logged In', 'Molly', 'F', '2', 'Taylor', '220.49914', 'free', 'St. Louis, MO-IL', 'PUT', 'NextSong', '1.54099E+12', '464', \"Wavin'  Flag\", '200', '1.54197E+12', '35']\n",
      "['Patrick Jumpen', 'Logged In', 'Ryan', 'M', '0', 'Smith', '208.87465', 'free', 'San Jose-Sunnyvale-Santa Clara, CA', 'PUT', 'NextSong', '1.54102E+12', '480', 'Holiday', '200', '1.54198E+12', '26']\n",
      "['Alicia Keys', 'Logged In', 'Ryan', 'M', '1', 'Smith', '216.47628', 'free', 'San Jose-Sunnyvale-Santa Clara, CA', 'PUT', 'NextSong', '1.54102E+12', '480', 'Empire State Of Mind (Part II) Broken Down', '200', '1.54198E+12', '26']\n",
      "110\n"
     ]
    }
   ],
   "source": [
    "# initiating an empty list of rows that will be generated from each file\n",
    "full_data_rows_list = [] \n",
    "    \n",
    "# for every filepath in the file path list \n",
    "for f in file_path_list:\n",
    "\n",
    "# reading csv file \n",
    "    print('File : ',f)\n",
    "    with open(f, 'r', encoding = 'utf8', newline='') as csvfile: \n",
    "        # creating a csv reader object \n",
    "        csvreader = csv.reader(csvfile) \n",
    "        next(csvreader)\n",
    "        \n",
    " # extracting each data row one by one and append it        \n",
    "        for line in csvreader:\n",
    "            #print(line)\n",
    "            full_data_rows_list.append(line) \n",
    "            \n",
    "# uncomment the code below if you would like to get total number of rows \n",
    "print(len(full_data_rows_list))\n",
    "# uncomment the code below if you would like to check to see what the list of event data rows will look like\n",
    "#print(full_data_rows_list)\n",
    "\n",
    "# creating a smaller event data csv file called event_datafile_full csv that will be used to insert data into the \\\n",
    "# Apache Cassandra tables\n",
    "csv.register_dialect('myDialect', quoting=csv.QUOTE_ALL, skipinitialspace=True)\n",
    "\n",
    "with open('event_datafile_new.csv', 'w', encoding = 'utf8', newline='') as f:\n",
    "    writer = csv.writer(f, dialect='myDialect')\n",
    "    writer.writerow(['artist','firstName','gender','itemInSession','lastName','length',\\\n",
    "                'level','location','sessionId','song','userId'])\n",
    "    for row in full_data_rows_list:\n",
    "        if (row[0] == ''):\n",
    "            continue\n",
    "        writer.writerow((row[0], row[2], row[3], row[4], row[5], row[6], row[7], row[8], row[12], row[13], row[16]))\n"
   ]
  },
  {
   "cell_type": "code",
   "execution_count": null,
   "metadata": {},
   "outputs": [],
   "source": [
    "# check the number of rows in your csv file\n",
    "with open('event_datafile_new.csv', 'r', encoding = 'utf8') as f:\n",
    "    print(sum(1 for line in f))"
   ]
  },
  {
   "cell_type": "markdown",
   "metadata": {},
   "source": [
    "# Part II. Complete the Apache Cassandra coding portion of your project. \n",
    "\n",
    "## Now you are ready to work with the CSV file titled <font color=red>event_datafile_new.csv</font>, located within the Workspace directory.  The event_datafile_new.csv contains the following columns: \n",
    "- artist \n",
    "- firstName of user\n",
    "- gender of user\n",
    "- item number in session\n",
    "- last name of user\n",
    "- length of the song\n",
    "- level (paid or free song)\n",
    "- location of the user\n",
    "- sessionId\n",
    "- song title\n",
    "- userId\n",
    "\n",
    "The image below is a screenshot of what the denormalized data should appear like in the <font color=red>**event_datafile_new.csv**</font> after the code above is run:<br>\n",
    "\n",
    "<img src=\"images/image_event_datafile_new.jpg\">"
   ]
  },
  {
   "cell_type": "markdown",
   "metadata": {},
   "source": [
    "## Begin writing your Apache Cassandra code in the cells below"
   ]
  },
  {
   "cell_type": "markdown",
   "metadata": {},
   "source": [
    "#### Creating a Cluster"
   ]
  },
  {
   "cell_type": "code",
   "execution_count": null,
   "metadata": {},
   "outputs": [],
   "source": [
    "# This should make a connection to a Cassandra instance your local machine \n",
    "# (127.0.0.1)\n",
    "\n",
    "from cassandra.cluster import Cluster\n",
    "cluster = Cluster()\n",
    "\n",
    "# To establish connection and begin executing queries, need a session\n",
    "session = cluster.connect()"
   ]
  },
  {
   "cell_type": "markdown",
   "metadata": {},
   "source": [
    "#### Create Keyspace"
   ]
  },
  {
   "cell_type": "code",
   "execution_count": null,
   "metadata": {},
   "outputs": [],
   "source": [
    "# TO-DO: Create a Keyspace "
   ]
  },
  {
   "cell_type": "markdown",
   "metadata": {},
   "source": [
    "#### Set Keyspace"
   ]
  },
  {
   "cell_type": "code",
   "execution_count": null,
   "metadata": {},
   "outputs": [],
   "source": [
    "# TO-DO: Set KEYSPACE to the keyspace specified above\n"
   ]
  },
  {
   "cell_type": "markdown",
   "metadata": {},
   "source": [
    "### Now we need to create tables to run the following queries. Remember, with Apache Cassandra you model the database tables on the queries you want to run."
   ]
  },
  {
   "cell_type": "markdown",
   "metadata": {},
   "source": [
    "## Create queries to ask the following three questions of the data\n",
    "\n",
    "### 1. Give me the artist, song title and song's length in the music app history that was heard during  sessionId = 338, and itemInSession  = 4\n",
    "\n",
    "\n",
    "### 2. Give me only the following: name of artist, song (sorted by itemInSession) and user (first and last name) for userid = 10, sessionid = 182\n",
    "    \n",
    "\n",
    "### 3. Give me every user name (first and last) in my music app history who listened to the song 'All Hands Against His Own'\n",
    "\n",
    "\n"
   ]
  },
  {
   "cell_type": "code",
   "execution_count": 1,
   "metadata": {},
   "outputs": [],
   "source": [
    "## TO-DO: Query 1:  Give me the artist, song title and song's length in the music app history that was heard during \\\n",
    "## sessionId = 338, and itemInSession = 4\n",
    "\n",
    "\n",
    "                    "
   ]
  },
  {
   "cell_type": "code",
   "execution_count": null,
   "metadata": {},
   "outputs": [],
   "source": [
    "# We have provided part of the code to set up the CSV file. Please complete the Apache Cassandra code below#\n",
    "file = 'event_datafile_new.csv'\n",
    "\n",
    "with open(file, encoding = 'utf8') as f:\n",
    "    csvreader = csv.reader(f)\n",
    "    next(csvreader) # skip header\n",
    "    for line in csvreader:\n",
    "## TO-DO: Assign the INSERT statements into the `query` variable\n",
    "        query = \"<ENTER INSERT STATEMENT HERE>\"\n",
    "        query = query + \"<ASSIGN VALUES HERE>\"\n",
    "        ## TO-DO: Assign which column element should be assigned for each column in the INSERT statement.\n",
    "        ## For e.g., to INSERT artist_name and user first_name, you would change the code below to `line[0], line[1]`\n",
    "        session.execute(query, (line[#], line[#]))"
   ]
  },
  {
   "cell_type": "markdown",
   "metadata": {},
   "source": [
    "#### Do a SELECT to verify that the data have been inserted into each table"
   ]
  },
  {
   "cell_type": "code",
   "execution_count": null,
   "metadata": {
    "scrolled": true
   },
   "outputs": [],
   "source": [
    "## TO-DO: Add in the SELECT statement to verify the data was entered into the table"
   ]
  },
  {
   "cell_type": "markdown",
   "metadata": {},
   "source": [
    "### COPY AND REPEAT THE ABOVE THREE CELLS FOR EACH OF THE THREE QUESTIONS"
   ]
  },
  {
   "cell_type": "code",
   "execution_count": null,
   "metadata": {},
   "outputs": [],
   "source": [
    "## TO-DO: Query 2: Give me only the following: name of artist, song (sorted by itemInSession) and user (first and last name)\\\n",
    "## for userid = 10, sessionid = 182\n",
    "\n",
    "\n",
    "                    "
   ]
  },
  {
   "cell_type": "code",
   "execution_count": null,
   "metadata": {},
   "outputs": [],
   "source": [
    "## TO-DO: Query 3: Give me every user name (first and last) in my music app history who listened to the song 'All Hands Against His Own'\n",
    "\n",
    "\n",
    "                    "
   ]
  },
  {
   "cell_type": "code",
   "execution_count": null,
   "metadata": {},
   "outputs": [],
   "source": []
  },
  {
   "cell_type": "code",
   "execution_count": null,
   "metadata": {},
   "outputs": [],
   "source": []
  },
  {
   "cell_type": "markdown",
   "metadata": {},
   "source": [
    "### Drop the tables before closing out the sessions"
   ]
  },
  {
   "cell_type": "code",
   "execution_count": 4,
   "metadata": {},
   "outputs": [],
   "source": [
    "## TO-DO: Drop the table before closing out the sessions"
   ]
  },
  {
   "cell_type": "code",
   "execution_count": null,
   "metadata": {},
   "outputs": [],
   "source": []
  },
  {
   "cell_type": "markdown",
   "metadata": {},
   "source": [
    "### Close the session and cluster connection¶"
   ]
  },
  {
   "cell_type": "code",
   "execution_count": null,
   "metadata": {},
   "outputs": [],
   "source": [
    "session.shutdown()\n",
    "cluster.shutdown()"
   ]
  },
  {
   "cell_type": "code",
   "execution_count": null,
   "metadata": {},
   "outputs": [],
   "source": []
  },
  {
   "cell_type": "code",
   "execution_count": null,
   "metadata": {},
   "outputs": [],
   "source": []
  }
 ],
 "metadata": {
  "kernelspec": {
   "display_name": "Python 3",
   "language": "python",
   "name": "python3"
  },
  "language_info": {
   "codemirror_mode": {
    "name": "ipython",
    "version": 3
   },
   "file_extension": ".py",
   "mimetype": "text/x-python",
   "name": "python",
   "nbconvert_exporter": "python",
   "pygments_lexer": "ipython3",
   "version": "3.6.3"
  }
 },
 "nbformat": 4,
 "nbformat_minor": 4
}
