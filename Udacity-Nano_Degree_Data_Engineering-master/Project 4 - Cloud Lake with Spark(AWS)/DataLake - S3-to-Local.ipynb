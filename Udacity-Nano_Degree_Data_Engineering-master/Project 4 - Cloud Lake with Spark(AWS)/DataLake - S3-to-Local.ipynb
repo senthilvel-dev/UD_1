{
 "cells": [
  {
   "cell_type": "markdown",
   "metadata": {},
   "source": [
    "### Data lake tests after downloading files from Udacity S3 Storage\n",
    "\n",
    "This is taken forward to make etl.py"
   ]
  },
  {
   "cell_type": "code",
   "execution_count": 1,
   "metadata": {},
   "outputs": [],
   "source": [
    "import configparser\n",
    "import os\n",
    "from time import time\n",
    "import numpy as np\n",
    "import pandas as pd\n",
    "import matplotlib.pyplot as plt"
   ]
  },
  {
   "cell_type": "code",
   "execution_count": 2,
   "metadata": {},
   "outputs": [],
   "source": [
    "import pyspark\n",
    "from pyspark import SparkConf\n",
    "from pyspark.sql import SparkSession\n",
    "\n",
    "from pyspark.sql.types import StructType, StructField\n",
    "from pyspark.sql.types import StringType, IntegerType, FloatType, TimestampType, LongType, DoubleType\n",
    "\n",
    "import datetime #Required for ts conversion\n",
    "from pyspark.sql.functions import udf\n",
    "from pyspark.sql import functions as F\n",
    "from pyspark.sql.functions import year, month, dayofmonth, hour, minute, second\n",
    "\n",
    "from pyspark.sql import Window\n",
    "from pyspark.sql.functions import asc, desc\n",
    "from pyspark.sql.functions import sum as Fsum"
   ]
  },
  {
   "cell_type": "markdown",
   "metadata": {},
   "source": [
    "Make sure that your AWS credentials are loaded as env vars"
   ]
  },
  {
   "cell_type": "code",
   "execution_count": 3,
   "metadata": {},
   "outputs": [],
   "source": [
    "config = configparser.ConfigParser()\n",
    "\n",
    "#Normally this file should be in ~/.aws/credentials\n",
    "config.read_file(open('aws/credentials.cfg'))\n",
    "\n",
    "os.environ[\"AWS_ACCESS_KEY_ID\"]= config['AWS']['AWS_ACCESS_KEY_ID']\n",
    "os.environ[\"AWS_SECRET_ACCESS_KEY\"]= config['AWS']['AWS_SECRET_ACCESS_KEY']"
   ]
  },
  {
   "cell_type": "markdown",
   "metadata": {},
   "source": [
    "### Run S3Download.py to download data from S3"
   ]
  },
  {
   "cell_type": "markdown",
   "metadata": {},
   "source": [
    "Create spark session with hadoop-aws package"
   ]
  },
  {
   "cell_type": "code",
   "execution_count": 4,
   "metadata": {},
   "outputs": [],
   "source": [
    "spark = SparkSession \\\n",
    "    .builder \\\n",
    "    .appName(\"DataLake - Local\") \\\n",
    "    .getOrCreate()"
   ]
  },
  {
   "cell_type": "code",
   "execution_count": 5,
   "metadata": {},
   "outputs": [
    {
     "data": {
      "text/plain": [
       "[('spark.driver.port', '39049'),\n",
       " ('spark.rdd.compress', 'True'),\n",
       " ('spark.driver.host', '2b56746a4133'),\n",
       " ('spark.serializer.objectStreamReset', '100'),\n",
       " ('spark.master', 'local[*]'),\n",
       " ('spark.app.id', 'local-1572799424875'),\n",
       " ('spark.executor.id', 'driver'),\n",
       " ('spark.app.name', 'DataLake - Local'),\n",
       " ('spark.submit.deployMode', 'client'),\n",
       " ('spark.ui.showConsoleProgress', 'true')]"
      ]
     },
     "execution_count": 5,
     "metadata": {},
     "output_type": "execute_result"
    }
   ],
   "source": [
    "spark.sparkContext.getConf().getAll()"
   ]
  },
  {
   "cell_type": "code",
   "execution_count": 6,
   "metadata": {},
   "outputs": [
    {
     "data": {
      "text/html": [
       "\n",
       "            <div>\n",
       "                <p><b>SparkSession - in-memory</b></p>\n",
       "                \n",
       "        <div>\n",
       "            <p><b>SparkContext</b></p>\n",
       "\n",
       "            <p><a href=\"http://2b56746a4133:4041\">Spark UI</a></p>\n",
       "\n",
       "            <dl>\n",
       "              <dt>Version</dt>\n",
       "                <dd><code>v2.4.3</code></dd>\n",
       "              <dt>Master</dt>\n",
       "                <dd><code>local[*]</code></dd>\n",
       "              <dt>AppName</dt>\n",
       "                <dd><code>DataLake - Local</code></dd>\n",
       "            </dl>\n",
       "        </div>\n",
       "        \n",
       "            </div>\n",
       "        "
      ],
      "text/plain": [
       "<pyspark.sql.session.SparkSession at 0x7f8237301518>"
      ]
     },
     "execution_count": 6,
     "metadata": {},
     "output_type": "execute_result"
    }
   ],
   "source": [
    "spark"
   ]
  },
  {
   "cell_type": "markdown",
   "metadata": {},
   "source": [
    "## Gather"
   ]
  },
  {
   "cell_type": "code",
   "execution_count": 33,
   "metadata": {},
   "outputs": [
    {
     "name": "stdout",
     "output_type": "stream",
     "text": [
      "CPU times: user 0 ns, sys: 2.43 ms, total: 2.43 ms\n",
      "Wall time: 180 ms\n"
     ]
    }
   ],
   "source": [
    "%%time\n",
    "path = \"./log_data/*/*/*.json\"\n",
    "path = \"./merged_log_data.json\"\n",
    "\n",
    "log_schema = StructType([\n",
    "    StructField(\"artist\", StringType()),\n",
    "    StructField(\"auth\", StringType()),\n",
    "    StructField(\"firstName\", StringType()),\n",
    "    StructField(\"gender\", StringType()),\n",
    "    StructField(\"itemInSession\", LongType()),\n",
    "    StructField(\"lastName\", StringType()),\n",
    "    StructField(\"length\", DoubleType()),\n",
    "    StructField(\"level\", StringType()),\n",
    "    StructField(\"location\", StringType()),\n",
    "    StructField(\"method\", StringType()),\n",
    "    StructField(\"page\", StringType()),\n",
    "    StructField(\"registration\", DoubleType()),\n",
    "    StructField(\"sessionId\", LongType()),\n",
    "    StructField(\"song\", StringType()),\n",
    "    StructField(\"status\", StringType()),\n",
    "    StructField(\"ts\", StringType()),\n",
    "    StructField(\"userAgent\", StringType()),\n",
    "    StructField(\"userId\", StringType())\n",
    "])\n",
    "\n",
    "log_df = spark.read.json(path, \n",
    "          schema=log_schema)\n",
    "\n",
    "#log_df = spark.read.json(path)"
   ]
  },
  {
   "cell_type": "code",
   "execution_count": 34,
   "metadata": {},
   "outputs": [
    {
     "name": "stdout",
     "output_type": "stream",
     "text": [
      "CPU times: user 2.45 ms, sys: 544 µs, total: 3 ms\n",
      "Wall time: 191 ms\n"
     ]
    }
   ],
   "source": [
    "%%time\n",
    "path = \"./song_data/*/*/*/*.json\"\n",
    "path = \"./merged_song_data.json\"\n",
    "#path = \"data/song-data/song_data/A/A/A/TRAAAAW128F429D538.json\"\n",
    "song_schema = StructType([\n",
    "\tStructField(\"num_songs\", IntegerType()),\n",
    "    StructField(\"artist_id\", StringType()),\n",
    "    StructField(\"artist_latitude\", FloatType()),\n",
    "    StructField(\"artist_longitude\", FloatType()),\n",
    "    StructField(\"artist_location\", StringType()),\n",
    "    StructField(\"artist_name\", StringType()),\n",
    "    StructField(\"song_id\", StringType()),\n",
    "    StructField(\"title\", StringType()),\n",
    "    StructField(\"duration\", FloatType()),\n",
    "    StructField(\"year\", IntegerType())\n",
    "])\n",
    "\n",
    "song_df = spark.read.json(path, \n",
    "          schema=song_schema)\n",
    "#song_df = spark.read.schema(song_schema).json(path)"
   ]
  },
  {
   "cell_type": "markdown",
   "metadata": {},
   "source": [
    "## Assess"
   ]
  },
  {
   "cell_type": "code",
   "execution_count": 35,
   "metadata": {},
   "outputs": [
    {
     "name": "stdout",
     "output_type": "stream",
     "text": [
      "root\n",
      " |-- artist: string (nullable = true)\n",
      " |-- auth: string (nullable = true)\n",
      " |-- firstName: string (nullable = true)\n",
      " |-- gender: string (nullable = true)\n",
      " |-- itemInSession: long (nullable = true)\n",
      " |-- lastName: string (nullable = true)\n",
      " |-- length: double (nullable = true)\n",
      " |-- level: string (nullable = true)\n",
      " |-- location: string (nullable = true)\n",
      " |-- method: string (nullable = true)\n",
      " |-- page: string (nullable = true)\n",
      " |-- registration: double (nullable = true)\n",
      " |-- sessionId: long (nullable = true)\n",
      " |-- song: string (nullable = true)\n",
      " |-- status: string (nullable = true)\n",
      " |-- ts: string (nullable = true)\n",
      " |-- userAgent: string (nullable = true)\n",
      " |-- userId: string (nullable = true)\n",
      "\n"
     ]
    }
   ],
   "source": [
    "log_df.printSchema()"
   ]
  },
  {
   "cell_type": "code",
   "execution_count": 36,
   "metadata": {},
   "outputs": [
    {
     "name": "stdout",
     "output_type": "stream",
     "text": [
      "CPU times: user 1.68 ms, sys: 0 ns, total: 1.68 ms\n",
      "Wall time: 906 ms\n"
     ]
    },
    {
     "data": {
      "text/plain": [
       "8056"
      ]
     },
     "execution_count": 36,
     "metadata": {},
     "output_type": "execute_result"
    }
   ],
   "source": [
    "%%time\n",
    "log_df.count()"
   ]
  },
  {
   "cell_type": "code",
   "execution_count": 37,
   "metadata": {},
   "outputs": [
    {
     "name": "stdout",
     "output_type": "stream",
     "text": [
      "+--------------+---------+---------+------+-------------+--------+---------+-----+--------------------+------+--------+-----------------+---------+--------------+------+-------------+--------------------+------+\n",
      "|        artist|     auth|firstName|gender|itemInSession|lastName|   length|level|            location|method|    page|     registration|sessionId|          song|status|           ts|           userAgent|userId|\n",
      "+--------------+---------+---------+------+-------------+--------+---------+-----+--------------------+------+--------+-----------------+---------+--------------+------+-------------+--------------------+------+\n",
      "|          null|Logged In|    Adler|     M|            0| Barrera|     null| free|New York-Newark-J...|   GET|    Home|1.540835983796E12|      248|          null|   200|1541470364796|\"Mozilla/5.0 (Mac...|   100|\n",
      "|Gustavo Cerati|Logged In|    Adler|     M|            1| Barrera|249.44281| free|New York-Newark-J...|   PUT|NextSong|1.540835983796E12|      248|Uno Entre 1000|   200|1541470383796|\"Mozilla/5.0 (Mac...|   100|\n",
      "+--------------+---------+---------+------+-------------+--------+---------+-----+--------------------+------+--------+-----------------+---------+--------------+------+-------------+--------------------+------+\n",
      "only showing top 2 rows\n",
      "\n"
     ]
    }
   ],
   "source": [
    "log_df.show(2)"
   ]
  },
  {
   "cell_type": "code",
   "execution_count": 38,
   "metadata": {},
   "outputs": [
    {
     "name": "stdout",
     "output_type": "stream",
     "text": [
      "+----------+\n",
      "|      auth|\n",
      "+----------+\n",
      "|Logged Out|\n",
      "| Logged In|\n",
      "+----------+\n",
      "\n"
     ]
    }
   ],
   "source": [
    "# Checking auth column (Logged Out, Logged In)\n",
    "log_df.select(\"auth\").dropDuplicates().show()"
   ]
  },
  {
   "cell_type": "code",
   "execution_count": 39,
   "metadata": {},
   "outputs": [
    {
     "name": "stdout",
     "output_type": "stream",
     "text": [
      "+------+-----+\n",
      "|gender|count|\n",
      "+------+-----+\n",
      "|     F| 5482|\n",
      "|  null|  286|\n",
      "|     M| 2288|\n",
      "+------+-----+\n",
      "\n"
     ]
    }
   ],
   "source": [
    "# Checking gender column ( replace null with blank)\n",
    "log_df.groupby(log_df.gender).count().show()"
   ]
  },
  {
   "cell_type": "code",
   "execution_count": 40,
   "metadata": {},
   "outputs": [
    {
     "name": "stdout",
     "output_type": "stream",
     "text": [
      "+-------------+\n",
      "|iteminsession|\n",
      "+-------------+\n",
      "|           26|\n",
      "|           29|\n",
      "|           65|\n",
      "|           19|\n",
      "|           54|\n",
      "|            0|\n",
      "|          112|\n",
      "|          113|\n",
      "|           22|\n",
      "|            7|\n",
      "|           77|\n",
      "|           34|\n",
      "|          126|\n",
      "|           50|\n",
      "|           94|\n",
      "|          110|\n",
      "|           57|\n",
      "|           32|\n",
      "|           43|\n",
      "|           84|\n",
      "+-------------+\n",
      "only showing top 20 rows\n",
      "\n"
     ]
    }
   ],
   "source": [
    "# iteminsession\n",
    "log_df.select(\"iteminsession\").dropDuplicates().show()"
   ]
  },
  {
   "cell_type": "code",
   "execution_count": 41,
   "metadata": {},
   "outputs": [
    {
     "name": "stdout",
     "output_type": "stream",
     "text": [
      "+---------+\n",
      "|   length|\n",
      "+---------+\n",
      "| 325.0673|\n",
      "|231.94077|\n",
      "|347.81995|\n",
      "|137.84771|\n",
      "|241.94567|\n",
      "|213.75955|\n",
      "|375.03955|\n",
      "|169.35138|\n",
      "| 64.67873|\n",
      "|282.04363|\n",
      "|438.67383|\n",
      "|227.83955|\n",
      "|317.30893|\n",
      "|216.47628|\n",
      "|262.79138|\n",
      "|280.34567|\n",
      "| 229.0673|\n",
      "|138.05669|\n",
      "|175.22893|\n",
      "|221.98812|\n",
      "+---------+\n",
      "only showing top 20 rows\n",
      "\n"
     ]
    }
   ],
   "source": [
    "log_df.select(\"length\").dropDuplicates().show()"
   ]
  },
  {
   "cell_type": "code",
   "execution_count": 42,
   "metadata": {},
   "outputs": [
    {
     "name": "stdout",
     "output_type": "stream",
     "text": [
      "+-----+\n",
      "|level|\n",
      "+-----+\n",
      "| free|\n",
      "| paid|\n",
      "+-----+\n",
      "\n"
     ]
    }
   ],
   "source": [
    "log_df.select(\"level\").dropDuplicates().show()"
   ]
  },
  {
   "cell_type": "code",
   "execution_count": 43,
   "metadata": {},
   "outputs": [
    {
     "name": "stdout",
     "output_type": "stream",
     "text": [
      "+----------------+\n",
      "|            page|\n",
      "+----------------+\n",
      "|Submit Downgrade|\n",
      "|            Home|\n",
      "|       Downgrade|\n",
      "|          Logout|\n",
      "|   Save Settings|\n",
      "|           About|\n",
      "|        Settings|\n",
      "|           Login|\n",
      "|        NextSong|\n",
      "|            Help|\n",
      "|         Upgrade|\n",
      "|           Error|\n",
      "|  Submit Upgrade|\n",
      "+----------------+\n",
      "\n"
     ]
    }
   ],
   "source": [
    "log_df.select(\"page\").dropDuplicates().show()"
   ]
  },
  {
   "cell_type": "code",
   "execution_count": 44,
   "metadata": {},
   "outputs": [
    {
     "name": "stdout",
     "output_type": "stream",
     "text": [
      "+-----------------+\n",
      "|     registration|\n",
      "+-----------------+\n",
      "|1.540472624796E12|\n",
      "|1.540810448796E12|\n",
      "|1.541016707796E12|\n",
      "|1.540823606796E12|\n",
      "|1.541064343796E12|\n",
      "|1.540130971796E12|\n",
      "|1.540676534796E12|\n",
      "|1.540992766796E12|\n",
      "|1.540644861796E12|\n",
      "|1.540907087796E12|\n",
      "|1.541020249796E12|\n",
      "|1.540991795796E12|\n",
      "|1.541003367796E12|\n",
      "|1.541033612796E12|\n",
      "|1.541091973796E12|\n",
      "|1.540306145796E12|\n",
      "|1.540492941796E12|\n",
      "|             null|\n",
      "|1.540970748796E12|\n",
      "|1.540856629796E12|\n",
      "+-----------------+\n",
      "only showing top 20 rows\n",
      "\n"
     ]
    }
   ],
   "source": [
    "log_df.select(\"registration\").dropDuplicates().show()"
   ]
  },
  {
   "cell_type": "code",
   "execution_count": 45,
   "metadata": {},
   "outputs": [
    {
     "name": "stdout",
     "output_type": "stream",
     "text": [
      "+---------+\n",
      "|sessionId|\n",
      "+---------+\n",
      "|      964|\n",
      "|      474|\n",
      "|      191|\n",
      "|      558|\n",
      "|      418|\n",
      "|      541|\n",
      "|     1010|\n",
      "|      293|\n",
      "|      222|\n",
      "|      730|\n",
      "|      270|\n",
      "|      938|\n",
      "|      278|\n",
      "|      442|\n",
      "|      720|\n",
      "|      705|\n",
      "|      243|\n",
      "|      296|\n",
      "|       54|\n",
      "|      926|\n",
      "+---------+\n",
      "only showing top 20 rows\n",
      "\n"
     ]
    }
   ],
   "source": [
    "log_df.select(\"sessionId\").dropDuplicates().show()"
   ]
  },
  {
   "cell_type": "code",
   "execution_count": 46,
   "metadata": {},
   "outputs": [
    {
     "name": "stdout",
     "output_type": "stream",
     "text": [
      "+------+\n",
      "|userid|\n",
      "+------+\n",
      "|    51|\n",
      "|     7|\n",
      "|    15|\n",
      "|    54|\n",
      "|   101|\n",
      "|    11|\n",
      "|    29|\n",
      "|    69|\n",
      "|    42|\n",
      "|    73|\n",
      "|    87|\n",
      "|    64|\n",
      "|     3|\n",
      "|    30|\n",
      "|    34|\n",
      "|    59|\n",
      "|     8|\n",
      "|    28|\n",
      "|    22|\n",
      "|    85|\n",
      "+------+\n",
      "only showing top 20 rows\n",
      "\n"
     ]
    }
   ],
   "source": [
    "log_df.select(\"userid\").dropDuplicates().show()"
   ]
  },
  {
   "cell_type": "code",
   "execution_count": 47,
   "metadata": {},
   "outputs": [
    {
     "name": "stdout",
     "output_type": "stream",
     "text": [
      "+------+-----+\n",
      "|userId|count|\n",
      "+------+-----+\n",
      "|    15|    2|\n",
      "|    29|    2|\n",
      "|    85|    2|\n",
      "|    16|    2|\n",
      "|    88|    2|\n",
      "|    36|    2|\n",
      "|    49|    2|\n",
      "|      |    2|\n",
      "|    80|    2|\n",
      "+------+-----+\n",
      "\n"
     ]
    }
   ],
   "source": [
    "# Number of user who switched levels\n",
    "user_level_counts = log_df.select(['userId', 'level']).dropDuplicates()\n",
    "user_level_counts = user_level_counts.groupby(['userId']).count()\n",
    "user_level_counts.filter( user_level_counts['count'] > 1).show(100)"
   ]
  },
  {
   "cell_type": "code",
   "execution_count": 48,
   "metadata": {},
   "outputs": [
    {
     "data": {
      "text/plain": [
       "772"
      ]
     },
     "execution_count": 48,
     "metadata": {},
     "output_type": "execute_result"
    }
   ],
   "source": [
    "log_df.filter( log_df.userId == 49).count()"
   ]
  },
  {
   "cell_type": "code",
   "execution_count": 49,
   "metadata": {},
   "outputs": [
    {
     "name": "stdout",
     "output_type": "stream",
     "text": [
      "+----------+\n",
      "|      auth|\n",
      "+----------+\n",
      "|Logged Out|\n",
      "+----------+\n",
      "\n"
     ]
    }
   ],
   "source": [
    "#gender_count = log_df.select([\"gender\"])\n",
    "#gender_count.groupby(gender_count.gender).count().show()\n",
    "#gc2 = gender_count.replace('None', None).na.fill('')\n",
    "#gc2.groupby(gc2.gender).count().show()\n",
    "#gc2.filter(gc2.gender == '').show(5)\n",
    "\n",
    "log_df_copy = log_df.replace('None', None).na.fill('')\n",
    "log_df_copy.filter(log_df_copy.gender == '').select(\"auth\").dropDuplicates().show()"
   ]
  },
  {
   "cell_type": "code",
   "execution_count": 50,
   "metadata": {},
   "outputs": [
    {
     "name": "stdout",
     "output_type": "stream",
     "text": [
      "+------+-----+\n",
      "|gender|count|\n",
      "+------+-----+\n",
      "|     F| 5482|\n",
      "|  null|  286|\n",
      "|     M| 2288|\n",
      "+------+-----+\n",
      "\n"
     ]
    }
   ],
   "source": [
    "log_df.groupby(log_df.gender).count().show()"
   ]
  },
  {
   "cell_type": "code",
   "execution_count": null,
   "metadata": {},
   "outputs": [],
   "source": []
  },
  {
   "cell_type": "code",
   "execution_count": 51,
   "metadata": {},
   "outputs": [
    {
     "name": "stdout",
     "output_type": "stream",
     "text": [
      "root\n",
      " |-- num_songs: integer (nullable = true)\n",
      " |-- artist_id: string (nullable = true)\n",
      " |-- artist_latitude: float (nullable = true)\n",
      " |-- artist_longitude: float (nullable = true)\n",
      " |-- artist_location: string (nullable = true)\n",
      " |-- artist_name: string (nullable = true)\n",
      " |-- song_id: string (nullable = true)\n",
      " |-- title: string (nullable = true)\n",
      " |-- duration: float (nullable = true)\n",
      " |-- year: integer (nullable = true)\n",
      "\n"
     ]
    }
   ],
   "source": [
    "song_df.printSchema()"
   ]
  },
  {
   "cell_type": "code",
   "execution_count": 52,
   "metadata": {},
   "outputs": [
    {
     "data": {
      "text/plain": [
       "14896"
      ]
     },
     "execution_count": 52,
     "metadata": {},
     "output_type": "execute_result"
    }
   ],
   "source": [
    "song_df.count()"
   ]
  },
  {
   "cell_type": "code",
   "execution_count": 53,
   "metadata": {},
   "outputs": [
    {
     "name": "stdout",
     "output_type": "stream",
     "text": [
      "+---------+------------------+---------------+----------------+------------------+-------------+------------------+--------------------+---------+----+\n",
      "|num_songs|         artist_id|artist_latitude|artist_longitude|   artist_location|  artist_name|           song_id|               title| duration|year|\n",
      "+---------+------------------+---------------+----------------+------------------+-------------+------------------+--------------------+---------+----+\n",
      "|        1|ARANAED11F50C473A4|           null|            null|                  |    Rico Pupa|SOMGGOB12A67ADCE5F|    Te Decourage Pas|251.50648|   0|\n",
      "|        1|ARCT4M21187B9AD1D8|           null|            null|NY - New York City| Jim Gaffigan|SODEXHR12A6D4F59D3|Guy With The Red ...|175.93423|   0|\n",
      "|        1|AR3YC831187FB51E40|       38.62774|       -90.19951|     St. Louis, MO|Calico System|SOMDQIU12AB018778E|   Venomous Lipstick|186.61832|2005|\n",
      "|        1|ARLL5Z41187B9B88FE|           null|            null| GRIFFITH, Indiana|Debbie Gibson|SOOGKYQ12AB0182AEC|        Fallen Angel|223.50322|1987|\n",
      "|        1|AR3WB6J1187FB3DE23|           null|            null|                  |       Scarve|SOHFLPK12A8AE460A7|     An emptier void|219.19302|2003|\n",
      "+---------+------------------+---------------+----------------+------------------+-------------+------------------+--------------------+---------+----+\n",
      "only showing top 5 rows\n",
      "\n"
     ]
    }
   ],
   "source": [
    "song_df.show(5)"
   ]
  },
  {
   "cell_type": "code",
   "execution_count": 54,
   "metadata": {},
   "outputs": [
    {
     "name": "stdout",
     "output_type": "stream",
     "text": [
      "+---------------+\n",
      "|artist_latitude|\n",
      "+---------------+\n",
      "|        42.3076|\n",
      "|       40.43322|\n",
      "|       41.08419|\n",
      "|       34.14584|\n",
      "|       29.07904|\n",
      "|       34.16788|\n",
      "|       41.05182|\n",
      "|       56.27609|\n",
      "|        55.8578|\n",
      "|        38.8235|\n",
      "|       34.56398|\n",
      "|        32.9831|\n",
      "|       33.74172|\n",
      "|       49.01037|\n",
      "|       33.47909|\n",
      "|       53.74983|\n",
      "|       59.46148|\n",
      "|       35.14968|\n",
      "|       54.99241|\n",
      "|       23.62574|\n",
      "+---------------+\n",
      "only showing top 20 rows\n",
      "\n"
     ]
    }
   ],
   "source": [
    "song_df.select(\"artist_latitude\").dropDuplicates().show()"
   ]
  },
  {
   "cell_type": "code",
   "execution_count": 55,
   "metadata": {},
   "outputs": [
    {
     "name": "stdout",
     "output_type": "stream",
     "text": [
      "+----------------+\n",
      "|artist_longitude|\n",
      "+----------------+\n",
      "|         37.6151|\n",
      "|        72.87588|\n",
      "|       -94.10158|\n",
      "|        -0.33775|\n",
      "|       -86.44105|\n",
      "|        -98.1607|\n",
      "|       -74.08317|\n",
      "|       -90.27752|\n",
      "|       152.68011|\n",
      "|        -2.76267|\n",
      "|      -118.71766|\n",
      "|      -120.99959|\n",
      "|       -83.13142|\n",
      "|       -74.22886|\n",
      "|         17.0267|\n",
      "|        -4.42016|\n",
      "|       -73.79169|\n",
      "|       -84.28065|\n",
      "|       -96.46326|\n",
      "|        -3.71925|\n",
      "+----------------+\n",
      "only showing top 20 rows\n",
      "\n"
     ]
    }
   ],
   "source": [
    "song_df.select(\"artist_longitude\").dropDuplicates().show()"
   ]
  },
  {
   "cell_type": "code",
   "execution_count": 56,
   "metadata": {},
   "outputs": [
    {
     "name": "stdout",
     "output_type": "stream",
     "text": [
      "+--------------------+\n",
      "|     artist_location|\n",
      "+--------------------+\n",
      "|                Utah|\n",
      "|  Caracas, Venezuela|\n",
      "| Brisbane, Australia|\n",
      "|         Brooklyn NY|\n",
      "|     Gainesville, FL|\n",
      "|Perth, Australia/...|\n",
      "|Buff Bay, Portlan...|\n",
      "|North Philadelphi...|\n",
      "|East Vancouver, B...|\n",
      "|Nashville / Los A...|\n",
      "|         Amherst, MA|\n",
      "|            Borlänge|\n",
      "|Dumfries, Scotlan...|\n",
      "|          Tucson, AZ|\n",
      "|       Teheran, Iran|\n",
      "|              Hawaii|\n",
      "|      Hanceville, AL|\n",
      "|        Richmond, VA|\n",
      "|  Newcastle, England|\n",
      "|Westbury, Long Is...|\n",
      "+--------------------+\n",
      "only showing top 20 rows\n",
      "\n"
     ]
    }
   ],
   "source": [
    "song_df.select(\"artist_location\").dropDuplicates().show()"
   ]
  },
  {
   "cell_type": "code",
   "execution_count": 57,
   "metadata": {},
   "outputs": [
    {
     "name": "stdout",
     "output_type": "stream",
     "text": [
      "+--------------------+\n",
      "|         artist_name|\n",
      "+--------------------+\n",
      "|     Big John Patton|\n",
      "|        Wayne Kramer|\n",
      "|  Beyond The Embrace|\n",
      "|     Dorsey Burnette|\n",
      "|         Silverstein|\n",
      "|           Batmobile|\n",
      "|          Snoop Dogg|\n",
      "|                  DZ|\n",
      "|Lil Scrappy / Hom...|\n",
      "|     Chalee Tennison|\n",
      "|       Black Debbath|\n",
      "|             Josef K|\n",
      "|                 Zox|\n",
      "|   Abbott & Chambers|\n",
      "| La Sonora Matancera|\n",
      "|    The Flower Kings|\n",
      "|        Foreign Born|\n",
      "|           Kate Nash|\n",
      "|Ms. Dynamite / Ky...|\n",
      "|    Jane's Addiction|\n",
      "+--------------------+\n",
      "only showing top 20 rows\n",
      "\n"
     ]
    }
   ],
   "source": [
    "song_df.select(\"artist_name\").dropDuplicates().show()"
   ]
  },
  {
   "cell_type": "markdown",
   "metadata": {},
   "source": [
    "### Quality\n",
    "1. song_df : Replace artist_latitude & artist_longitude null with 0\n",
    "\n",
    "### Tidiness\n",
    "1. log_df : Filter only column page with value \"NextSong\"\n",
    "2. log_df : Convert ts from long to datetime\n",
    "3. log_df : Convert registration from double to long\n",
    "4. log_df : Create user level analysis table\n",
    "5. Create below Fact & Dimension tables \n",
    "  * create songplays table with columns songplay_id, start_time, user_id, level, song_id, artist_id, session_id, location, user_agent\n",
    "  * create users table with columns user_id, first_name, last_name, gender, level\n",
    "  * create songs table with columns song_id, title, artist_id, year, duration\n",
    "  * create artists table with columns artist_id, name, location, lattitude, longitude\n",
    "  * create time table with columns start_time, hour, day, week, month, year, weekday"
   ]
  },
  {
   "cell_type": "markdown",
   "metadata": {},
   "source": [
    "## Clean"
   ]
  },
  {
   "cell_type": "code",
   "execution_count": 58,
   "metadata": {},
   "outputs": [
    {
     "name": "stdout",
     "output_type": "stream",
     "text": [
      "log_clean =  8056\n",
      "song_clean =  14896\n",
      "<class 'pyspark.sql.dataframe.DataFrame'>\n",
      "<class 'pyspark.sql.dataframe.DataFrame'>\n",
      "CPU times: user 146 ms, sys: 41 ms, total: 187 ms\n",
      "Wall time: 3.15 s\n"
     ]
    }
   ],
   "source": [
    "%%time\n",
    "\n",
    "# Make copies of files\n",
    "log_clean = log_df\n",
    "song_clean = song_df\n",
    "\n",
    "log_clean.collect()\n",
    "song_clean.collect()\n",
    "\n",
    "print('log_clean = ',log_clean.count())\n",
    "print('song_clean = ',song_clean.count())\n",
    "\n",
    "print(type(log_clean))\n",
    "print(type(song_clean))"
   ]
  },
  {
   "cell_type": "code",
   "execution_count": 59,
   "metadata": {},
   "outputs": [
    {
     "name": "stdout",
     "output_type": "stream",
     "text": [
      "<class 'pyspark.sql.dataframe.DataFrame'>\n",
      "<class 'pyspark.sql.dataframe.DataFrame'>\n"
     ]
    }
   ],
   "source": [
    "print(type(log_clean))\n",
    "print(type(song_clean))"
   ]
  },
  {
   "cell_type": "markdown",
   "metadata": {},
   "source": [
    "### Issue 1 : Create table for user level analysis\n",
    "### Define\n",
    "Create a table to find at which level did users listened most songs\n",
    "\n",
    "### Code"
   ]
  },
  {
   "cell_type": "code",
   "execution_count": 60,
   "metadata": {},
   "outputs": [],
   "source": [
    "# Number of songs users listened to during each level\n",
    "paid_users = log_clean.select(['userId', 'level']).filter( log_clean['level'] == 'paid')\n",
    "paid_users = paid_users.groupby(['userId']).count()\n",
    "free_users = log_clean.select(['userId', 'level']).filter( log_clean['level'] == 'free')\n",
    "free_users = free_users.groupby(['userId']).count()\n",
    "paid_users.createOrReplaceTempView('paid_users')\n",
    "free_users.createOrReplaceTempView('free_users')\n",
    "user_listen = spark.sql(\"\"\"\n",
    "select a.userId, a.count puCount, b.count fuCount\n",
    "from paid_users a join free_users b\n",
    "on a.userId = b.userId\n",
    "where a.userId != ''\n",
    "\"\"\")\n"
   ]
  },
  {
   "cell_type": "markdown",
   "metadata": {},
   "source": [
    "### Test"
   ]
  },
  {
   "cell_type": "code",
   "execution_count": 61,
   "metadata": {},
   "outputs": [
    {
     "name": "stdout",
     "output_type": "stream",
     "text": [
      "+------+-------+-------+\n",
      "|userId|puCount|fuCount|\n",
      "+------+-------+-------+\n",
      "|    15|    491|      4|\n",
      "|    29|    372|      9|\n",
      "|    85|    198|      6|\n",
      "|    16|    221|     23|\n",
      "|    88|    266|     46|\n",
      "|    36|    268|     12|\n",
      "|    49|    716|     56|\n",
      "|    80|    712|     28|\n",
      "+------+-------+-------+\n",
      "\n"
     ]
    }
   ],
   "source": [
    "user_listen.show(100)"
   ]
  },
  {
   "cell_type": "markdown",
   "metadata": {},
   "source": [
    "### Issue 2 : In log_df Keep column page with value \"NextSong\" only\n",
    "### Define\n",
    "1. log_df : Filter only column page with value \"NextSong\"\n",
    "    \n",
    "### Code"
   ]
  },
  {
   "cell_type": "code",
   "execution_count": 62,
   "metadata": {},
   "outputs": [
    {
     "data": {
      "text/plain": [
       "6820"
      ]
     },
     "execution_count": 62,
     "metadata": {},
     "output_type": "execute_result"
    }
   ],
   "source": [
    "log_clean.filter(log_clean.page == 'NextSong').count()"
   ]
  },
  {
   "cell_type": "code",
   "execution_count": 63,
   "metadata": {},
   "outputs": [],
   "source": [
    "log_clean = log_clean.filter(log_clean.page == 'NextSong').collect()"
   ]
  },
  {
   "cell_type": "markdown",
   "metadata": {},
   "source": [
    "### Test"
   ]
  },
  {
   "cell_type": "code",
   "execution_count": 64,
   "metadata": {},
   "outputs": [
    {
     "data": {
      "text/plain": [
       "list"
      ]
     },
     "execution_count": 64,
     "metadata": {},
     "output_type": "execute_result"
    }
   ],
   "source": [
    "type(log_clean)\n",
    "#log_clean.take()"
   ]
  },
  {
   "cell_type": "code",
   "execution_count": 65,
   "metadata": {},
   "outputs": [
    {
     "data": {
      "text/plain": [
       "pyspark.sql.dataframe.DataFrame"
      ]
     },
     "execution_count": 65,
     "metadata": {},
     "output_type": "execute_result"
    }
   ],
   "source": [
    "# Convert List to Spark\n",
    "log_clean = spark.createDataFrame(log_clean,schema=log_schema) \n",
    "type(log_clean)"
   ]
  },
  {
   "cell_type": "code",
   "execution_count": 66,
   "metadata": {},
   "outputs": [
    {
     "name": "stdout",
     "output_type": "stream",
     "text": [
      "root\n",
      " |-- artist: string (nullable = true)\n",
      " |-- auth: string (nullable = true)\n",
      " |-- firstName: string (nullable = true)\n",
      " |-- gender: string (nullable = true)\n",
      " |-- itemInSession: long (nullable = true)\n",
      " |-- lastName: string (nullable = true)\n",
      " |-- length: double (nullable = true)\n",
      " |-- level: string (nullable = true)\n",
      " |-- location: string (nullable = true)\n",
      " |-- method: string (nullable = true)\n",
      " |-- page: string (nullable = true)\n",
      " |-- registration: double (nullable = true)\n",
      " |-- sessionId: long (nullable = true)\n",
      " |-- song: string (nullable = true)\n",
      " |-- status: string (nullable = true)\n",
      " |-- ts: string (nullable = true)\n",
      " |-- userAgent: string (nullable = true)\n",
      " |-- userId: string (nullable = true)\n",
      "\n"
     ]
    }
   ],
   "source": [
    "log_clean.printSchema()"
   ]
  },
  {
   "cell_type": "code",
   "execution_count": 67,
   "metadata": {},
   "outputs": [
    {
     "name": "stdout",
     "output_type": "stream",
     "text": [
      "+--------+\n",
      "|    page|\n",
      "+--------+\n",
      "|NextSong|\n",
      "+--------+\n",
      "\n"
     ]
    }
   ],
   "source": [
    "#print('log_clean = ',log_clean.count())\n",
    "log_clean.select(\"page\").dropDuplicates().show()"
   ]
  },
  {
   "cell_type": "markdown",
   "metadata": {},
   "source": [
    "### Issue 3 : Convert log_df ts column from long to timestamp\n",
    "### Define\n",
    "2. log_df : Convert ts from long to datetime\n",
    "\n",
    "### Code"
   ]
  },
  {
   "cell_type": "code",
   "execution_count": 68,
   "metadata": {},
   "outputs": [
    {
     "name": "stdout",
     "output_type": "stream",
     "text": [
      "+-------------+\n",
      "|           ts|\n",
      "+-------------+\n",
      "|1541470383796|\n",
      "|1541470632796|\n",
      "|1541474048796|\n",
      "|1541480171796|\n",
      "|1541480198796|\n",
      "+-------------+\n",
      "only showing top 5 rows\n",
      "\n"
     ]
    }
   ],
   "source": [
    "log_clean.select('ts').show(5)"
   ]
  },
  {
   "cell_type": "code",
   "execution_count": 69,
   "metadata": {},
   "outputs": [],
   "source": [
    "# Method 1\n",
    "#convert_ts = udf(lambda x: datetime.datetime.fromtimestamp(x / 1000.0), TimestampType())\n",
    "convert_ts = udf(lambda x: datetime.datetime.fromtimestamp(float(x) / 1000.0), TimestampType())\n",
    "log_clean_copy = log_clean.withColumn(\"ts_converted\", convert_ts(log_clean.ts))\n",
    "\n",
    "# Method 2\n",
    "#from pyspark.sql import functions as F\n",
    "#log_clean.select(['ts', F.from_unixtime(F.col('ts')/1000)] ).show()"
   ]
  },
  {
   "cell_type": "code",
   "execution_count": 70,
   "metadata": {},
   "outputs": [
    {
     "data": {
      "text/plain": [
       "'\\nfrom datetime import datetime\\n\\nlog_clean_copy = log_clean\\n\\n@udf(t.StringType())\\ndef get_datetime(ts):\\n    return datetime.fromtimestamp(ts / 1000.0).strftime(\\'%Y-%m-%d %H:%M:%S\\')\\n\\nlog_clean_copy = log_clean_copy.withColumn(\"current_ts\", get_datetime(\"ts\"))\\n'"
      ]
     },
     "execution_count": 70,
     "metadata": {},
     "output_type": "execute_result"
    }
   ],
   "source": [
    "# Method 3\n",
    "'''\n",
    "from datetime import datetime\n",
    "\n",
    "log_clean_copy = log_clean\n",
    "\n",
    "@udf(t.StringType())\n",
    "def get_datetime(ts):\n",
    "    return datetime.fromtimestamp(ts / 1000.0).strftime('%Y-%m-%d %H:%M:%S')\n",
    "\n",
    "log_clean_copy = log_clean_copy.withColumn(\"current_ts\", get_datetime(\"ts\"))\n",
    "'''"
   ]
  },
  {
   "cell_type": "code",
   "execution_count": 71,
   "metadata": {},
   "outputs": [],
   "source": [
    "log_clean = log_clean_copy"
   ]
  },
  {
   "cell_type": "markdown",
   "metadata": {},
   "source": [
    "### Test"
   ]
  },
  {
   "cell_type": "code",
   "execution_count": 72,
   "metadata": {},
   "outputs": [
    {
     "name": "stdout",
     "output_type": "stream",
     "text": [
      "+-------------+--------------------+\n",
      "|           ts|        ts_converted|\n",
      "+-------------+--------------------+\n",
      "|1541470383796|2018-11-06 02:13:...|\n",
      "|1541470632796|2018-11-06 02:17:...|\n",
      "|1541474048796|2018-11-06 03:14:...|\n",
      "|1541480171796|2018-11-06 04:56:...|\n",
      "|1541480198796|2018-11-06 04:56:...|\n",
      "+-------------+--------------------+\n",
      "only showing top 5 rows\n",
      "\n"
     ]
    }
   ],
   "source": [
    "log_clean.select(['ts', 'ts_converted']).show(5)"
   ]
  },
  {
   "cell_type": "markdown",
   "metadata": {},
   "source": [
    "### Issue 4 : In log_df, convert registration from double to long\n",
    "### Define\n",
    "log_df : Convert registration from double to long\n",
    "\n",
    "### Code"
   ]
  },
  {
   "cell_type": "code",
   "execution_count": 73,
   "metadata": {},
   "outputs": [
    {
     "name": "stdout",
     "output_type": "stream",
     "text": [
      "root\n",
      " |-- artist: string (nullable = true)\n",
      " |-- auth: string (nullable = true)\n",
      " |-- firstName: string (nullable = true)\n",
      " |-- gender: string (nullable = true)\n",
      " |-- itemInSession: long (nullable = true)\n",
      " |-- lastName: string (nullable = true)\n",
      " |-- length: double (nullable = true)\n",
      " |-- level: string (nullable = true)\n",
      " |-- location: string (nullable = true)\n",
      " |-- method: string (nullable = true)\n",
      " |-- page: string (nullable = true)\n",
      " |-- registration: double (nullable = true)\n",
      " |-- sessionId: long (nullable = true)\n",
      " |-- song: string (nullable = true)\n",
      " |-- status: string (nullable = true)\n",
      " |-- ts: string (nullable = true)\n",
      " |-- userAgent: string (nullable = true)\n",
      " |-- userId: string (nullable = true)\n",
      " |-- ts_converted: timestamp (nullable = true)\n",
      "\n"
     ]
    }
   ],
   "source": [
    "log_clean.printSchema()"
   ]
  },
  {
   "cell_type": "code",
   "execution_count": 74,
   "metadata": {},
   "outputs": [
    {
     "name": "stdout",
     "output_type": "stream",
     "text": [
      "+-----------------+\n",
      "|registration     |\n",
      "+-----------------+\n",
      "|1.540835983796E12|\n",
      "|1.540835983796E12|\n",
      "+-----------------+\n",
      "only showing top 2 rows\n",
      "\n"
     ]
    }
   ],
   "source": [
    "log_clean.select('registration').show(2, truncate=False)"
   ]
  },
  {
   "cell_type": "code",
   "execution_count": 75,
   "metadata": {},
   "outputs": [],
   "source": [
    "log_clean_copy = log_clean.withColumn(\"registration_converted\", log_clean.registration.cast(LongType()) )"
   ]
  },
  {
   "cell_type": "code",
   "execution_count": 76,
   "metadata": {},
   "outputs": [],
   "source": [
    "log_clean = log_clean_copy"
   ]
  },
  {
   "cell_type": "markdown",
   "metadata": {},
   "source": [
    "### Test"
   ]
  },
  {
   "cell_type": "code",
   "execution_count": 77,
   "metadata": {},
   "outputs": [
    {
     "name": "stdout",
     "output_type": "stream",
     "text": [
      "+-----------------+----------------------+\n",
      "|     registration|registration_converted|\n",
      "+-----------------+----------------------+\n",
      "|1.540835983796E12|         1540835983796|\n",
      "|1.540835983796E12|         1540835983796|\n",
      "|1.540492941796E12|         1540492941796|\n",
      "|1.541081807796E12|         1541081807796|\n",
      "|1.541081807796E12|         1541081807796|\n",
      "+-----------------+----------------------+\n",
      "only showing top 5 rows\n",
      "\n"
     ]
    }
   ],
   "source": [
    "log_clean.select(['registration', 'registration_converted']).show(5)"
   ]
  },
  {
   "cell_type": "code",
   "execution_count": 78,
   "metadata": {},
   "outputs": [
    {
     "name": "stdout",
     "output_type": "stream",
     "text": [
      "root\n",
      " |-- artist: string (nullable = true)\n",
      " |-- auth: string (nullable = true)\n",
      " |-- firstName: string (nullable = true)\n",
      " |-- gender: string (nullable = true)\n",
      " |-- itemInSession: long (nullable = true)\n",
      " |-- lastName: string (nullable = true)\n",
      " |-- length: double (nullable = true)\n",
      " |-- level: string (nullable = true)\n",
      " |-- location: string (nullable = true)\n",
      " |-- method: string (nullable = true)\n",
      " |-- page: string (nullable = true)\n",
      " |-- registration: double (nullable = true)\n",
      " |-- sessionId: long (nullable = true)\n",
      " |-- song: string (nullable = true)\n",
      " |-- status: string (nullable = true)\n",
      " |-- ts: string (nullable = true)\n",
      " |-- userAgent: string (nullable = true)\n",
      " |-- userId: string (nullable = true)\n",
      " |-- ts_converted: timestamp (nullable = true)\n",
      " |-- registration_converted: long (nullable = true)\n",
      "\n"
     ]
    }
   ],
   "source": [
    "log_clean.printSchema()"
   ]
  },
  {
   "cell_type": "markdown",
   "metadata": {},
   "source": [
    "### Issue 5 : Replace artist_latitude & artist_longitude null with 0\n",
    "### Define\n",
    "song_df : Replace artist_latitude & artist_longitude null with 0\n",
    "    \n",
    "### Code"
   ]
  },
  {
   "cell_type": "code",
   "execution_count": 79,
   "metadata": {},
   "outputs": [],
   "source": [
    "song_clean_copy = song_clean"
   ]
  },
  {
   "cell_type": "code",
   "execution_count": 80,
   "metadata": {},
   "outputs": [],
   "source": [
    "song_clean_copy = song_clean_copy.fillna({'artist_latitude':0})\n",
    "song_clean_copy = song_clean_copy.fillna({'artist_longitude':0})\n",
    "song_clean = song_clean_copy"
   ]
  },
  {
   "cell_type": "markdown",
   "metadata": {},
   "source": [
    "### Test"
   ]
  },
  {
   "cell_type": "code",
   "execution_count": 81,
   "metadata": {},
   "outputs": [
    {
     "name": "stdout",
     "output_type": "stream",
     "text": [
      "+---------+------------------+---------------+----------------+------------------+------------+------------------+--------------------+---------+----+\n",
      "|num_songs|         artist_id|artist_latitude|artist_longitude|   artist_location| artist_name|           song_id|               title| duration|year|\n",
      "+---------+------------------+---------------+----------------+------------------+------------+------------------+--------------------+---------+----+\n",
      "|        1|ARANAED11F50C473A4|            0.0|             0.0|                  |   Rico Pupa|SOMGGOB12A67ADCE5F|    Te Decourage Pas|251.50648|   0|\n",
      "|        1|ARCT4M21187B9AD1D8|            0.0|             0.0|NY - New York City|Jim Gaffigan|SODEXHR12A6D4F59D3|Guy With The Red ...|175.93423|   0|\n",
      "+---------+------------------+---------------+----------------+------------------+------------+------------------+--------------------+---------+----+\n",
      "only showing top 2 rows\n",
      "\n",
      "+---------+------------------+---------------+----------------+------------------+------------+------------------+--------------------+---------+----+\n",
      "|num_songs|         artist_id|artist_latitude|artist_longitude|   artist_location| artist_name|           song_id|               title| duration|year|\n",
      "+---------+------------------+---------------+----------------+------------------+------------+------------------+--------------------+---------+----+\n",
      "|        1|ARANAED11F50C473A4|            0.0|             0.0|                  |   Rico Pupa|SOMGGOB12A67ADCE5F|    Te Decourage Pas|251.50648|   0|\n",
      "|        1|ARCT4M21187B9AD1D8|            0.0|             0.0|NY - New York City|Jim Gaffigan|SODEXHR12A6D4F59D3|Guy With The Red ...|175.93423|   0|\n",
      "+---------+------------------+---------------+----------------+------------------+------------+------------------+--------------------+---------+----+\n",
      "only showing top 2 rows\n",
      "\n"
     ]
    }
   ],
   "source": [
    "#song_clean_copy.select(\"artist_latitude\").dropDuplicates().show()\n",
    "song_clean.filter(song_clean.artist_latitude == 0).show(2)\n",
    "song_clean.filter(song_clean.artist_longitude == 0).show(2)"
   ]
  },
  {
   "cell_type": "markdown",
   "metadata": {},
   "source": [
    "### Issue 6 : Create Fact & Dimension tables\n",
    "### Define\n",
    "* create songplays table with columns songplay_id, start_time, user_id, level, song_id, artist_id, session_id, location, user_agent\n",
    "* create users table with columns user_id, first_name, last_name, gender, level\n",
    "* create songs table with columns song_id, title, artist_id, year, duration\n",
    "* create artists table with columns artist_id, name, location, lattitude, longitude\n",
    "* create time table with columns start_time, hour, day, week, month, year, weekday\n",
    "\n",
    "### Code"
   ]
  },
  {
   "cell_type": "code",
   "execution_count": 82,
   "metadata": {},
   "outputs": [
    {
     "data": {
      "text/plain": [
       "Row(artist='Gustavo Cerati', auth='Logged In', firstName='Adler', gender='M', itemInSession=1, lastName='Barrera', length=249.44281, level='free', location='New York-Newark-Jersey City, NY-NJ-PA', method='PUT', page='NextSong', registration=1540835983796.0, sessionId=248, song='Uno Entre 1000', status='200', ts='1541470383796', userAgent='\"Mozilla/5.0 (Macintosh; Intel Mac OS X 10_9_4) AppleWebKit/537.78.2 (KHTML, like Gecko) Version/7.0.6 Safari/537.78.2\"', userId='100', ts_converted=datetime.datetime(2018, 11, 6, 2, 13, 3, 796000), registration_converted=1540835983796)"
      ]
     },
     "execution_count": 82,
     "metadata": {},
     "output_type": "execute_result"
    }
   ],
   "source": [
    "log_clean.collect()[0]"
   ]
  },
  {
   "cell_type": "code",
   "execution_count": 83,
   "metadata": {},
   "outputs": [
    {
     "data": {
      "text/plain": [
       "Row(num_songs=1, artist_id='ARANAED11F50C473A4', artist_latitude=0.0, artist_longitude=0.0, artist_location='', artist_name='Rico Pupa', song_id='SOMGGOB12A67ADCE5F', title='Te Decourage Pas', duration=251.50648498535156, year=0)"
      ]
     },
     "execution_count": 83,
     "metadata": {},
     "output_type": "execute_result"
    }
   ],
   "source": [
    "song_clean.collect()[0]"
   ]
  },
  {
   "cell_type": "code",
   "execution_count": 84,
   "metadata": {},
   "outputs": [
    {
     "name": "stdout",
     "output_type": "stream",
     "text": [
      "+--------------------+---+-----+----+----+------+------+\n",
      "|        ts_converted|day|month|year|hour|minute|second|\n",
      "+--------------------+---+-----+----+----+------+------+\n",
      "|2018-11-06 02:13:...|  6|   11|2018|   2|    13|     3|\n",
      "|2018-11-06 02:17:...|  6|   11|2018|   2|    17|    12|\n",
      "|2018-11-06 03:14:...|  6|   11|2018|   3|    14|     8|\n",
      "|2018-11-06 04:56:...|  6|   11|2018|   4|    56|    11|\n",
      "|2018-11-06 04:56:...|  6|   11|2018|   4|    56|    38|\n",
      "+--------------------+---+-----+----+----+------+------+\n",
      "only showing top 5 rows\n",
      "\n"
     ]
    }
   ],
   "source": [
    "# Creating time table with columns start_time, hour, day, week, month, year, weekday\n",
    "log_clean.select(['ts_converted'\n",
    "                  , dayofmonth(\"ts_converted\").alias('day')\n",
    "                  , month(\"ts_converted\").alias('month')\n",
    "                  , year(\"ts_converted\").alias('year')\n",
    "                  , hour(\"ts_converted\").alias('hour')\n",
    "                  , minute(\"ts_converted\").alias('minute')\n",
    "                  , second(\"ts_converted\").alias('second')\n",
    "                 ]).show(5)"
   ]
  },
  {
   "cell_type": "code",
   "execution_count": 85,
   "metadata": {},
   "outputs": [
    {
     "data": {
      "text/plain": [
       "Row(start_time=datetime.datetime(2018, 11, 6, 22, 31, 18, 796000), day=6, month=11, year=2018, hour=22, minute=31, second=18, week=45, weekday=3)"
      ]
     },
     "execution_count": 85,
     "metadata": {},
     "output_type": "execute_result"
    }
   ],
   "source": [
    "time_table = log_clean.select(['ts_converted'])\\\n",
    "                    .withColumnRenamed('ts_converted','start_time') \n",
    "\n",
    "time_table = time_table.withColumn('day', F.dayofmonth('start_time')) \\\n",
    "                      .withColumn('month', F.month('start_time')) \\\n",
    "                      .withColumn('year', F.year('start_time')) \\\n",
    "                      .withColumn('hour', F.hour('start_time')) \\\n",
    "                      .withColumn('minute', F.minute('start_time')) \\\n",
    "                      .withColumn('second', F.second('start_time')) \\\n",
    "                      .withColumn('week', F.weekofyear('start_time')) \\\n",
    "                      .withColumn('weekday', F.dayofweek('start_time')).dropDuplicates()\n",
    "\n",
    "time_table.collect()[0]\n",
    "#time_table.show(5)"
   ]
  },
  {
   "cell_type": "code",
   "execution_count": 86,
   "metadata": {},
   "outputs": [
    {
     "name": "stdout",
     "output_type": "stream",
     "text": [
      "+--------------+---------+---------+------+-------------+--------+---------+-----+--------------------+------+--------+-----------------+---------+----------------+------+-------------+--------------------+------+--------------------+----------------------+\n",
      "|        artist|     auth|firstName|gender|itemInSession|lastName|   length|level|            location|method|    page|     registration|sessionId|            song|status|           ts|           userAgent|userId|        ts_converted|registration_converted|\n",
      "+--------------+---------+---------+------+-------------+--------+---------+-----+--------------------+------+--------+-----------------+---------+----------------+------+-------------+--------------------+------+--------------------+----------------------+\n",
      "|Gustavo Cerati|Logged In|    Adler|     M|            1| Barrera|249.44281| free|New York-Newark-J...|   PUT|NextSong|1.540835983796E12|      248|  Uno Entre 1000|   200|1541470383796|\"Mozilla/5.0 (Mac...|   100|2018-11-06 02:13:...|         1540835983796|\n",
      "|   Limp Bizkit|Logged In|    Adler|     M|            2| Barrera|270.49751| free|New York-Newark-J...|   PUT|NextSong|1.540835983796E12|      248|Behind Blue Eyes|   200|1541470632796|\"Mozilla/5.0 (Mac...|   100|2018-11-06 02:17:...|         1540835983796|\n",
      "|Mikel Erentxun|Logged In|   Samuel|     M|            1|Gonzalez|178.83383| free|Houston-The Woodl...|   PUT|NextSong|1.540492941796E12|      252|    Frases Mudas|   200|1541474048796|\"Mozilla/5.0 (Mac...|    61|2018-11-06 03:14:...|         1540492941796|\n",
      "|   The Gerbils|Logged In|   Martin|     M|            0| Johnson| 27.01016| free|Minneapolis-St. P...|   PUT|NextSong|1.541081807796E12|      250|           (iii)|   200|1541480171796|\"Mozilla/5.0 (Mac...|    55|2018-11-06 04:56:...|         1541081807796|\n",
      "|           AFI|Logged In|   Martin|     M|            1| Johnson|190.45832| free|Minneapolis-St. P...|   PUT|NextSong|1.541081807796E12|      250| Girl's Not Grey|   200|1541480198796|\"Mozilla/5.0 (Mac...|    55|2018-11-06 04:56:...|         1541081807796|\n",
      "+--------------+---------+---------+------+-------------+--------+---------+-----+--------------------+------+--------+-----------------+---------+----------------+------+-------------+--------------------+------+--------------------+----------------------+\n",
      "only showing top 5 rows\n",
      "\n"
     ]
    }
   ],
   "source": [
    "log_clean.show(5)"
   ]
  },
  {
   "cell_type": "code",
   "execution_count": 87,
   "metadata": {},
   "outputs": [
    {
     "name": "stdout",
     "output_type": "stream",
     "text": [
      "+-------+----------+---------+------+-----+\n",
      "|user_id|first_name|last_name|gender|level|\n",
      "+-------+----------+---------+------+-----+\n",
      "|     26|      Ryan|    Smith|     M| free|\n",
      "|      7|    Adelyn|   Jordan|     F| free|\n",
      "|     71|    Ayleen|     Wise|     F| free|\n",
      "|     81|    Sienna|    Colon|     F| free|\n",
      "|     87|    Dustin|      Lee|     M| free|\n",
      "+-------+----------+---------+------+-----+\n",
      "only showing top 5 rows\n",
      "\n"
     ]
    }
   ],
   "source": [
    "# creating users table with columns user_id, first_name, last_name, gender, level\n",
    "users_table = log_clean.select(['userId', 'firstName', 'lastName', 'gender', 'level'])\\\n",
    "        .withColumnRenamed('userId', 'user_id')\\\n",
    "        .withColumnRenamed('firstName', 'first_name')\\\n",
    "        .withColumnRenamed('lastName', 'last_name').dropDuplicates()\n",
    "\n",
    "users_table.collect()[0]\n",
    "users_table.show(5)"
   ]
  },
  {
   "cell_type": "code",
   "execution_count": 88,
   "metadata": {},
   "outputs": [
    {
     "name": "stdout",
     "output_type": "stream",
     "text": [
      "root\n",
      " |-- artist: string (nullable = true)\n",
      " |-- auth: string (nullable = true)\n",
      " |-- firstName: string (nullable = true)\n",
      " |-- gender: string (nullable = true)\n",
      " |-- itemInSession: long (nullable = true)\n",
      " |-- lastName: string (nullable = true)\n",
      " |-- length: double (nullable = true)\n",
      " |-- level: string (nullable = true)\n",
      " |-- location: string (nullable = true)\n",
      " |-- method: string (nullable = true)\n",
      " |-- page: string (nullable = true)\n",
      " |-- registration: double (nullable = true)\n",
      " |-- sessionId: long (nullable = true)\n",
      " |-- song: string (nullable = true)\n",
      " |-- status: string (nullable = true)\n",
      " |-- ts: string (nullable = true)\n",
      " |-- userAgent: string (nullable = true)\n",
      " |-- userId: string (nullable = true)\n",
      " |-- ts_converted: timestamp (nullable = true)\n",
      " |-- registration_converted: long (nullable = true)\n",
      "\n"
     ]
    }
   ],
   "source": [
    "log_clean.printSchema()"
   ]
  },
  {
   "cell_type": "code",
   "execution_count": 89,
   "metadata": {},
   "outputs": [
    {
     "name": "stdout",
     "output_type": "stream",
     "text": [
      "+--------------+---------+---------+------+-------------+--------+---------+-----+--------------------+------+--------+-----------------+---------+----------------+------+-------------+--------------------+------+--------------------+----------------------+\n",
      "|        artist|     auth|firstName|gender|itemInSession|lastName|   length|level|            location|method|    page|     registration|sessionId|            song|status|           ts|           userAgent|userId|        ts_converted|registration_converted|\n",
      "+--------------+---------+---------+------+-------------+--------+---------+-----+--------------------+------+--------+-----------------+---------+----------------+------+-------------+--------------------+------+--------------------+----------------------+\n",
      "|Gustavo Cerati|Logged In|    Adler|     M|            1| Barrera|249.44281| free|New York-Newark-J...|   PUT|NextSong|1.540835983796E12|      248|  Uno Entre 1000|   200|1541470383796|\"Mozilla/5.0 (Mac...|   100|2018-11-06 02:13:...|         1540835983796|\n",
      "|   Limp Bizkit|Logged In|    Adler|     M|            2| Barrera|270.49751| free|New York-Newark-J...|   PUT|NextSong|1.540835983796E12|      248|Behind Blue Eyes|   200|1541470632796|\"Mozilla/5.0 (Mac...|   100|2018-11-06 02:17:...|         1540835983796|\n",
      "+--------------+---------+---------+------+-------------+--------+---------+-----+--------------------+------+--------+-----------------+---------+----------------+------+-------------+--------------------+------+--------------------+----------------------+\n",
      "only showing top 2 rows\n",
      "\n"
     ]
    }
   ],
   "source": [
    "log_clean.show(2)"
   ]
  },
  {
   "cell_type": "code",
   "execution_count": 90,
   "metadata": {},
   "outputs": [
    {
     "name": "stdout",
     "output_type": "stream",
     "text": [
      "+--------------------+\n",
      "|              artist|\n",
      "+--------------------+\n",
      "|      Gustavo Cerati|\n",
      "|         Limp Bizkit|\n",
      "|      Mikel Erentxun|\n",
      "|         The Gerbils|\n",
      "|                 AFI|\n",
      "|       Lhasa De Sela|\n",
      "|           J.J. Cale|\n",
      "|           Brian Eno|\n",
      "|        Hot Hot Heat|\n",
      "|                 ATB|\n",
      "|Mt. St. Helens Vi...|\n",
      "|               Becky|\n",
      "|     Franz Ferdinand|\n",
      "|Creedence Clearwa...|\n",
      "|        Paul Stanley|\n",
      "|               Benga|\n",
      "|          Basshunter|\n",
      "|       Kings Of Leon|\n",
      "|          Slim Dusty|\n",
      "|                Dido|\n",
      "+--------------------+\n",
      "only showing top 20 rows\n",
      "\n"
     ]
    }
   ],
   "source": [
    "log_clean.select('artist').show(20)"
   ]
  },
  {
   "cell_type": "code",
   "execution_count": 91,
   "metadata": {},
   "outputs": [
    {
     "name": "stdout",
     "output_type": "stream",
     "text": [
      "root\n",
      " |-- num_songs: integer (nullable = true)\n",
      " |-- artist_id: string (nullable = true)\n",
      " |-- artist_latitude: float (nullable = false)\n",
      " |-- artist_longitude: float (nullable = false)\n",
      " |-- artist_location: string (nullable = true)\n",
      " |-- artist_name: string (nullable = true)\n",
      " |-- song_id: string (nullable = true)\n",
      " |-- title: string (nullable = true)\n",
      " |-- duration: float (nullable = true)\n",
      " |-- year: integer (nullable = true)\n",
      "\n"
     ]
    }
   ],
   "source": [
    "song_clean.printSchema()"
   ]
  },
  {
   "cell_type": "code",
   "execution_count": 92,
   "metadata": {},
   "outputs": [
    {
     "name": "stdout",
     "output_type": "stream",
     "text": [
      "+------------------+--------------------+------------------+----+---------+\n",
      "|           song_id|               title|         artist_id|year| duration|\n",
      "+------------------+--------------------+------------------+----+---------+\n",
      "|SOTKKVF12A67AD8466|I'll Know (2003 D...|ARHW1LO1187B9A8561|   0|154.64444|\n",
      "|SOIYNBM12AB01825C3|           Jes' Fine|AR0PGDM1187B990E66|   0| 331.8069|\n",
      "|SOAPYHO12A6701E3DF|Stone Groove (Alb...|ARJ47041187B98E500|2004|285.88364|\n",
      "|SOAGVJV12AF729DACF|Brushing Of The W...|ARV15CM1187B990EEA|   0|290.19382|\n",
      "|SOCQJBX12AF72AA6F2|The Owl and the P...|ARKCTSM11F4C83C839|   0|156.70811|\n",
      "+------------------+--------------------+------------------+----+---------+\n",
      "only showing top 5 rows\n",
      "\n"
     ]
    }
   ],
   "source": [
    "# creating songs table with columns song_id, title, artist_id, year, duration\n",
    "songs_table = song_clean.select(['song_id', 'title', 'artist_id', 'year', 'duration']).dropDuplicates()\n",
    "songs_table.collect()[0]\n",
    "songs_table.show(5)"
   ]
  },
  {
   "cell_type": "code",
   "execution_count": 93,
   "metadata": {},
   "outputs": [
    {
     "name": "stdout",
     "output_type": "stream",
     "text": [
      "+------------------+--------------------+--------------------+--------+---------+\n",
      "|         artist_id|                name|            location|latitude|longitude|\n",
      "+------------------+--------------------+--------------------+--------+---------+\n",
      "|ARLDX1T1187B991E69|           Joe Veras|Cotui, Dominican ...|19.05871|-70.15213|\n",
      "|ARABYN61187B997D4E|            Flipsyde|               Texas|     0.0|      0.0|\n",
      "|ARKXBAH1187FB3F8AD|     The Futureheads|          Sunderland|54.90012| -1.40848|\n",
      "|ARW91B61187B989DFD|        Lewis Taylor|                    |     0.0|      0.0|\n",
      "|AR740W81187FB3943B|Bernard Haitink_ ...|           Amsterdam|     0.0|      0.0|\n",
      "+------------------+--------------------+--------------------+--------+---------+\n",
      "only showing top 5 rows\n",
      "\n"
     ]
    }
   ],
   "source": [
    "# creating artists table with columns artist_id, name, location, latitude, longitude\n",
    "artists_table = song_clean.select(['artist_id', 'artist_name', 'artist_location', 'artist_latitude', 'artist_longitude'])\\\n",
    "                .withColumnRenamed('artist_name','name') \\\n",
    "                .withColumnRenamed('artist_location','location') \\\n",
    "                .withColumnRenamed('artist_latitude','latitude') \\\n",
    "                .withColumnRenamed('artist_longitude','longitude').dropDuplicates()\n",
    "\n",
    "artists_table.collect()[0]\n",
    "artists_table.show(5)"
   ]
  },
  {
   "cell_type": "code",
   "execution_count": 94,
   "metadata": {},
   "outputs": [],
   "source": [
    "# Creating songplays table with columns songplay_id, start_time, user_id, level, song_id, artist_id, session_id, location, user_agent\n",
    "user_listen.createOrReplaceTempView('user_listen')\n",
    "songs_table.createOrReplaceTempView('songs')\n",
    "users_table.createOrReplaceTempView('users')\n",
    "artists_table.createOrReplaceTempView('artists')\n",
    "time_table.createOrReplaceTempView('time')\n",
    "log_clean.createOrReplaceTempView('log_clean')\n",
    "song_clean.createOrReplaceTempView('song_clean')"
   ]
  },
  {
   "cell_type": "code",
   "execution_count": 95,
   "metadata": {},
   "outputs": [],
   "source": [
    "songplays_table = spark.sql(\"\"\"\n",
    "select  t.start_time, l.userId as user_id, l.level, s.song_id, a.artist_id, l.sessionId as session_id, l.location, l.userAgent as user_agent\n",
    ", t.year, t.month\n",
    "from log_clean l join time t\n",
    "on l.ts_converted = t.start_time\n",
    "join artists a\n",
    "on l.artist = a.name\n",
    "join songs s\n",
    "on l.song = s.title\n",
    "\"\"\")"
   ]
  },
  {
   "cell_type": "code",
   "execution_count": 96,
   "metadata": {},
   "outputs": [],
   "source": [
    "# A column that generates monotonically increasing 64-bit integers.\n",
    "# The generated ID is guaranteed to be monotonically increasing and unique, but not consecutive.\n",
    "\n",
    "# create a monotonically increasing id \n",
    "songplays_table = songplays_table.withColumn(\"idx\", F.monotonically_increasing_id())\n",
    "\n",
    "# then since the id is increasing but not consecutive, it means you can sort by it, so you can use the `row_number`\n",
    "songplays_table.createOrReplaceTempView('songplays_table')\n",
    "songplays_table = spark.sql(\"\"\"\n",
    "select row_number() over (order by \"idx\") as num, \n",
    "start_time, user_id, level, song_id, artist_id, session_id, location, user_agent, year, month\n",
    "from songplays_table\n",
    "\"\"\")\n",
    "\n",
    "songplays_table.collect()[0]\n",
    "songplays_table.createOrReplaceTempView('songplays')"
   ]
  },
  {
   "cell_type": "code",
   "execution_count": 97,
   "metadata": {},
   "outputs": [
    {
     "data": {
      "text/plain": [
       "822"
      ]
     },
     "execution_count": 97,
     "metadata": {},
     "output_type": "execute_result"
    }
   ],
   "source": [
    "songplays_table.count()"
   ]
  },
  {
   "cell_type": "code",
   "execution_count": 98,
   "metadata": {},
   "outputs": [
    {
     "name": "stdout",
     "output_type": "stream",
     "text": [
      "+---+--------------------+-------+-----+------------------+------------------+----------+--------------------+--------------------+----+-----+\n",
      "|num|          start_time|user_id|level|           song_id|         artist_id|session_id|            location|          user_agent|year|month|\n",
      "+---+--------------------+-------+-----+------------------+------------------+----------+--------------------+--------------------+----+-----+\n",
      "|  1|2018-11-04 06:33:...|     25| paid|SOKLZXF12AB01887C4|AR24DZB1187FB3C869|       128|    Marinette, WI-MI|\"Mozilla/5.0 (Win...|2018|   11|\n",
      "|  2|2018-11-07 15:16:...|      2| free|SOTJEIC12A8C139054|AR0OTEX1187FB3600D|       323|        Plymouth, IN|\"Mozilla/5.0 (Win...|2018|   11|\n",
      "|  3|2018-11-09 11:47:...|     95| paid|SOBZVRH12AB017E245|AR9I1L41187FB37F0E|       276|   Winston-Salem, NC|\"Mozilla/5.0 (iPh...|2018|   11|\n",
      "|  4|2018-11-09 13:52:...|     80| paid|SOAYOFO12AF72A4B88|AREMPZY1187B9B8FF3|       409|Portland-South Po...|\"Mozilla/5.0 (Mac...|2018|   11|\n",
      "|  5|2018-11-16 12:46:...|     80| paid|SORPKWR12AB0183E01|AR8AYDW1187FB4BA8F|       620|Portland-South Po...|\"Mozilla/5.0 (Mac...|2018|   11|\n",
      "|  6|2018-11-16 12:46:...|     80| paid|SOLGNOM12A6D4FA35F|AR8AYDW1187FB4BA8F|       620|Portland-South Po...|\"Mozilla/5.0 (Mac...|2018|   11|\n",
      "|  7|2018-11-07 00:27:...|     97| paid|SOGFRYH12AB018750F|ARRH63Y1187FB47783|       293|Lansing-East Lans...|\"Mozilla/5.0 (X11...|2018|   11|\n",
      "|  8|2018-11-11 19:56:...|     80| paid|SOMGWTZ12A8C1397D9|ARDF8K01187FB37200|       435|Portland-South Po...|\"Mozilla/5.0 (Mac...|2018|   11|\n",
      "|  9|2018-11-20 17:18:...|     49| paid|SONQWXY12A81C204D7|ARCEXLE1187FB3A93E|       758|San Francisco-Oak...|Mozilla/5.0 (Wind...|2018|   11|\n",
      "| 10|2018-11-22 11:21:...|     97| paid|SONENBB12A6D4FBE9F|AR6AY7W1187B9AC569|       828|Lansing-East Lans...|\"Mozilla/5.0 (X11...|2018|   11|\n",
      "| 11|2018-11-09 17:02:...|     80| paid|SOUNZHU12A8AE47481|AR37SX11187FB3E164|       416|Portland-South Po...|\"Mozilla/5.0 (Mac...|2018|   11|\n",
      "| 12|2018-11-13 16:24:...|     29| paid|SOLCMDE12AB018C680|ARTLZQW1187B9AC583|       486|Atlanta-Sandy Spr...|\"Mozilla/5.0 (Mac...|2018|   11|\n",
      "| 13|2018-11-15 14:39:...|     50| free|SOFEIDA12A6D4FBFA5|ARSAIUN1187FB398D3|       598|New Haven-Milford...|\"Mozilla/5.0 (Win...|2018|   11|\n",
      "| 14|2018-11-15 17:44:...|     97| paid|SOFXNQP12AB0184F1A|AR91NIO1187FB4D732|       605|Lansing-East Lans...|\"Mozilla/5.0 (X11...|2018|   11|\n",
      "| 15|2018-11-18 19:24:...|     29| paid|SOCOWCL12A8C1415F7|AR8K3HD1187B9B9CA9|       589|Atlanta-Sandy Spr...|\"Mozilla/5.0 (Mac...|2018|   11|\n",
      "| 16|2018-11-18 19:24:...|     29| paid|SOYETRS12AB018A8F2|AR8K3HD1187B9B9CA9|       589|Atlanta-Sandy Spr...|\"Mozilla/5.0 (Mac...|2018|   11|\n",
      "| 17|2018-11-24 05:04:...|     88| paid|SOBONKR12A58A7A7E0|AR5E44Z1187B9A1D74|       888|Sacramento--Rosev...|\"Mozilla/5.0 (Mac...|2018|   11|\n",
      "| 18|2018-11-30 17:53:...|     16| paid|SOAEILM12A8C13AC54|ARVXU2X1187B9AE6D8|      1076|Birmingham-Hoover...|\"Mozilla/5.0 (Mac...|2018|   11|\n",
      "| 19|2018-11-04 20:39:...|     73| paid|SOHHMFQ12A58A7694C|AR0NDTG1187FB391CA|        72|Tampa-St. Petersb...|\"Mozilla/5.0 (Mac...|2018|   11|\n",
      "| 20|2018-11-29 20:21:...|     49| paid|SOABIXP12A8C135F75|AR15DJQ1187FB5910C|      1041|San Francisco-Oak...|Mozilla/5.0 (Wind...|2018|   11|\n",
      "+---+--------------------+-------+-----+------------------+------------------+----------+--------------------+--------------------+----+-----+\n",
      "only showing top 20 rows\n",
      "\n"
     ]
    }
   ],
   "source": [
    "songplays_table.show()"
   ]
  },
  {
   "cell_type": "code",
   "execution_count": 99,
   "metadata": {},
   "outputs": [
    {
     "name": "stdout",
     "output_type": "stream",
     "text": [
      "+----------+-------+-------+\n",
      "|first_name|puCount|fuCount|\n",
      "+----------+-------+-------+\n",
      "|     Rylan|    221|     23|\n",
      "|Jacqueline|    372|      9|\n",
      "|  Mohammad|    266|     46|\n",
      "|      Lily|    491|      4|\n",
      "|   Kinsley|    198|      6|\n",
      "|     Chloe|    716|     56|\n",
      "|   Matthew|    268|     12|\n",
      "|     Tegan|    712|     28|\n",
      "+----------+-------+-------+\n",
      "\n"
     ]
    }
   ],
   "source": [
    "user_listen_copy = spark.sql(\"\"\"\n",
    "select distinct b.first_name, a.puCount, a.fuCount\n",
    "from user_listen a join users b\n",
    "on a.userId = b.user_id\n",
    "\"\"\")\n",
    "user_listen_copy.show()"
   ]
  },
  {
   "cell_type": "code",
   "execution_count": 100,
   "metadata": {},
   "outputs": [],
   "source": [
    "user_listen = user_listen_copy"
   ]
  },
  {
   "cell_type": "code",
   "execution_count": 101,
   "metadata": {},
   "outputs": [
    {
     "name": "stdout",
     "output_type": "stream",
     "text": [
      "+---------+-----+\n",
      "|   Tables| Rows|\n",
      "+---------+-----+\n",
      "|    users|  104|\n",
      "|    songs|14896|\n",
      "|  artists|10025|\n",
      "|     time| 6813|\n",
      "|songplays|  822|\n",
      "+---------+-----+\n",
      "\n"
     ]
    }
   ],
   "source": [
    "users_test = spark.sql(\"\"\"\n",
    "select 'users' as Tables, count(*) as Rows from users\n",
    "union all\n",
    "select 'songs', count(*) from songs\n",
    "union all\n",
    "select 'artists', count(*) from artists\n",
    "union all\n",
    "select 'time', count(*) from time\n",
    "union all\n",
    "select 'songplays', count(*) from songplays\n",
    "\"\"\")\n",
    "users_test.show(1000)"
   ]
  },
  {
   "cell_type": "markdown",
   "metadata": {},
   "source": [
    "### Saving table files"
   ]
  },
  {
   "cell_type": "code",
   "execution_count": 349,
   "metadata": {},
   "outputs": [],
   "source": [
    "# Requirement is to partition by year & artist, since songs_table contains artist_id, so instead of artist_name, artist_id is used.\n",
    "songs_table.write.parquet('./output/songs.parquet', mode='overwrite', partitionBy=['year', 'artist_id'])"
   ]
  },
  {
   "cell_type": "code",
   "execution_count": 350,
   "metadata": {},
   "outputs": [],
   "source": [
    "# Requirement is to partition by year & month\n",
    "time_table.write.parquet('./output/time.parquet', mode='overwrite', partitionBy=['year', 'month'])"
   ]
  },
  {
   "cell_type": "code",
   "execution_count": 351,
   "metadata": {},
   "outputs": [],
   "source": [
    "# Requirement is to partition by year & month\n",
    "songplays_table.write.parquet('./output/songplays.parquet', mode='overwrite', partitionBy=['year', 'month'])"
   ]
  },
  {
   "cell_type": "code",
   "execution_count": 352,
   "metadata": {},
   "outputs": [],
   "source": [
    "artists_table.write.parquet('./output/artists.parquet', mode='overwrite')\n",
    "users_table.write.parquet('./output/users.parquet', mode='overwrite')"
   ]
  },
  {
   "cell_type": "code",
   "execution_count": 354,
   "metadata": {},
   "outputs": [],
   "source": [
    "out_path = \"./output/log_clean.csv\"\n",
    "log_clean.write.save(out_path, mode='overwrite', format=\"csv\", header=True)\n",
    "\n",
    "out_path = \"./output/song_clean.csv\"\n",
    "song_clean.write.save(out_path, mode='overwrite', format=\"csv\", header=True)\n",
    "\n",
    "out_path = \"./output/user_listen.csv\"\n",
    "user_listen.write.save(out_path, mode='overwrite', format=\"csv\", header=True)"
   ]
  },
  {
   "cell_type": "code",
   "execution_count": null,
   "metadata": {},
   "outputs": [],
   "source": []
  },
  {
   "cell_type": "code",
   "execution_count": 355,
   "metadata": {},
   "outputs": [],
   "source": [
    "# Reading the saved files\n",
    "df = spark.read.parquet(\"./output/songs.parquet\")"
   ]
  },
  {
   "cell_type": "code",
   "execution_count": 356,
   "metadata": {},
   "outputs": [
    {
     "data": {
      "text/plain": [
       "14896"
      ]
     },
     "execution_count": 356,
     "metadata": {},
     "output_type": "execute_result"
    }
   ],
   "source": [
    "df.count()"
   ]
  },
  {
   "cell_type": "code",
   "execution_count": 357,
   "metadata": {},
   "outputs": [
    {
     "name": "stdout",
     "output_type": "stream",
     "text": [
      "+------------------+--------------------+---------+----+------------------+\n",
      "|           song_id|               title| duration|year|         artist_id|\n",
      "+------------------+--------------------+---------+----+------------------+\n",
      "|SODUMDU12AC468A22B|We're Skrewed (Ot...| 249.5473|   0|ARHOSMU1242078130D|\n",
      "|SOTCIHX12A8C13DDD2|Finally_ as that ...|483.34323|2006|ARYOIZG1187FB41E30|\n",
      "|SOPSXLI12A6D4FA418|Practical Cats - ...|251.03629|   0|ARR79V31187FB5B96E|\n",
      "|SOUFBFK12A8C13D668|String Quartets O...|348.60364|   0|ARAILTA11F4C840A06|\n",
      "|SOROAMT12A8C13C6D0|Me gustan mas los...|101.85098|2008|ARWUDTF1187B9AA096|\n",
      "|SOQEBML12A8C136AA4|Werther (1997 Dig...| 55.40526|   0|AR5R7791187FB3A8C3|\n",
      "|SOQYHYG12AB017CF0B|The Horrors Of Is...|279.95383|2004|ARNVCB81187B9ACBDF|\n",
      "|SOIRASZ12A8AE48354|String Quartet No...|776.28033|   0|ARIBQJ21187FB48B54|\n",
      "|SOXHXDU12A8C13BAF0|Les Corps Glorieu...| 462.0273|   0|AR342K51187B98B571|\n",
      "|SOIEUCF12A6D4F9889|Symphony in B fla...|398.34076|   0|ARBB8QH1187FB54138|\n",
      "+------------------+--------------------+---------+----+------------------+\n",
      "only showing top 10 rows\n",
      "\n"
     ]
    }
   ],
   "source": [
    "df.show(10)"
   ]
  },
  {
   "cell_type": "code",
   "execution_count": 7,
   "metadata": {},
   "outputs": [],
   "source": [
    "df = spark.read.csv(\"./output/user_listen.csv\",sep=\",\", inferSchema=True, header=True)"
   ]
  },
  {
   "cell_type": "code",
   "execution_count": 8,
   "metadata": {},
   "outputs": [
    {
     "data": {
      "text/plain": [
       "8"
      ]
     },
     "execution_count": 8,
     "metadata": {},
     "output_type": "execute_result"
    }
   ],
   "source": [
    "df.count()"
   ]
  },
  {
   "cell_type": "code",
   "execution_count": 9,
   "metadata": {},
   "outputs": [
    {
     "name": "stdout",
     "output_type": "stream",
     "text": [
      "+----------+-------+-------+\n",
      "|first_name|puCount|fuCount|\n",
      "+----------+-------+-------+\n",
      "|Jacqueline|    372|      9|\n",
      "|  Mohammad|    266|     46|\n",
      "|   Matthew|    268|     12|\n",
      "|   Kinsley|    198|      6|\n",
      "|     Tegan|    712|     28|\n",
      "|     Chloe|    716|     56|\n",
      "|     Rylan|    221|     23|\n",
      "|      Lily|    491|      4|\n",
      "+----------+-------+-------+\n",
      "\n"
     ]
    }
   ],
   "source": [
    "df.show()"
   ]
  },
  {
   "cell_type": "code",
   "execution_count": 10,
   "metadata": {},
   "outputs": [],
   "source": [
    "user_listen = df"
   ]
  },
  {
   "cell_type": "markdown",
   "metadata": {},
   "source": [
    "### Data visualization"
   ]
  },
  {
   "cell_type": "code",
   "execution_count": 11,
   "metadata": {},
   "outputs": [],
   "source": [
    "first_names = user_listen.select('first_name').collect()\n",
    "puCount = user_listen.select('puCount').collect()\n",
    "fuCount = user_listen.select('fuCount').collect()"
   ]
  },
  {
   "cell_type": "code",
   "execution_count": 12,
   "metadata": {},
   "outputs": [
    {
     "name": "stdout",
     "output_type": "stream",
     "text": [
      "[372 266 268 198 712 716 221 491]\n"
     ]
    }
   ],
   "source": [
    "print( np.concatenate( puCount, axis=0 ) )"
   ]
  },
  {
   "cell_type": "code",
   "execution_count": 22,
   "metadata": {},
   "outputs": [
    {
     "data": {
      "image/png": "[encoded data removed]",
      "text/plain": [
       "<matplotlib.figure.Figure at 0x7f82343c5128>"
      ]
     },
     "metadata": {
      "needs_background": "light"
     },
     "output_type": "display_data"
    }
   ],
   "source": [
    "A = np.concatenate( puCount, axis=0 )\n",
    "B = np.concatenate( fuCount, axis=0 )\n",
    "names = np.concatenate( first_names, axis=0)\n",
    "X = np.arange(8)\n",
    "\n",
    "plt.bar(X, A, label='Paid User', color='gold')\n",
    "plt.bar(X, B, label='Free User', color = 'r', bottom = A)\n",
    "\n",
    "# Custom X axis\n",
    "plt.xticks(X, names, fontweight='bold')\n",
    "plt.xlabel(\"Names\")\n",
    "plt.ylabel(\"Number of songs\")\n",
    "plt.title('User listening level')\n",
    "plt.legend(loc=\"upper left\")\n",
    "\n",
    "# rotate axis labels\n",
    "plt.setp(plt.gca().get_xticklabels(), rotation=45, horizontalalignment='right')\n",
    "\n",
    "plt.savefig('chart1.png',dpi=100)\n",
    "plt.show()"
   ]
  },
  {
   "cell_type": "code",
   "execution_count": null,
   "metadata": {},
   "outputs": [],
   "source": []
  }
 ],
 "metadata": {
  "kernelspec": {
   "display_name": "Python 3",
   "language": "python",
   "name": "python3"
  },
  "language_info": {
   "codemirror_mode": {
    "name": "ipython",
    "version": 3
   },
   "file_extension": ".py",
   "mimetype": "text/x-python",
   "name": "python",
   "nbconvert_exporter": "python",
   "pygments_lexer": "ipython3",
   "version": "3.6.3"
  }
 },
 "nbformat": 4,
 "nbformat_minor": 4
}
