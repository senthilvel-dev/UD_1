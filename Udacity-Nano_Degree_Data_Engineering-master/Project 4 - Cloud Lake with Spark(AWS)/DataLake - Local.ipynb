{
 "cells": [
  {
   "cell_type": "markdown",
   "metadata": {},
   "source": [
    "### Data lake tests with .zip file given to Udacity"
   ]
  },
  {
   "cell_type": "code",
   "execution_count": 1,
   "metadata": {},
   "outputs": [],
   "source": [
    "from zipfile import ZipFile\n",
    "import numpy as np\n",
    "import pandas as pd"
   ]
  },
  {
   "cell_type": "code",
   "execution_count": 2,
   "metadata": {},
   "outputs": [],
   "source": [
    "import pyspark\n",
    "from pyspark import SparkConf\n",
    "from pyspark.sql import SparkSession\n",
    "\n",
    "from pyspark.sql.types import StructType, StructField\n",
    "from pyspark.sql.types import StringType, IntegerType, FloatType, TimestampType, LongType\n",
    "\n",
    "import datetime #Required for ts conversion\n",
    "from pyspark.sql.functions import udf\n",
    "from pyspark.sql import functions as F\n",
    "from pyspark.sql.functions import year, month, dayofmonth, hour, minute, second"
   ]
  },
  {
   "cell_type": "code",
   "execution_count": 3,
   "metadata": {},
   "outputs": [],
   "source": [
    "pd.set_option('max_colwidth', 200)"
   ]
  },
  {
   "cell_type": "code",
   "execution_count": 4,
   "metadata": {},
   "outputs": [],
   "source": [
    "spark = SparkSession \\\n",
    "    .builder \\\n",
    "    .appName(\"DataLake - Local\") \\\n",
    "    .getOrCreate()"
   ]
  },
  {
   "cell_type": "code",
   "execution_count": 5,
   "metadata": {},
   "outputs": [
    {
     "data": {
      "text/plain": [
       "[('spark.driver.port', '45883'),\n",
       " ('spark.app.id', 'local-1572274915393'),\n",
       " ('spark.driver.host', '5b13c09a6e08'),\n",
       " ('spark.rdd.compress', 'True'),\n",
       " ('spark.serializer.objectStreamReset', '100'),\n",
       " ('spark.master', 'local[*]'),\n",
       " ('spark.executor.id', 'driver'),\n",
       " ('spark.submit.deployMode', 'client'),\n",
       " ('spark.app.name', 'DataLake - Local'),\n",
       " ('spark.ui.showConsoleProgress', 'true')]"
      ]
     },
     "execution_count": 5,
     "metadata": {},
     "output_type": "execute_result"
    }
   ],
   "source": [
    "spark.sparkContext.getConf().getAll()"
   ]
  },
  {
   "cell_type": "code",
   "execution_count": 6,
   "metadata": {},
   "outputs": [
    {
     "data": {
      "text/html": [
       "\n",
       "            <div>\n",
       "                <p><b>SparkSession - in-memory</b></p>\n",
       "                \n",
       "        <div>\n",
       "            <p><b>SparkContext</b></p>\n",
       "\n",
       "            <p><a href=\"http://5b13c09a6e08:4040\">Spark UI</a></p>\n",
       "\n",
       "            <dl>\n",
       "              <dt>Version</dt>\n",
       "                <dd><code>v2.4.3</code></dd>\n",
       "              <dt>Master</dt>\n",
       "                <dd><code>local[*]</code></dd>\n",
       "              <dt>AppName</dt>\n",
       "                <dd><code>DataLake - Local</code></dd>\n",
       "            </dl>\n",
       "        </div>\n",
       "        \n",
       "            </div>\n",
       "        "
      ],
      "text/plain": [
       "<pyspark.sql.session.SparkSession at 0x7f1f7ec6c198>"
      ]
     },
     "execution_count": 6,
     "metadata": {},
     "output_type": "execute_result"
    }
   ],
   "source": [
    "spark"
   ]
  },
  {
   "cell_type": "markdown",
   "metadata": {},
   "source": [
    "## Gather"
   ]
  },
  {
   "cell_type": "code",
   "execution_count": 7,
   "metadata": {},
   "outputs": [],
   "source": [
    "# Create a ZipFile Object and load sample.zip in it\n",
    "with ZipFile('data/log-data.zip', 'r') as zipObj:\n",
    "    # Extract all the contents of zip file in current directory\n",
    "    zipObj.extractall('data/log-data/')\n",
    "    \n",
    "with ZipFile('data/song-data.zip', 'r') as zipObj:\n",
    "    # Extract all the contents of zip file in current directory\n",
    "    zipObj.extractall('data/song-data/')"
   ]
  },
  {
   "cell_type": "code",
   "execution_count": 8,
   "metadata": {},
   "outputs": [],
   "source": [
    "path = \"data/log-data\"\n",
    "log_df = spark.read.json(path)"
   ]
  },
  {
   "cell_type": "code",
   "execution_count": 9,
   "metadata": {},
   "outputs": [],
   "source": [
    "path = \"data/song-data/song_data/*/*/*/*.json\"\n",
    "#path = \"data/song-data/song_data/A/A/A/TRAAAAW128F429D538.json\"\n",
    "song_schema = StructType([\n",
    "\tStructField(\"num_songs\", IntegerType()),\n",
    "    StructField(\"artist_id\", StringType()),\n",
    "    StructField(\"artist_latitude\", FloatType()),\n",
    "    StructField(\"artist_longitude\", FloatType()),\n",
    "    StructField(\"artist_location\", StringType()),\n",
    "    StructField(\"artist_name\", StringType()),\n",
    "    StructField(\"song_id\", StringType()),\n",
    "    StructField(\"title\", StringType()),\n",
    "    StructField(\"duration\", FloatType()),\n",
    "    StructField(\"year\", IntegerType())\n",
    "])\n",
    "\n",
    "song_df = spark.read.json(path, \n",
    "          schema=song_schema)\n",
    "#song_df = spark.read.schema(song_schema).json(path)"
   ]
  },
  {
   "cell_type": "markdown",
   "metadata": {},
   "source": [
    "## Assess"
   ]
  },
  {
   "cell_type": "code",
   "execution_count": 10,
   "metadata": {},
   "outputs": [
    {
     "name": "stdout",
     "output_type": "stream",
     "text": [
      "root\n",
      " |-- artist: string (nullable = true)\n",
      " |-- auth: string (nullable = true)\n",
      " |-- firstName: string (nullable = true)\n",
      " |-- gender: string (nullable = true)\n",
      " |-- itemInSession: long (nullable = true)\n",
      " |-- lastName: string (nullable = true)\n",
      " |-- length: double (nullable = true)\n",
      " |-- level: string (nullable = true)\n",
      " |-- location: string (nullable = true)\n",
      " |-- method: string (nullable = true)\n",
      " |-- page: string (nullable = true)\n",
      " |-- registration: double (nullable = true)\n",
      " |-- sessionId: long (nullable = true)\n",
      " |-- song: string (nullable = true)\n",
      " |-- status: long (nullable = true)\n",
      " |-- ts: long (nullable = true)\n",
      " |-- userAgent: string (nullable = true)\n",
      " |-- userId: string (nullable = true)\n",
      "\n"
     ]
    }
   ],
   "source": [
    "log_df.printSchema()"
   ]
  },
  {
   "cell_type": "code",
   "execution_count": 11,
   "metadata": {},
   "outputs": [
    {
     "data": {
      "text/plain": [
       "8056"
      ]
     },
     "execution_count": 11,
     "metadata": {},
     "output_type": "execute_result"
    }
   ],
   "source": [
    "log_df.count()"
   ]
  },
  {
   "cell_type": "code",
   "execution_count": 12,
   "metadata": {},
   "outputs": [
    {
     "name": "stdout",
     "output_type": "stream",
     "text": [
      "+-----------+---------+---------+------+-------------+--------+---------+-----+--------------------+------+--------+-----------------+---------+---------------+------+-------------+--------------------+------+\n",
      "|     artist|     auth|firstName|gender|itemInSession|lastName|   length|level|            location|method|    page|     registration|sessionId|           song|status|           ts|           userAgent|userId|\n",
      "+-----------+---------+---------+------+-------------+--------+---------+-----+--------------------+------+--------+-----------------+---------+---------------+------+-------------+--------------------+------+\n",
      "|   Harmonia|Logged In|     Ryan|     M|            0|   Smith|655.77751| free|San Jose-Sunnyval...|   PUT|NextSong|1.541016707796E12|      583|  Sehr kosmisch|   200|1542241826796|\"Mozilla/5.0 (X11...|    26|\n",
      "|The Prodigy|Logged In|     Ryan|     M|            1|   Smith|260.07465| free|San Jose-Sunnyval...|   PUT|NextSong|1.541016707796E12|      583|The Big Gundown|   200|1542242481796|\"Mozilla/5.0 (X11...|    26|\n",
      "+-----------+---------+---------+------+-------------+--------+---------+-----+--------------------+------+--------+-----------------+---------+---------------+------+-------------+--------------------+------+\n",
      "only showing top 2 rows\n",
      "\n"
     ]
    }
   ],
   "source": [
    "log_df.show(2)"
   ]
  },
  {
   "cell_type": "code",
   "execution_count": 13,
   "metadata": {},
   "outputs": [
    {
     "name": "stdout",
     "output_type": "stream",
     "text": [
      "+----------+\n",
      "|      auth|\n",
      "+----------+\n",
      "|Logged Out|\n",
      "| Logged In|\n",
      "+----------+\n",
      "\n"
     ]
    }
   ],
   "source": [
    "# Checking auth column (Logged Out, Logged In)\n",
    "log_df.select(\"auth\").dropDuplicates().show()"
   ]
  },
  {
   "cell_type": "code",
   "execution_count": 14,
   "metadata": {},
   "outputs": [
    {
     "name": "stdout",
     "output_type": "stream",
     "text": [
      "+------+-----+\n",
      "|gender|count|\n",
      "+------+-----+\n",
      "|     F| 5482|\n",
      "|  null|  286|\n",
      "|     M| 2288|\n",
      "+------+-----+\n",
      "\n"
     ]
    }
   ],
   "source": [
    "# Checking gender column ( replace null with blank)\n",
    "log_df.groupby(log_df.gender).count().show()"
   ]
  },
  {
   "cell_type": "code",
   "execution_count": 15,
   "metadata": {},
   "outputs": [
    {
     "name": "stdout",
     "output_type": "stream",
     "text": [
      "+-------------+\n",
      "|iteminsession|\n",
      "+-------------+\n",
      "|           26|\n",
      "|           29|\n",
      "|           65|\n",
      "|           19|\n",
      "|           54|\n",
      "|            0|\n",
      "|          112|\n",
      "|          113|\n",
      "|           22|\n",
      "|            7|\n",
      "|           77|\n",
      "|           34|\n",
      "|          126|\n",
      "|           50|\n",
      "|           94|\n",
      "|          110|\n",
      "|           57|\n",
      "|           32|\n",
      "|           43|\n",
      "|           84|\n",
      "+-------------+\n",
      "only showing top 20 rows\n",
      "\n"
     ]
    }
   ],
   "source": [
    "# iteminsession\n",
    "log_df.select(\"iteminsession\").dropDuplicates().show()"
   ]
  },
  {
   "cell_type": "code",
   "execution_count": 16,
   "metadata": {},
   "outputs": [
    {
     "name": "stdout",
     "output_type": "stream",
     "text": [
      "+---------+\n",
      "|   length|\n",
      "+---------+\n",
      "|375.03955|\n",
      "|169.35138|\n",
      "| 325.0673|\n",
      "|231.94077|\n",
      "|347.81995|\n",
      "| 64.67873|\n",
      "|241.94567|\n",
      "|282.04363|\n",
      "|438.67383|\n",
      "|137.84771|\n",
      "|227.83955|\n",
      "|213.75955|\n",
      "|262.79138|\n",
      "|317.30893|\n",
      "|216.47628|\n",
      "| 229.0673|\n",
      "|280.34567|\n",
      "|334.75873|\n",
      "|288.57424|\n",
      "|377.36444|\n",
      "+---------+\n",
      "only showing top 20 rows\n",
      "\n"
     ]
    }
   ],
   "source": [
    "log_df.select(\"length\").dropDuplicates().show()"
   ]
  },
  {
   "cell_type": "code",
   "execution_count": 17,
   "metadata": {},
   "outputs": [
    {
     "name": "stdout",
     "output_type": "stream",
     "text": [
      "+-----+\n",
      "|level|\n",
      "+-----+\n",
      "| free|\n",
      "| paid|\n",
      "+-----+\n",
      "\n"
     ]
    }
   ],
   "source": [
    "log_df.select(\"level\").dropDuplicates().show()"
   ]
  },
  {
   "cell_type": "code",
   "execution_count": 18,
   "metadata": {},
   "outputs": [
    {
     "name": "stdout",
     "output_type": "stream",
     "text": [
      "+----------------+\n",
      "|            page|\n",
      "+----------------+\n",
      "|Submit Downgrade|\n",
      "|            Home|\n",
      "|       Downgrade|\n",
      "|          Logout|\n",
      "|   Save Settings|\n",
      "|           About|\n",
      "|        Settings|\n",
      "|           Login|\n",
      "|        NextSong|\n",
      "|            Help|\n",
      "|         Upgrade|\n",
      "|           Error|\n",
      "|  Submit Upgrade|\n",
      "+----------------+\n",
      "\n"
     ]
    }
   ],
   "source": [
    "log_df.select(\"page\").dropDuplicates().show()"
   ]
  },
  {
   "cell_type": "code",
   "execution_count": 19,
   "metadata": {},
   "outputs": [
    {
     "name": "stdout",
     "output_type": "stream",
     "text": [
      "+-----------------+\n",
      "|     registration|\n",
      "+-----------------+\n",
      "|1.540472624796E12|\n",
      "|1.540810448796E12|\n",
      "|1.541016707796E12|\n",
      "|1.540823606796E12|\n",
      "|1.541064343796E12|\n",
      "|1.540130971796E12|\n",
      "|1.540676534796E12|\n",
      "|1.540992766796E12|\n",
      "|1.540644861796E12|\n",
      "|1.540907087796E12|\n",
      "|1.541020249796E12|\n",
      "|1.540991795796E12|\n",
      "|1.541003367796E12|\n",
      "|1.541033612796E12|\n",
      "|1.541091973796E12|\n",
      "|1.540306145796E12|\n",
      "|1.540492941796E12|\n",
      "|             null|\n",
      "|1.540856629796E12|\n",
      "|1.540970748796E12|\n",
      "+-----------------+\n",
      "only showing top 20 rows\n",
      "\n"
     ]
    }
   ],
   "source": [
    "log_df.select(\"registration\").dropDuplicates().show()"
   ]
  },
  {
   "cell_type": "code",
   "execution_count": 20,
   "metadata": {},
   "outputs": [
    {
     "name": "stdout",
     "output_type": "stream",
     "text": [
      "+---------+\n",
      "|sessionId|\n",
      "+---------+\n",
      "|      964|\n",
      "|      474|\n",
      "|      558|\n",
      "|      541|\n",
      "|     1010|\n",
      "|      418|\n",
      "|      191|\n",
      "|      222|\n",
      "|      730|\n",
      "|      270|\n",
      "|      938|\n",
      "|      293|\n",
      "|      442|\n",
      "|      720|\n",
      "|      705|\n",
      "|      243|\n",
      "|      278|\n",
      "|      296|\n",
      "|      926|\n",
      "|      965|\n",
      "+---------+\n",
      "only showing top 20 rows\n",
      "\n"
     ]
    }
   ],
   "source": [
    "log_df.select(\"sessionId\").dropDuplicates().show()"
   ]
  },
  {
   "cell_type": "code",
   "execution_count": 21,
   "metadata": {},
   "outputs": [
    {
     "name": "stdout",
     "output_type": "stream",
     "text": [
      "+------+\n",
      "|userid|\n",
      "+------+\n",
      "|    51|\n",
      "|     7|\n",
      "|    15|\n",
      "|    54|\n",
      "|   101|\n",
      "|    11|\n",
      "|    29|\n",
      "|    69|\n",
      "|    42|\n",
      "|    73|\n",
      "|    87|\n",
      "|    64|\n",
      "|     3|\n",
      "|    30|\n",
      "|    34|\n",
      "|    59|\n",
      "|     8|\n",
      "|    28|\n",
      "|    22|\n",
      "|    85|\n",
      "+------+\n",
      "only showing top 20 rows\n",
      "\n"
     ]
    }
   ],
   "source": [
    "log_df.select(\"userid\").dropDuplicates().show()"
   ]
  },
  {
   "cell_type": "code",
   "execution_count": null,
   "metadata": {},
   "outputs": [],
   "source": []
  },
  {
   "cell_type": "code",
   "execution_count": 22,
   "metadata": {},
   "outputs": [
    {
     "name": "stdout",
     "output_type": "stream",
     "text": [
      "+----------+\n",
      "|      auth|\n",
      "+----------+\n",
      "|Logged Out|\n",
      "+----------+\n",
      "\n"
     ]
    }
   ],
   "source": [
    "#gender_count = log_df.select([\"gender\"])\n",
    "#gender_count.groupby(gender_count.gender).count().show()\n",
    "#gc2 = gender_count.replace('None', None).na.fill('')\n",
    "#gc2.groupby(gc2.gender).count().show()\n",
    "#gc2.filter(gc2.gender == '').show(5)\n",
    "\n",
    "log_df_copy = log_df.replace('None', None).na.fill('')\n",
    "log_df_copy.filter(log_df_copy.gender == '').select(\"auth\").dropDuplicates().show()"
   ]
  },
  {
   "cell_type": "code",
   "execution_count": 23,
   "metadata": {},
   "outputs": [
    {
     "name": "stdout",
     "output_type": "stream",
     "text": [
      "+------+-----+\n",
      "|gender|count|\n",
      "+------+-----+\n",
      "|     F| 5482|\n",
      "|  null|  286|\n",
      "|     M| 2288|\n",
      "+------+-----+\n",
      "\n"
     ]
    }
   ],
   "source": [
    "log_df.groupby(log_df.gender).count().show()"
   ]
  },
  {
   "cell_type": "code",
   "execution_count": null,
   "metadata": {},
   "outputs": [],
   "source": []
  },
  {
   "cell_type": "code",
   "execution_count": 24,
   "metadata": {},
   "outputs": [
    {
     "name": "stdout",
     "output_type": "stream",
     "text": [
      "root\n",
      " |-- num_songs: integer (nullable = true)\n",
      " |-- artist_id: string (nullable = true)\n",
      " |-- artist_latitude: float (nullable = true)\n",
      " |-- artist_longitude: float (nullable = true)\n",
      " |-- artist_location: string (nullable = true)\n",
      " |-- artist_name: string (nullable = true)\n",
      " |-- song_id: string (nullable = true)\n",
      " |-- title: string (nullable = true)\n",
      " |-- duration: float (nullable = true)\n",
      " |-- year: integer (nullable = true)\n",
      "\n"
     ]
    }
   ],
   "source": [
    "song_df.printSchema()"
   ]
  },
  {
   "cell_type": "code",
   "execution_count": 25,
   "metadata": {},
   "outputs": [
    {
     "data": {
      "text/plain": [
       "71"
      ]
     },
     "execution_count": 25,
     "metadata": {},
     "output_type": "execute_result"
    }
   ],
   "source": [
    "song_df.count()"
   ]
  },
  {
   "cell_type": "code",
   "execution_count": 26,
   "metadata": {},
   "outputs": [
    {
     "name": "stdout",
     "output_type": "stream",
     "text": [
      "+---------+------------------+---------------+----------------+-----------------+--------------------+------------------+--------------------+---------+----+\n",
      "|num_songs|         artist_id|artist_latitude|artist_longitude|  artist_location|         artist_name|           song_id|               title| duration|year|\n",
      "+---------+------------------+---------------+----------------+-----------------+--------------------+------------------+--------------------+---------+----+\n",
      "|        1|ARDR4AC1187FB371A1|           null|            null|                 |Montserrat Caball...|SOBAYLL12A8C138AF9|Sono andati? Fing...|511.16364|   0|\n",
      "|        1|AREBBGV1187FB523D2|           null|            null|      Houston, TX|Mike Jones (Featu...|SOOLYAZ12A6701F4A6|Laws Patrolling (...|173.66159|   0|\n",
      "|        1|ARMAC4T1187FB3FA4C|       40.82624|       -74.47995|Morris Plains, NJ|The Dillinger Esc...|SOBBUGU12A8C13E95D|Setting Fire to S...|207.77751|2004|\n",
      "|        1|ARPBNLO1187FB3D52F|       40.71455|       -74.00712|     New York, NY|            Tiny Tim|SOAOIBZ12AB01815BE|I Hold Your Hand ...| 43.36281|2000|\n",
      "|        1|ARDNS031187B9924F0|       32.67828|       -83.22295|          Georgia|          Tim Wilson|SONYPOM12A8C13B2D7|I Think My Wife I...|186.48772|2005|\n",
      "+---------+------------------+---------------+----------------+-----------------+--------------------+------------------+--------------------+---------+----+\n",
      "only showing top 5 rows\n",
      "\n"
     ]
    }
   ],
   "source": [
    "song_df.show(5)"
   ]
  },
  {
   "cell_type": "code",
   "execution_count": 27,
   "metadata": {},
   "outputs": [
    {
     "name": "stdout",
     "output_type": "stream",
     "text": [
      "+---------------+\n",
      "|artist_latitude|\n",
      "+---------------+\n",
      "|       56.27609|\n",
      "|       35.14968|\n",
      "|       36.16778|\n",
      "|       49.80388|\n",
      "|        -13.442|\n",
      "|       34.31109|\n",
      "|       27.94017|\n",
      "|           null|\n",
      "|       40.71455|\n",
      "|        40.7038|\n",
      "|       51.50632|\n",
      "|       41.88415|\n",
      "|       30.08615|\n",
      "|       39.49974|\n",
      "|       35.21962|\n",
      "|       40.99471|\n",
      "|       37.83721|\n",
      "|        38.8991|\n",
      "|       37.16793|\n",
      "|       32.67828|\n",
      "+---------------+\n",
      "only showing top 20 rows\n",
      "\n"
     ]
    }
   ],
   "source": [
    "song_df.select(\"artist_latitude\").dropDuplicates().show()"
   ]
  },
  {
   "cell_type": "code",
   "execution_count": 28,
   "metadata": {},
   "outputs": [
    {
     "name": "stdout",
     "output_type": "stream",
     "text": [
      "+----------------+\n",
      "|artist_longitude|\n",
      "+----------------+\n",
      "|       -94.10158|\n",
      "|       -83.22295|\n",
      "|       -87.63241|\n",
      "|      -122.42005|\n",
      "|       -77.60454|\n",
      "|       -86.77836|\n",
      "|       -73.96644|\n",
      "|            null|\n",
      "|       -73.94512|\n",
      "|        -41.9952|\n",
      "|         9.51695|\n",
      "|       -81.37739|\n",
      "|       -80.11278|\n",
      "|       -82.32547|\n",
      "|       -74.47995|\n",
      "|       -80.01955|\n",
      "|       -90.04892|\n",
      "|        -0.12714|\n",
      "|       -94.02978|\n",
      "|       -79.38533|\n",
      "+----------------+\n",
      "only showing top 20 rows\n",
      "\n"
     ]
    }
   ],
   "source": [
    "song_df.select(\"artist_longitude\").dropDuplicates().show()"
   ]
  },
  {
   "cell_type": "code",
   "execution_count": 29,
   "metadata": {},
   "outputs": [
    {
     "name": "stdout",
     "output_type": "stream",
     "text": [
      "+---------------+\n",
      "|artist_location|\n",
      "+---------------+\n",
      "|Gainesville, FL|\n",
      "|           Utah|\n",
      "|     Wisner, LA|\n",
      "|     Queens, NY|\n",
      "|           Ohio|\n",
      "|      Dubai UAE|\n",
      "| Nashville, TN.|\n",
      "| Zagreb Croatia|\n",
      "|   Pennsylvania|\n",
      "| Hamilton, Ohio|\n",
      "|    Houston, TX|\n",
      "|  United States|\n",
      "|      Noci (BA)|\n",
      "|     Washington|\n",
      "|        Chicago|\n",
      "|California - LA|\n",
      "|        Denmark|\n",
      "|  Hamtramck, MI|\n",
      "|    Chicago, IL|\n",
      "|         Panama|\n",
      "+---------------+\n",
      "only showing top 20 rows\n",
      "\n"
     ]
    }
   ],
   "source": [
    "song_df.select(\"artist_location\").dropDuplicates().show()"
   ]
  },
  {
   "cell_type": "code",
   "execution_count": 30,
   "metadata": {},
   "outputs": [
    {
     "name": "stdout",
     "output_type": "stream",
     "text": [
      "+--------------------+\n",
      "|         artist_name|\n",
      "+--------------------+\n",
      "|        David Martin|\n",
      "|                 Clp|\n",
      "|          Bitter End|\n",
      "|         King Curtis|\n",
      "|        The Box Tops|\n",
      "|          John Davis|\n",
      "|        Gwen Stefani|\n",
      "|          Faye Adams|\n",
      "|     Richard Souther|\n",
      "|                Jinx|\n",
      "|  Luna Orbit Project|\n",
      "|      Five Bolt Main|\n",
      "|Mike Jones (Featu...|\n",
      "|       Terry Callier|\n",
      "|    Billie Jo Spears|\n",
      "|     Christos Dantis|\n",
      "|Kenny G featuring...|\n",
      "|         Mitch Ryder|\n",
      "|         Lupe Fiasco|\n",
      "|       Faiz Ali Faiz|\n",
      "+--------------------+\n",
      "only showing top 20 rows\n",
      "\n"
     ]
    }
   ],
   "source": [
    "song_df.select(\"artist_name\").dropDuplicates().show()"
   ]
  },
  {
   "cell_type": "markdown",
   "metadata": {},
   "source": [
    "### Quality\n",
    "1. song_df : Replace artist_latitude & artist_longitude null with 0\n",
    "\n",
    "### Tidiness\n",
    "1. log_df : Filter only column page with value \"NextSong\"\n",
    "2. log_df : Convert ts from long to datetime\n",
    "3. log_df : Convert registration from double to long\n",
    "4. Create below Fact & Dimension tables \n",
    "  * create songplays table with columns songplay_id, start_time, user_id, level, song_id, artist_id, session_id, location, user_agent\n",
    "  * create users table with columns user_id, first_name, last_name, gender, level\n",
    "  * create songs table with columns song_id, title, artist_id, year, duration\n",
    "  * create artists table with columns artist_id, name, location, lattitude, longitude\n",
    "  * create time table with columns start_time, hour, day, week, month, year, weekday"
   ]
  },
  {
   "cell_type": "markdown",
   "metadata": {},
   "source": [
    "## Clean"
   ]
  },
  {
   "cell_type": "code",
   "execution_count": 31,
   "metadata": {},
   "outputs": [
    {
     "name": "stdout",
     "output_type": "stream",
     "text": [
      "log_clean =  8056\n",
      "song_clean =  71\n"
     ]
    }
   ],
   "source": [
    "# Make copies of files\n",
    "log_clean = log_df\n",
    "song_clean = song_df\n",
    "\n",
    "print('log_clean = ',log_clean.count())\n",
    "print('song_clean = ',song_clean.count())"
   ]
  },
  {
   "cell_type": "markdown",
   "metadata": {},
   "source": [
    "### Issue 1 : In log_df Keep column page with value \"NextSong\" only\n",
    "### Define\n",
    "1. log_df : Filter only column page with value \"NextSong\"\n",
    "    \n",
    "### Code"
   ]
  },
  {
   "cell_type": "code",
   "execution_count": 32,
   "metadata": {},
   "outputs": [
    {
     "data": {
      "text/plain": [
       "6820"
      ]
     },
     "execution_count": 32,
     "metadata": {},
     "output_type": "execute_result"
    }
   ],
   "source": [
    "log_clean.filter(log_clean.page == 'NextSong').count()"
   ]
  },
  {
   "cell_type": "code",
   "execution_count": 33,
   "metadata": {},
   "outputs": [],
   "source": [
    "log_clean = log_clean.filter(log_clean.page == 'NextSong')"
   ]
  },
  {
   "cell_type": "markdown",
   "metadata": {},
   "source": [
    "### Test"
   ]
  },
  {
   "cell_type": "code",
   "execution_count": 34,
   "metadata": {},
   "outputs": [
    {
     "name": "stdout",
     "output_type": "stream",
     "text": [
      "log_clean =  6820\n",
      "+--------+\n",
      "|    page|\n",
      "+--------+\n",
      "|NextSong|\n",
      "+--------+\n",
      "\n"
     ]
    }
   ],
   "source": [
    "print('log_clean = ',log_clean.count())\n",
    "log_clean.select(\"page\").dropDuplicates().show()"
   ]
  },
  {
   "cell_type": "markdown",
   "metadata": {},
   "source": [
    "### Issue 2 : Convert log_df ts column from long to timestamp\n",
    "### Define\n",
    "2. log_df : Convert ts from long to datetime\n",
    "\n",
    "### Code"
   ]
  },
  {
   "cell_type": "code",
   "execution_count": 35,
   "metadata": {},
   "outputs": [
    {
     "name": "stdout",
     "output_type": "stream",
     "text": [
      "+-------------+\n",
      "|           ts|\n",
      "+-------------+\n",
      "|1542241826796|\n",
      "|1542242481796|\n",
      "|1542242741796|\n",
      "|1542253449796|\n",
      "|1542260935796|\n",
      "+-------------+\n",
      "only showing top 5 rows\n",
      "\n"
     ]
    }
   ],
   "source": [
    "log_clean.select('ts').show(5)"
   ]
  },
  {
   "cell_type": "code",
   "execution_count": 36,
   "metadata": {},
   "outputs": [],
   "source": [
    "# Method 1\n",
    "convert_ts = udf(lambda x: datetime.datetime.fromtimestamp(x / 1000.0), TimestampType())\n",
    "log_clean_copy = log_clean.withColumn(\"ts_converted\", convert_ts(log_clean.ts))\n",
    "\n",
    "# Method 2\n",
    "#from pyspark.sql import functions as F\n",
    "#log_clean.select(['ts', F.from_unixtime(F.col('ts')/1000)] ).show()"
   ]
  },
  {
   "cell_type": "code",
   "execution_count": 37,
   "metadata": {},
   "outputs": [
    {
     "data": {
      "text/plain": [
       "'\\nfrom datetime import datetime\\n\\nlog_clean_copy = log_clean\\n\\n@udf(t.StringType())\\ndef get_datetime(ts):\\n    return datetime.fromtimestamp(ts / 1000.0).strftime(\\'%Y-%m-%d %H:%M:%S\\')\\n\\nlog_clean_copy = log_clean_copy.withColumn(\"current_ts\", get_datetime(\"ts\"))\\n'"
      ]
     },
     "execution_count": 37,
     "metadata": {},
     "output_type": "execute_result"
    }
   ],
   "source": [
    "# Method 3\n",
    "'''\n",
    "from datetime import datetime\n",
    "\n",
    "log_clean_copy = log_clean\n",
    "\n",
    "@udf(t.StringType())\n",
    "def get_datetime(ts):\n",
    "    return datetime.fromtimestamp(ts / 1000.0).strftime('%Y-%m-%d %H:%M:%S')\n",
    "\n",
    "log_clean_copy = log_clean_copy.withColumn(\"current_ts\", get_datetime(\"ts\"))\n",
    "'''"
   ]
  },
  {
   "cell_type": "code",
   "execution_count": 38,
   "metadata": {},
   "outputs": [],
   "source": [
    "log_clean = log_clean_copy"
   ]
  },
  {
   "cell_type": "markdown",
   "metadata": {},
   "source": [
    "### Test"
   ]
  },
  {
   "cell_type": "code",
   "execution_count": 39,
   "metadata": {},
   "outputs": [
    {
     "name": "stdout",
     "output_type": "stream",
     "text": [
      "+-------------+--------------------+\n",
      "|           ts|        ts_converted|\n",
      "+-------------+--------------------+\n",
      "|1542241826796|2018-11-15 00:30:...|\n",
      "|1542242481796|2018-11-15 00:41:...|\n",
      "|1542242741796|2018-11-15 00:45:...|\n",
      "|1542253449796|2018-11-15 03:44:...|\n",
      "|1542260935796|2018-11-15 05:48:...|\n",
      "+-------------+--------------------+\n",
      "only showing top 5 rows\n",
      "\n"
     ]
    }
   ],
   "source": [
    "log_clean.select(['ts', 'ts_converted']).show(5)"
   ]
  },
  {
   "cell_type": "markdown",
   "metadata": {},
   "source": [
    "### Issue 3 : In log_df, convert registration from double to long\n",
    "### Define\n",
    "log_df : Convert registration from double to long\n",
    "\n",
    "### Code"
   ]
  },
  {
   "cell_type": "code",
   "execution_count": 40,
   "metadata": {},
   "outputs": [
    {
     "name": "stdout",
     "output_type": "stream",
     "text": [
      "root\n",
      " |-- artist: string (nullable = true)\n",
      " |-- auth: string (nullable = true)\n",
      " |-- firstName: string (nullable = true)\n",
      " |-- gender: string (nullable = true)\n",
      " |-- itemInSession: long (nullable = true)\n",
      " |-- lastName: string (nullable = true)\n",
      " |-- length: double (nullable = true)\n",
      " |-- level: string (nullable = true)\n",
      " |-- location: string (nullable = true)\n",
      " |-- method: string (nullable = true)\n",
      " |-- page: string (nullable = true)\n",
      " |-- registration: double (nullable = true)\n",
      " |-- sessionId: long (nullable = true)\n",
      " |-- song: string (nullable = true)\n",
      " |-- status: long (nullable = true)\n",
      " |-- ts: long (nullable = true)\n",
      " |-- userAgent: string (nullable = true)\n",
      " |-- userId: string (nullable = true)\n",
      " |-- ts_converted: timestamp (nullable = true)\n",
      "\n"
     ]
    }
   ],
   "source": [
    "log_clean.printSchema()"
   ]
  },
  {
   "cell_type": "code",
   "execution_count": 41,
   "metadata": {},
   "outputs": [
    {
     "name": "stdout",
     "output_type": "stream",
     "text": [
      "+-----------------+\n",
      "|registration     |\n",
      "+-----------------+\n",
      "|1.541016707796E12|\n",
      "|1.541016707796E12|\n",
      "+-----------------+\n",
      "only showing top 2 rows\n",
      "\n"
     ]
    }
   ],
   "source": [
    "log_clean.select('registration').show(2, truncate=False)"
   ]
  },
  {
   "cell_type": "code",
   "execution_count": 42,
   "metadata": {},
   "outputs": [],
   "source": [
    "log_clean_copy = log_clean.withColumn(\"registration_converted\", log_clean.registration.cast(LongType()) )"
   ]
  },
  {
   "cell_type": "code",
   "execution_count": 43,
   "metadata": {},
   "outputs": [],
   "source": [
    "log_clean = log_clean_copy"
   ]
  },
  {
   "cell_type": "markdown",
   "metadata": {},
   "source": [
    "### Test"
   ]
  },
  {
   "cell_type": "code",
   "execution_count": 44,
   "metadata": {},
   "outputs": [
    {
     "name": "stdout",
     "output_type": "stream",
     "text": [
      "+-----------------+----------------------+\n",
      "|     registration|registration_converted|\n",
      "+-----------------+----------------------+\n",
      "|1.541016707796E12|         1541016707796|\n",
      "|1.541016707796E12|         1541016707796|\n",
      "|1.541016707796E12|         1541016707796|\n",
      "|1.540492941796E12|         1540492941796|\n",
      "|1.540794356796E12|         1540794356796|\n",
      "+-----------------+----------------------+\n",
      "only showing top 5 rows\n",
      "\n"
     ]
    }
   ],
   "source": [
    "log_clean.select(['registration', 'registration_converted']).show(5)"
   ]
  },
  {
   "cell_type": "code",
   "execution_count": 45,
   "metadata": {},
   "outputs": [
    {
     "name": "stdout",
     "output_type": "stream",
     "text": [
      "root\n",
      " |-- artist: string (nullable = true)\n",
      " |-- auth: string (nullable = true)\n",
      " |-- firstName: string (nullable = true)\n",
      " |-- gender: string (nullable = true)\n",
      " |-- itemInSession: long (nullable = true)\n",
      " |-- lastName: string (nullable = true)\n",
      " |-- length: double (nullable = true)\n",
      " |-- level: string (nullable = true)\n",
      " |-- location: string (nullable = true)\n",
      " |-- method: string (nullable = true)\n",
      " |-- page: string (nullable = true)\n",
      " |-- registration: double (nullable = true)\n",
      " |-- sessionId: long (nullable = true)\n",
      " |-- song: string (nullable = true)\n",
      " |-- status: long (nullable = true)\n",
      " |-- ts: long (nullable = true)\n",
      " |-- userAgent: string (nullable = true)\n",
      " |-- userId: string (nullable = true)\n",
      " |-- ts_converted: timestamp (nullable = true)\n",
      " |-- registration_converted: long (nullable = true)\n",
      "\n"
     ]
    }
   ],
   "source": [
    "log_clean.printSchema()"
   ]
  },
  {
   "cell_type": "markdown",
   "metadata": {},
   "source": [
    "### Issue 4 : Replace artist_latitude & artist_longitude null with 0\n",
    "### Define\n",
    "song_df : Replace artist_latitude & artist_longitude null with 0\n",
    "    \n",
    "### Code"
   ]
  },
  {
   "cell_type": "code",
   "execution_count": 46,
   "metadata": {},
   "outputs": [],
   "source": [
    "song_clean_copy = song_clean"
   ]
  },
  {
   "cell_type": "code",
   "execution_count": 47,
   "metadata": {},
   "outputs": [],
   "source": [
    "song_clean_copy = song_clean_copy.fillna({'artist_latitude':0})\n",
    "song_clean_copy = song_clean_copy.fillna({'artist_longitude':0})"
   ]
  },
  {
   "cell_type": "markdown",
   "metadata": {},
   "source": [
    "### Test"
   ]
  },
  {
   "cell_type": "code",
   "execution_count": 48,
   "metadata": {},
   "outputs": [
    {
     "name": "stdout",
     "output_type": "stream",
     "text": [
      "+---------+------------------+---------------+----------------+---------------+--------------------+------------------+--------------------+---------+----+\n",
      "|num_songs|         artist_id|artist_latitude|artist_longitude|artist_location|         artist_name|           song_id|               title| duration|year|\n",
      "+---------+------------------+---------------+----------------+---------------+--------------------+------------------+--------------------+---------+----+\n",
      "|        1|ARDR4AC1187FB371A1|            0.0|             0.0|               |Montserrat Caball...|SOBAYLL12A8C138AF9|Sono andati? Fing...|511.16364|   0|\n",
      "|        1|AREBBGV1187FB523D2|            0.0|             0.0|    Houston, TX|Mike Jones (Featu...|SOOLYAZ12A6701F4A6|Laws Patrolling (...|173.66159|   0|\n",
      "+---------+------------------+---------------+----------------+---------------+--------------------+------------------+--------------------+---------+----+\n",
      "only showing top 2 rows\n",
      "\n",
      "+---------+------------------+---------------+----------------+---------------+--------------------+------------------+--------------------+---------+----+\n",
      "|num_songs|         artist_id|artist_latitude|artist_longitude|artist_location|         artist_name|           song_id|               title| duration|year|\n",
      "+---------+------------------+---------------+----------------+---------------+--------------------+------------------+--------------------+---------+----+\n",
      "|        1|ARDR4AC1187FB371A1|            0.0|             0.0|               |Montserrat Caball...|SOBAYLL12A8C138AF9|Sono andati? Fing...|511.16364|   0|\n",
      "|        1|AREBBGV1187FB523D2|            0.0|             0.0|    Houston, TX|Mike Jones (Featu...|SOOLYAZ12A6701F4A6|Laws Patrolling (...|173.66159|   0|\n",
      "+---------+------------------+---------------+----------------+---------------+--------------------+------------------+--------------------+---------+----+\n",
      "only showing top 2 rows\n",
      "\n"
     ]
    }
   ],
   "source": [
    "#song_clean_copy.select(\"artist_latitude\").dropDuplicates().show()\n",
    "song_clean_copy.filter(song_clean_copy.artist_latitude == 0).show(2)\n",
    "song_clean_copy.filter(song_clean_copy.artist_longitude == 0).show(2)"
   ]
  },
  {
   "cell_type": "code",
   "execution_count": null,
   "metadata": {},
   "outputs": [],
   "source": []
  },
  {
   "cell_type": "code",
   "execution_count": null,
   "metadata": {},
   "outputs": [],
   "source": []
  },
  {
   "cell_type": "markdown",
   "metadata": {},
   "source": [
    "### Issue 5 : Create Fact & Dimension tables\n",
    "### Define\n",
    "* create songplays table with columns songplay_id, start_time, user_id, level, song_id, artist_id, session_id, location, user_agent\n",
    "* create users table with columns user_id, first_name, last_name, gender, level\n",
    "* create songs table with columns song_id, title, artist_id, year, duration\n",
    "* create artists table with columns artist_id, name, location, lattitude, longitude\n",
    "* create time table with columns start_time, hour, day, week, month, year, weekday\n",
    "\n",
    "### Code"
   ]
  },
  {
   "cell_type": "code",
   "execution_count": 49,
   "metadata": {},
   "outputs": [
    {
     "name": "stdout",
     "output_type": "stream",
     "text": [
      "+--------------------+---+-----+----+----+------+------+\n",
      "|        ts_converted|day|month|year|hour|minute|second|\n",
      "+--------------------+---+-----+----+----+------+------+\n",
      "|2018-11-15 00:30:...| 15|   11|2018|   0|    30|    26|\n",
      "|2018-11-15 00:41:...| 15|   11|2018|   0|    41|    21|\n",
      "|2018-11-15 00:45:...| 15|   11|2018|   0|    45|    41|\n",
      "|2018-11-15 03:44:...| 15|   11|2018|   3|    44|     9|\n",
      "|2018-11-15 05:48:...| 15|   11|2018|   5|    48|    55|\n",
      "+--------------------+---+-----+----+----+------+------+\n",
      "only showing top 5 rows\n",
      "\n"
     ]
    }
   ],
   "source": [
    "# Creating time table with columns start_time, hour, day, week, month, year, weekday\n",
    "log_clean.select(['ts_converted'\n",
    "                  , dayofmonth(\"ts_converted\").alias('day')\n",
    "                  , month(\"ts_converted\").alias('month')\n",
    "                  , year(\"ts_converted\").alias('year')\n",
    "                  , hour(\"ts_converted\").alias('hour')\n",
    "                  , minute(\"ts_converted\").alias('minute')\n",
    "                  , second(\"ts_converted\").alias('second')\n",
    "                 ]).show(5)"
   ]
  },
  {
   "cell_type": "code",
   "execution_count": 50,
   "metadata": {},
   "outputs": [
    {
     "name": "stdout",
     "output_type": "stream",
     "text": [
      "+--------------------+---+-----+----+----+------+------+----+-------+\n",
      "|          start_time|day|month|year|hour|minute|second|week|weekday|\n",
      "+--------------------+---+-----+----+----+------+------+----+-------+\n",
      "|2018-11-15 11:10:...| 15|   11|2018|  11|    10|     1|  46|      5|\n",
      "|2018-11-15 16:49:...| 15|   11|2018|  16|    49|    50|  46|      5|\n",
      "|2018-11-21 20:55:...| 21|   11|2018|  20|    55|     9|  47|      4|\n",
      "|2018-11-14 11:45:...| 14|   11|2018|  11|    45|    58|  46|      4|\n",
      "|2018-11-28 15:22:...| 28|   11|2018|  15|    22|    39|  48|      4|\n",
      "+--------------------+---+-----+----+----+------+------+----+-------+\n",
      "only showing top 5 rows\n",
      "\n"
     ]
    }
   ],
   "source": [
    "time_table = log_clean.select(['ts_converted'])\\\n",
    "                    .withColumnRenamed('ts_converted','start_time') \n",
    "\n",
    "time_table = time_table.withColumn('day', F.dayofmonth('start_time')) \\\n",
    "                      .withColumn('month', F.month('start_time')) \\\n",
    "                      .withColumn('year', F.year('start_time')) \\\n",
    "                      .withColumn('hour', F.hour('start_time')) \\\n",
    "                      .withColumn('minute', F.minute('start_time')) \\\n",
    "                      .withColumn('second', F.second('start_time')) \\\n",
    "                      .withColumn('week', F.weekofyear('start_time')) \\\n",
    "                      .withColumn('weekday', F.dayofweek('start_time')).dropDuplicates()\n",
    "\n",
    "time_table.show(5)"
   ]
  },
  {
   "cell_type": "code",
   "execution_count": 51,
   "metadata": {},
   "outputs": [
    {
     "name": "stdout",
     "output_type": "stream",
     "text": [
      "+-----------+---------+---------+------+-------------+--------+---------+-----+--------------------+------+--------+-----------------+---------+--------------------+------+-------------+--------------------+------+--------------------+----------------------+\n",
      "|     artist|     auth|firstName|gender|itemInSession|lastName|   length|level|            location|method|    page|     registration|sessionId|                song|status|           ts|           userAgent|userId|        ts_converted|registration_converted|\n",
      "+-----------+---------+---------+------+-------------+--------+---------+-----+--------------------+------+--------+-----------------+---------+--------------------+------+-------------+--------------------+------+--------------------+----------------------+\n",
      "|   Harmonia|Logged In|     Ryan|     M|            0|   Smith|655.77751| free|San Jose-Sunnyval...|   PUT|NextSong|1.541016707796E12|      583|       Sehr kosmisch|   200|1542241826796|\"Mozilla/5.0 (X11...|    26|2018-11-15 00:30:...|         1541016707796|\n",
      "|The Prodigy|Logged In|     Ryan|     M|            1|   Smith|260.07465| free|San Jose-Sunnyval...|   PUT|NextSong|1.541016707796E12|      583|     The Big Gundown|   200|1542242481796|\"Mozilla/5.0 (X11...|    26|2018-11-15 00:41:...|         1541016707796|\n",
      "|      Train|Logged In|     Ryan|     M|            2|   Smith|205.45261| free|San Jose-Sunnyval...|   PUT|NextSong|1.541016707796E12|      583|            Marry Me|   200|1542242741796|\"Mozilla/5.0 (X11...|    26|2018-11-15 00:45:...|         1541016707796|\n",
      "|Sony Wonder|Logged In|   Samuel|     M|            0|Gonzalez|218.06975| free|Houston-The Woodl...|   PUT|NextSong|1.540492941796E12|      597|           Blackbird|   200|1542253449796|\"Mozilla/5.0 (Mac...|    61|2018-11-15 03:44:...|         1540492941796|\n",
      "|  Van Halen|Logged In|    Tegan|     F|            2|  Levine|289.38404| paid|Portland-South Po...|   PUT|NextSong|1.540794356796E12|      602|Best Of Both Worl...|   200|1542260935796|\"Mozilla/5.0 (Mac...|    80|2018-11-15 05:48:...|         1540794356796|\n",
      "+-----------+---------+---------+------+-------------+--------+---------+-----+--------------------+------+--------+-----------------+---------+--------------------+------+-------------+--------------------+------+--------------------+----------------------+\n",
      "only showing top 5 rows\n",
      "\n"
     ]
    }
   ],
   "source": [
    "log_clean.show(5)"
   ]
  },
  {
   "cell_type": "code",
   "execution_count": 52,
   "metadata": {},
   "outputs": [
    {
     "name": "stdout",
     "output_type": "stream",
     "text": [
      "+-------+----------+---------+------+-----+\n",
      "|user_id|first_name|last_name|gender|level|\n",
      "+-------+----------+---------+------+-----+\n",
      "|     26|      Ryan|    Smith|     M| free|\n",
      "|      7|    Adelyn|   Jordan|     F| free|\n",
      "|     71|    Ayleen|     Wise|     F| free|\n",
      "|     81|    Sienna|    Colon|     F| free|\n",
      "|     87|    Dustin|      Lee|     M| free|\n",
      "+-------+----------+---------+------+-----+\n",
      "only showing top 5 rows\n",
      "\n"
     ]
    }
   ],
   "source": [
    "# creating users table with columns user_id, first_name, last_name, gender, level\n",
    "users_table = log_clean.select(['userId', 'firstName', 'lastName', 'gender', 'level'])\\\n",
    "        .withColumnRenamed('userId', 'user_id')\\\n",
    "        .withColumnRenamed('firstName', 'first_name')\\\n",
    "        .withColumnRenamed('lastName', 'last_name').dropDuplicates()\n",
    "\n",
    "users_table.show(5)"
   ]
  },
  {
   "cell_type": "code",
   "execution_count": 53,
   "metadata": {},
   "outputs": [
    {
     "name": "stdout",
     "output_type": "stream",
     "text": [
      "root\n",
      " |-- artist: string (nullable = true)\n",
      " |-- auth: string (nullable = true)\n",
      " |-- firstName: string (nullable = true)\n",
      " |-- gender: string (nullable = true)\n",
      " |-- itemInSession: long (nullable = true)\n",
      " |-- lastName: string (nullable = true)\n",
      " |-- length: double (nullable = true)\n",
      " |-- level: string (nullable = true)\n",
      " |-- location: string (nullable = true)\n",
      " |-- method: string (nullable = true)\n",
      " |-- page: string (nullable = true)\n",
      " |-- registration: double (nullable = true)\n",
      " |-- sessionId: long (nullable = true)\n",
      " |-- song: string (nullable = true)\n",
      " |-- status: long (nullable = true)\n",
      " |-- ts: long (nullable = true)\n",
      " |-- userAgent: string (nullable = true)\n",
      " |-- userId: string (nullable = true)\n",
      " |-- ts_converted: timestamp (nullable = true)\n",
      " |-- registration_converted: long (nullable = true)\n",
      "\n"
     ]
    }
   ],
   "source": [
    "log_clean.printSchema()"
   ]
  },
  {
   "cell_type": "code",
   "execution_count": 54,
   "metadata": {},
   "outputs": [
    {
     "name": "stdout",
     "output_type": "stream",
     "text": [
      "+-----------+---------+---------+------+-------------+--------+---------+-----+--------------------+------+--------+-----------------+---------+---------------+------+-------------+--------------------+------+--------------------+----------------------+\n",
      "|     artist|     auth|firstName|gender|itemInSession|lastName|   length|level|            location|method|    page|     registration|sessionId|           song|status|           ts|           userAgent|userId|        ts_converted|registration_converted|\n",
      "+-----------+---------+---------+------+-------------+--------+---------+-----+--------------------+------+--------+-----------------+---------+---------------+------+-------------+--------------------+------+--------------------+----------------------+\n",
      "|   Harmonia|Logged In|     Ryan|     M|            0|   Smith|655.77751| free|San Jose-Sunnyval...|   PUT|NextSong|1.541016707796E12|      583|  Sehr kosmisch|   200|1542241826796|\"Mozilla/5.0 (X11...|    26|2018-11-15 00:30:...|         1541016707796|\n",
      "|The Prodigy|Logged In|     Ryan|     M|            1|   Smith|260.07465| free|San Jose-Sunnyval...|   PUT|NextSong|1.541016707796E12|      583|The Big Gundown|   200|1542242481796|\"Mozilla/5.0 (X11...|    26|2018-11-15 00:41:...|         1541016707796|\n",
      "+-----------+---------+---------+------+-------------+--------+---------+-----+--------------------+------+--------+-----------------+---------+---------------+------+-------------+--------------------+------+--------------------+----------------------+\n",
      "only showing top 2 rows\n",
      "\n"
     ]
    }
   ],
   "source": [
    "log_clean.show(2)"
   ]
  },
  {
   "cell_type": "code",
   "execution_count": 63,
   "metadata": {},
   "outputs": [
    {
     "name": "stdout",
     "output_type": "stream",
     "text": [
      "+--------------------+\n",
      "|              artist|\n",
      "+--------------------+\n",
      "|            Harmonia|\n",
      "|         The Prodigy|\n",
      "|               Train|\n",
      "|         Sony Wonder|\n",
      "|           Van Halen|\n",
      "|           Magic Sam|\n",
      "|Edward Sharpe & T...|\n",
      "|Usher featuring w...|\n",
      "|         Helen Reddy|\n",
      "|        Taylor Swift|\n",
      "|           Sean Paul|\n",
      "|         Soundgarden|\n",
      "|         The Killers|\n",
      "|       Amy Winehouse|\n",
      "|      Steve Anderson|\n",
      "|          Rob Zombie|\n",
      "|  Deadmau5 & Kaskade|\n",
      "|        Shania Twain|\n",
      "|      Los Campesinos|\n",
      "|            Ill Nino|\n",
      "+--------------------+\n",
      "only showing top 20 rows\n",
      "\n"
     ]
    }
   ],
   "source": [
    "log_clean.select('artist').show(20)"
   ]
  },
  {
   "cell_type": "code",
   "execution_count": 55,
   "metadata": {},
   "outputs": [
    {
     "name": "stdout",
     "output_type": "stream",
     "text": [
      "root\n",
      " |-- num_songs: integer (nullable = true)\n",
      " |-- artist_id: string (nullable = true)\n",
      " |-- artist_latitude: float (nullable = true)\n",
      " |-- artist_longitude: float (nullable = true)\n",
      " |-- artist_location: string (nullable = true)\n",
      " |-- artist_name: string (nullable = true)\n",
      " |-- song_id: string (nullable = true)\n",
      " |-- title: string (nullable = true)\n",
      " |-- duration: float (nullable = true)\n",
      " |-- year: integer (nullable = true)\n",
      "\n"
     ]
    }
   ],
   "source": [
    "song_clean.printSchema()"
   ]
  },
  {
   "cell_type": "code",
   "execution_count": 56,
   "metadata": {},
   "outputs": [
    {
     "name": "stdout",
     "output_type": "stream",
     "text": [
      "+------------------+--------------------+------------------+----+---------+\n",
      "|           song_id|               title|         artist_id|year| duration|\n",
      "+------------------+--------------------+------------------+----+---------+\n",
      "|SOQVMXR12A81C21483|         Salt In NYC|ARKULSX1187FB45F84|   0|424.12363|\n",
      "|SOYMRWW12A6D4FAB14|The Moon And I (O...|ARKFYS91187B98E58F|   0| 267.7024|\n",
      "|SOMZWCG12A8C13C480|    I Didn't Mean To|ARD7TVE1187B99BFB1|   0| 218.9318|\n",
      "|SOZHPGD12A8C1394FE|     Baby Come To Me|AR9AWNF1187B9AB0B4|   0|236.93016|\n",
      "|SOFSOCN12A8C143F5D|      Face the Ashes|ARXR32B1187FB57099|2007|209.60608|\n",
      "+------------------+--------------------+------------------+----+---------+\n",
      "only showing top 5 rows\n",
      "\n"
     ]
    }
   ],
   "source": [
    "# creating songs table with columns song_id, title, artist_id, year, duration\n",
    "songs_table = song_clean.select(['song_id', 'title', 'artist_id', 'year', 'duration']).dropDuplicates()\n",
    "songs_table.show(5)"
   ]
  },
  {
   "cell_type": "code",
   "execution_count": 57,
   "metadata": {},
   "outputs": [
    {
     "name": "stdout",
     "output_type": "stream",
     "text": [
      "+------------------+---------------+--------------------+--------+---------+\n",
      "|         artist_id|           name|            location|latitude|longitude|\n",
      "+------------------+---------------+--------------------+--------+---------+\n",
      "|ARXR32B1187FB57099|            Gob|                    |    null|     null|\n",
      "|AROGWRA122988FEE45|Christos Dantis|                    |    null|     null|\n",
      "|AREDL271187FB40F44|   Soul Mekanik|                    |    null|     null|\n",
      "|AROUOZZ1187B9ABE51|    Willie Bobo|New York, NY [Spa...|40.79195|-73.94512|\n",
      "|ARGSAFR1269FB35070|     Blingtones|                    |    null|     null|\n",
      "+------------------+---------------+--------------------+--------+---------+\n",
      "only showing top 5 rows\n",
      "\n"
     ]
    }
   ],
   "source": [
    "# creating artists table with columns artist_id, name, location, latitude, longitude\n",
    "artists_table = song_clean.select(['artist_id', 'artist_name', 'artist_location', 'artist_latitude', 'artist_longitude'])\\\n",
    "                .withColumnRenamed('artist_name','name') \\\n",
    "                .withColumnRenamed('artist_location','location') \\\n",
    "                .withColumnRenamed('artist_latitude','latitude') \\\n",
    "                .withColumnRenamed('artist_longitude','longitude').dropDuplicates()\n",
    "\n",
    "artists_table.show(5)"
   ]
  },
  {
   "cell_type": "code",
   "execution_count": 60,
   "metadata": {},
   "outputs": [],
   "source": [
    "# Creating songplays table with columns songplay_id, start_time, user_id, level, song_id, artist_id, session_id, location, user_agent\n",
    "songs_table.createOrReplaceTempView('songs')\n",
    "users_table.createOrReplaceTempView('users')\n",
    "artists_table.createOrReplaceTempView('artists')\n",
    "time_table.createOrReplaceTempView('time')\n",
    "log_clean.createOrReplaceTempView('log_clean')\n",
    "song_clean.createOrReplaceTempView('song_clean')"
   ]
  },
  {
   "cell_type": "code",
   "execution_count": 89,
   "metadata": {},
   "outputs": [],
   "source": [
    "songplays_table = spark.sql(\"\"\"\n",
    "select  t.start_time, l.userId as user_id, l.level, s.song_id, a.artist_id, l.sessionId as session_id, l.location, l.userAgent as user_agent\n",
    ", t.year, t.month\n",
    "from log_clean l join time t\n",
    "on l.ts_converted = t.start_time\n",
    "join artists a\n",
    "on l.artist = a.name\n",
    "join songs s\n",
    "on l.song = s.title\n",
    "\"\"\")"
   ]
  },
  {
   "cell_type": "code",
   "execution_count": 90,
   "metadata": {},
   "outputs": [],
   "source": [
    "# A column that generates monotonically increasing 64-bit integers.\n",
    "# The generated ID is guaranteed to be monotonically increasing and unique, but not consecutive.\n",
    "\n",
    "# create a monotonically increasing id \n",
    "songplays_table = songplays_table.withColumn(\"idx\", F.monotonically_increasing_id())\n",
    "\n",
    "# then since the id is increasing but not consecutive, it means you can sort by it, so you can use the `row_number`\n",
    "songplays_table.createOrReplaceTempView('songplays_table')\n",
    "songplays_table = spark.sql(\"\"\"\n",
    "select row_number() over (order by \"idx\") as num, \n",
    "start_time, user_id, level, song_id, artist_id, session_id, location, user_agent, year, month\n",
    "from songplays_table\n",
    "\"\"\")"
   ]
  },
  {
   "cell_type": "code",
   "execution_count": 91,
   "metadata": {},
   "outputs": [
    {
     "data": {
      "text/plain": [
       "1"
      ]
     },
     "execution_count": 91,
     "metadata": {},
     "output_type": "execute_result"
    }
   ],
   "source": [
    "songplays_table.count()"
   ]
  },
  {
   "cell_type": "code",
   "execution_count": 92,
   "metadata": {},
   "outputs": [
    {
     "name": "stdout",
     "output_type": "stream",
     "text": [
      "+---+--------------------+-------+-----+------------------+------------------+----------+--------------------+--------------------+----+-----+\n",
      "|num|          start_time|user_id|level|           song_id|         artist_id|session_id|            location|          user_agent|year|month|\n",
      "+---+--------------------+-------+-----+------------------+------------------+----------+--------------------+--------------------+----+-----+\n",
      "|  1|2018-11-21 21:56:...|     15| paid|SOZCTXZ12AB0182364|AR5KOSW1187FB35FF4|       818|Chicago-Napervill...|\"Mozilla/5.0 (X11...|2018|   11|\n",
      "+---+--------------------+-------+-----+------------------+------------------+----------+--------------------+--------------------+----+-----+\n",
      "\n"
     ]
    }
   ],
   "source": [
    "songplays_table.show()"
   ]
  },
  {
   "cell_type": "markdown",
   "metadata": {},
   "source": [
    "### Saving table files"
   ]
  },
  {
   "cell_type": "code",
   "execution_count": null,
   "metadata": {},
   "outputs": [],
   "source": [
    "# Write DF to Spark parquet file (partitioned by year and artist_id)\n",
    "songs_table.write.partitionBy(\"year\", \"artist_id\").parquet(songs_table_path)\n",
    "\n",
    "songplays_table.write.parquet(f'{output_data}/songplays_table',\n",
    "                                  mode='overwrite',\n",
    "                                  partitionBy=['year', 'month'])\n",
    "\n",
    "# write songplays table to parquet files partitioned by year and month\n",
    "songplays_table.write.parquet(output_data+'songplays/'+'songplays.parquet', partitionBy=['year','month'])"
   ]
  },
  {
   "cell_type": "code",
   "execution_count": 95,
   "metadata": {},
   "outputs": [],
   "source": [
    "# Requirement is to partition by year & artist, since songs_table contains artist_id, so instead of artist_name, artist_id is used.\n",
    "songs_table.write.parquet('./output/songs.parquet', mode='overwrite', partitionBy=['year', 'artist_id'])"
   ]
  },
  {
   "cell_type": "code",
   "execution_count": 96,
   "metadata": {},
   "outputs": [],
   "source": [
    "# Requirement is to partition by year & month\n",
    "time_table.write.parquet('./output/time.parquet', mode='overwrite', partitionBy=['year', 'month'])"
   ]
  },
  {
   "cell_type": "code",
   "execution_count": 97,
   "metadata": {},
   "outputs": [],
   "source": [
    "# Requirement is to partition by year & month\n",
    "songplays_table.write.parquet('./output/songplays.parquet', mode='overwrite', partitionBy=['year', 'month'])"
   ]
  },
  {
   "cell_type": "code",
   "execution_count": 1,
   "metadata": {},
   "outputs": [
    {
     "ename": "NameError",
     "evalue": "name 'artists_table' is not defined",
     "output_type": "error",
     "traceback": [
      "\u001b[0;31m---------------------------------------------------------------------------\u001b[0m",
      "\u001b[0;31mNameError\u001b[0m                                 Traceback (most recent call last)",
      "\u001b[0;32m<ipython-input-1-1ee6ca1e0e35>\u001b[0m in \u001b[0;36m<module>\u001b[0;34m()\u001b[0m\n\u001b[0;32m----> 1\u001b[0;31m \u001b[0martists_table\u001b[0m\u001b[0;34m.\u001b[0m\u001b[0mwrite\u001b[0m\u001b[0;34m.\u001b[0m\u001b[0mparquet\u001b[0m\u001b[0;34m(\u001b[0m\u001b[0;34m'./output/artists.parquet'\u001b[0m\u001b[0;34m,\u001b[0m \u001b[0mmode\u001b[0m\u001b[0;34m=\u001b[0m\u001b[0;34m'overwrite'\u001b[0m\u001b[0;34m)\u001b[0m\u001b[0;34m\u001b[0m\u001b[0m\n\u001b[0m\u001b[1;32m      2\u001b[0m \u001b[0musers_table\u001b[0m\u001b[0;34m.\u001b[0m\u001b[0mwrite\u001b[0m\u001b[0;34m.\u001b[0m\u001b[0mparquet\u001b[0m\u001b[0;34m(\u001b[0m\u001b[0;34m'./output/users.parquet'\u001b[0m\u001b[0;34m,\u001b[0m \u001b[0mmode\u001b[0m\u001b[0;34m=\u001b[0m\u001b[0;34m'overwrite'\u001b[0m\u001b[0;34m)\u001b[0m\u001b[0;34m\u001b[0m\u001b[0m\n",
      "\u001b[0;31mNameError\u001b[0m: name 'artists_table' is not defined"
     ]
    }
   ],
   "source": [
    "artists_table.write.parquet('./output/artists.parquet', mode='overwrite')\n",
    "users_table.write.parquet('./output/users.parquet', mode='overwrite')"
   ]
  },
  {
   "cell_type": "code",
   "execution_count": 10,
   "metadata": {},
   "outputs": [
    {
     "name": "stdout",
     "output_type": "stream",
     "text": [
      "hello\n"
     ]
    }
   ],
   "source": [
    "print('hello')"
   ]
  },
  {
   "cell_type": "code",
   "execution_count": null,
   "metadata": {},
   "outputs": [],
   "source": []
  },
  {
   "cell_type": "code",
   "execution_count": null,
   "metadata": {},
   "outputs": [],
   "source": []
  },
  {
   "cell_type": "code",
   "execution_count": null,
   "metadata": {},
   "outputs": [],
   "source": []
  }
 ],
 "metadata": {
  "kernelspec": {
   "display_name": "Python 3",
   "language": "python",
   "name": "python3"
  },
  "language_info": {
   "codemirror_mode": {
    "name": "ipython",
    "version": 3
   },
   "file_extension": ".py",
   "mimetype": "text/x-python",
   "name": "python",
   "nbconvert_exporter": "python",
   "pygments_lexer": "ipython3",
   "version": "3.6.3"
  }
 },
 "nbformat": 4,
 "nbformat_minor": 4
}
