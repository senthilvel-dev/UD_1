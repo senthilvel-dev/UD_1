{
 "cells": [
  {
   "cell_type": "markdown",
   "metadata": {},
   "source": [
    "### This Jupyter Notebook is used for testing geopy API"
   ]
  },
  {
   "cell_type": "code",
   "execution_count": 1,
   "metadata": {},
   "outputs": [
    {
     "name": "stdout",
     "output_type": "stream",
     "text": [
      "Collecting geopy\n",
      "\u001b[?25l  Downloading https://files.pythonhosted.org/packages/80/93/d384479da0ead712bdaf697a8399c13a9a89bd856ada5a27d462fb45e47b/geopy-1.20.0-py2.py3-none-any.whl (100kB)\n",
      "\u001b[K    100% |████████████████████████████████| 102kB 3.3MB/s a 0:00:011\n",
      "\u001b[?25hCollecting geographiclib<2,>=1.49 (from geopy)\n",
      "  Downloading https://files.pythonhosted.org/packages/8b/62/26ec95a98ba64299163199e95ad1b0e34ad3f4e176e221c40245f211e425/geographiclib-1.50-py3-none-any.whl\n",
      "Installing collected packages: geographiclib, geopy\n",
      "Successfully installed geographiclib-1.50 geopy-1.20.0\n"
     ]
    }
   ],
   "source": [
    "import numpy as np\n",
    "import sys\n",
    "!{sys.executable} -m pip install geopy"
   ]
  },
  {
   "cell_type": "code",
   "execution_count": 2,
   "metadata": {},
   "outputs": [],
   "source": [
    "from geopy.geocoders import Nominatim"
   ]
  },
  {
   "cell_type": "markdown",
   "metadata": {},
   "source": [
    "## Find Lats & Long using address"
   ]
  },
  {
   "cell_type": "code",
   "execution_count": 3,
   "metadata": {},
   "outputs": [
    {
     "name": "stdout",
     "output_type": "stream",
     "text": [
      "St. Joseph, Buchanan County, Missouri, USA\n",
      "39.7686055\n",
      "-94.8466322\n"
     ]
    }
   ],
   "source": [
    "input = 'St. Joseph, MO'\n",
    "geolocator = Nominatim(user_agent=\"geopy-Testing\")\n",
    "location = geolocator.geocode(input,  language='en')\n",
    "print(location.address)\n",
    "print(location.latitude)\n",
    "print(location.longitude)"
   ]
  },
  {
   "cell_type": "code",
   "execution_count": 4,
   "metadata": {},
   "outputs": [],
   "source": [
    "def get_location_details(*argv):\n",
    "    \"\"\"\n",
    "    Summary line. \n",
    "    Get Location Details\n",
    "  \n",
    "    Parameters: \n",
    "    *argv : Variable arguments\n",
    "    if 1 argument, input is location name\n",
    "    if 2 argument, input is lats & long\n",
    "  \n",
    "    Returns: \n",
    "    None\n",
    "    \"\"\"        \n",
    "    geolocator = Nominatim(user_agent=\"geopy-Testing\")\n",
    "\n",
    "    if(len(argv) == 1):\n",
    "        location = geolocator.geocode(argv[0],  language='en')\n",
    "        if(location == None):\n",
    "            return None\n",
    "        lats = location.latitude\n",
    "        long = location.longitude\n",
    "        latslong = \"{}, {}\".format(lats, long)\n",
    "        \n",
    "    elif(len(argv) == 2):\n",
    "        for i, arg in enumerate(argv):\n",
    "            if(i==0):\n",
    "                lats = arg\n",
    "            else:\n",
    "                long = arg\n",
    "            \n",
    "        latslong = \"{}, {}\".format(lats, long)\n",
    "        \n",
    "    location = geolocator.reverse(latslong,  language='en')\n",
    "    if(location == None):\n",
    "        return None\n",
    "    \n",
    "    lats = location.latitude\n",
    "    long = location.longitude\n",
    "    geoData = location.raw\n",
    "    print(geoData)\n",
    "    loc_details = {}\n",
    "    loc_details['city'] = np.NaN if (geoData['address'].get('city') == None) else geoData['address'].get('city')\n",
    "    loc_details['state'] = np.NaN if (geoData['address'].get('state') == None) else geoData['address'].get('state')\n",
    "    loc_details['country'] = np.NaN if (geoData['address'].get('country') == None) else geoData['address'].get('country')\n",
    "    loc_details['lat'] = lats\n",
    "    loc_details['lon'] = long\n",
    "    loc_details['latslong'] = latslong\n",
    "    return loc_details\n"
   ]
  },
  {
   "cell_type": "code",
   "execution_count": null,
   "metadata": {},
   "outputs": [],
   "source": []
  },
  {
   "cell_type": "code",
   "execution_count": 5,
   "metadata": {},
   "outputs": [
    {
     "name": "stdout",
     "output_type": "stream",
     "text": [
      "Before : Latitude:39.7686055, Longitude:-94.8466322\n",
      "Raw : {'place_id': 184596674, 'licence': 'Data © OpenStreetMap contributors, ODbL 1.0. https://osm.org/copyright', 'osm_type': 'way', 'osm_id': 526006570, 'lat': '39.7686102', 'lon': '-94.8467038258343', 'display_name': 'Saint Joseph City Hall, 1100, Frederick Avenue, St. Joseph, Buchanan County, Missouri, 64501, USA', 'address': {'townhall': 'Saint Joseph City Hall', 'house_number': '1100', 'road': 'Frederick Avenue', 'city': 'St. Joseph', 'county': 'Buchanan County', 'state': 'Missouri', 'postcode': '64501', 'country': 'USA', 'country_code': 'us'}, 'boundingbox': ['39.7685008', '39.7687214', '-94.847066', '-94.8463415']}\n",
      "City:St. Joseph\n",
      "State:Missouri\n",
      "Country:USA\n",
      "After : Latitude:39.7686055, Longitude:-94.8466322\n"
     ]
    }
   ],
   "source": [
    "lats = location.latitude\n",
    "long = location.longitude\n",
    "print(\"Before : Latitude:{}, Longitude:{}\".format(lats, long))\n",
    "latslong = \"{}, {}\".format(lats, long)\n",
    "location = geolocator.reverse(latslong,  language='en')\n",
    "print('Raw : {}'.format(location.raw))\n",
    "geoData = location.raw\n",
    "city = geoData['address']['city']\n",
    "state = geoData['address']['state']\n",
    "country = geoData['address']['country']\n",
    "print(\"City:{}\".format(city))\n",
    "print(\"State:{}\".format(state))\n",
    "print(\"Country:{}\".format(country))\n",
    "print(\"After : Latitude:{}, Longitude:{}\".format(lats, long))"
   ]
  },
  {
   "cell_type": "code",
   "execution_count": 6,
   "metadata": {},
   "outputs": [
    {
     "name": "stdout",
     "output_type": "stream",
     "text": [
      "{'place_id': 184596674, 'licence': 'Data © OpenStreetMap contributors, ODbL 1.0. https://osm.org/copyright', 'osm_type': 'way', 'osm_id': 526006570, 'lat': '39.7686102', 'lon': '-94.8467038258343', 'display_name': 'Saint Joseph City Hall, 1100, Frederick Avenue, St. Joseph, Buchanan County, Missouri, 64501, USA', 'address': {'townhall': 'Saint Joseph City Hall', 'house_number': '1100', 'road': 'Frederick Avenue', 'city': 'St. Joseph', 'county': 'Buchanan County', 'state': 'Missouri', 'postcode': '64501', 'country': 'USA', 'country_code': 'us'}, 'boundingbox': ['39.7685008', '39.7687214', '-94.847066', '-94.8463415']}\n"
     ]
    }
   ],
   "source": [
    "print(geoData)"
   ]
  },
  {
   "cell_type": "code",
   "execution_count": 6,
   "metadata": {},
   "outputs": [
    {
     "name": "stdout",
     "output_type": "stream",
     "text": [
      "{'place_id': 184596674, 'licence': 'Data © OpenStreetMap contributors, ODbL 1.0. https://osm.org/copyright', 'osm_type': 'way', 'osm_id': 526006570, 'lat': '39.7686102', 'lon': '-94.8467038258343', 'display_name': 'Saint Joseph City Hall, 1100, Frederick Avenue, St. Joseph, Buchanan County, Missouri, 64501, USA', 'address': {'townhall': 'Saint Joseph City Hall', 'house_number': '1100', 'road': 'Frederick Avenue', 'city': 'St. Joseph', 'county': 'Buchanan County', 'state': 'Missouri', 'postcode': '64501', 'country': 'USA', 'country_code': 'us'}, 'boundingbox': ['39.7685008', '39.7687214', '-94.847066', '-94.8463415']}\n"
     ]
    }
   ],
   "source": [
    "print(location.raw)"
   ]
  },
  {
   "cell_type": "markdown",
   "metadata": {},
   "source": [
    "## Find address using Lats & Long"
   ]
  },
  {
   "cell_type": "code",
   "execution_count": 7,
   "metadata": {},
   "outputs": [
    {
     "name": "stdout",
     "output_type": "stream",
     "text": [
      "Woodair Estates, Ocean County, New Jersey, USA\n"
     ]
    }
   ],
   "source": [
    "#Reverse has more for information than geocode()\n",
    "location = geolocator.reverse(\"40.0757384, -74.4041622\",  language='en')\n",
    "print(location.address)"
   ]
  },
  {
   "cell_type": "code",
   "execution_count": 8,
   "metadata": {},
   "outputs": [
    {
     "name": "stdout",
     "output_type": "stream",
     "text": [
      "{'place_id': 497005, 'licence': 'Data © OpenStreetMap contributors, ODbL 1.0. https://osm.org/copyright', 'osm_type': 'node', 'osm_id': 158851303, 'lat': '40.0884475', 'lon': '-74.3995939', 'display_name': 'Woodair Estates, Ocean County, New Jersey, USA', 'address': {'hamlet': 'Woodair Estates', 'county': 'Ocean County', 'state': 'New Jersey', 'country': 'USA', 'country_code': 'us'}, 'boundingbox': ['40.0484475', '40.1284475', '-74.4395939', '-74.3595939']}\n"
     ]
    }
   ],
   "source": [
    "print(location.raw)"
   ]
  },
  {
   "cell_type": "code",
   "execution_count": 12,
   "metadata": {},
   "outputs": [
    {
     "name": "stdout",
     "output_type": "stream",
     "text": [
      "{'place_id': 497005, 'licence': 'Data © OpenStreetMap contributors, ODbL 1.0. https://osm.org/copyright', 'osm_type': 'node', 'osm_id': 158851303, 'lat': '40.0884475', 'lon': '-74.3995939', 'display_name': 'Woodair Estates, Ocean County, New Jersey, USA', 'address': {'hamlet': 'Woodair Estates', 'county': 'Ocean County', 'state': 'New Jersey', 'country': 'USA', 'country_code': 'us'}, 'boundingbox': ['40.0484475', '40.1284475', '-74.4395939', '-74.3595939']}\n",
      "{'city': nan, 'state': 'New Jersey', 'country': 'USA', 'lat': 40.0884475, 'lon': -74.3995939, 'latslong': '40.0757384, -74.4041622'}\n"
     ]
    }
   ],
   "source": [
    "# Doesn't have city\n",
    "a = get_location_details(40.0757384, -74.4041622)\n",
    "print(a)"
   ]
  },
  {
   "cell_type": "code",
   "execution_count": 31,
   "metadata": {},
   "outputs": [
    {
     "name": "stdout",
     "output_type": "stream",
     "text": [
      "{'place_id': 80150786, 'licence': 'Data © OpenStreetMap contributors, ODbL 1.0. https://osm.org/copyright', 'osm_type': 'way', 'osm_id': 24420262, 'lat': '51.5698493', 'lon': '-0.0156238', 'display_name': 'Ambleside Close, Beaumont Estate, Leyton, London Borough of Waltham Forest, London, Greater London, England, United Kingdom', 'address': {'road': 'Ambleside Close', 'residential': 'Beaumont Estate', 'suburb': 'Leyton', 'city': 'London', 'state_district': 'Greater London', 'state': 'England', 'country': 'United Kingdom', 'country_code': 'gb'}, 'boundingbox': ['51.5698493', '51.5705011', '-0.0159099', '-0.0154529']}\n",
      "{'city': 'London', 'state': 'England', 'country': 'United Kingdom', 'lat': 51.5698493, 'lon': -0.0156238, 'latslong': '51.5696734, -0.015681'}\n"
     ]
    }
   ],
   "source": [
    "input = 'Montpelier'\n",
    "input = 'California - LA'\n",
    "input = 'Los Angeles, California, USA'\n",
    "input = 'Joliet, IL Atlanta, GA'\n",
    "input = 'Smithville, TX'\n",
    "input = 'Mass.,Boston'\n",
    "input = 'CANADA, Ontario'\n",
    "input = ' Salem, IL'\n",
    "input = 'Dorf, Germany'\n",
    "input = 'Namur, Namur'\n",
    "input = 'angelholm, Sweden'\n",
    "input = 'Sarajevo'\n",
    "input = 'ES'\n",
    "input = 'Rossville, Tennessee'\n",
    "input = 'SLC, ogden, Utah'\n",
    "input = 'St. Albans, England'\n",
    "input = 'Lekunberri, Euskal Herria'\n",
    "input = 'NY'\n",
    "input = 'Woking, Surrey, England'\n",
    "input = 'Havířov, Česká republika'\n",
    "input = 'Forest Hills, Queens, New York City, NY, USA'\n",
    "input = 'Antarctica'\n",
    "input = 'Knowle West, Bristol, Avon, England'\n",
    "input = 'Vallejo, CA'\n",
    "input = 'Maynardsville, TN'\n",
    "input = 'La Coruna, Spain'\n",
    "input = 'Leyton, East End of London'\n",
    "\n",
    "a = get_location_details(input)\n",
    "print(a)"
   ]
  },
  {
   "cell_type": "code",
   "execution_count": 7,
   "metadata": {},
   "outputs": [
    {
     "name": "stdout",
     "output_type": "stream",
     "text": [
      "{'place_id': 250782323, 'licence': 'Data © OpenStreetMap contributors, ODbL 1.0. https://osm.org/copyright', 'osm_type': 'node', 'osm_id': 6216912785, 'lat': '48.8565387', 'lon': '2.3518054', 'display_name': 'The Art, City Hall Plaza, Beaubourg, St-Merri, 4th Arrondissement, Paris, Ile-de-France, Metropolitan France, 75004, France', 'address': {'artwork': 'The Art', 'pedestrian': 'City Hall Plaza', 'neighbourhood': 'Beaubourg', 'suburb': 'St-Merri', 'city_district': '4th Arrondissement', 'city': 'Paris', 'county': 'Paris', 'state': 'Ile-de-France', 'country': 'France', 'postcode': '75004', 'country_code': 'fr'}, 'boundingbox': ['48.8564387', '48.8566387', '2.3517054', '2.3519054']}\n",
      "{'place_id': 19029147, 'licence': 'Data © OpenStreetMap contributors, ODbL 1.0. https://osm.org/copyright', 'osm_type': 'node', 'osm_id': 1808859797, 'lat': '52.5169064', 'lon': '13.3888493', 'display_name': 'U Unter den Linden, Friedrichstraße, Spandauer Vorstadt, Mitte, Berlin, 10117, Germany', 'address': {'address29': 'U Unter den Linden', 'road': 'Friedrichstraße', 'neighbourhood': 'Spandauer Vorstadt', 'suburb': 'Mitte', 'city_district': 'Mitte', 'city': 'Berlin', 'state': 'Berlin', 'postcode': '10117', 'country': 'Germany', 'country_code': 'de'}, 'boundingbox': ['52.5168064', '52.5170064', '13.3887493', '13.3889493']}\n",
      "{'place_id': 246563939, 'licence': 'Data © OpenStreetMap contributors, ODbL 1.0. https://osm.org/copyright', 'osm_type': 'way', 'osm_id': 651687144, 'lat': '51.5073203', 'lon': '-0.12765724122807', 'display_name': \"St. James's, Covent Garden, City of Westminster, London, Greater London, England, United Kingdom\", 'address': {'neighbourhood': \"St. James's\", 'suburb': 'Covent Garden', 'city': 'London', 'state_district': 'Greater London', 'state': 'England', 'country': 'United Kingdom', 'country_code': 'gb'}, 'boundingbox': ['51.5072695', '51.5073646', '-0.1277252', '-0.1275897']}\n"
     ]
    }
   ],
   "source": [
    "import pandas as pd\n",
    "df = pd.DataFrame({'name': ['paris', 'berlin', 'london']})\n",
    "\n",
    "from geopy.geocoders import Nominatim\n",
    "geolocator = Nominatim(user_agent=\"specify_your_app_name_here\")\n",
    "\n",
    "from geopy.extra.rate_limiter import RateLimiter\n",
    "geocode = RateLimiter(geolocator.geocode, min_delay_seconds=1)\n",
    "df['location'] = df['name'].apply(get_location_details)\n",
    "\n",
    "#df['point'] = df['location'].apply(lambda loc: tuple(loc.point) if loc else None)"
   ]
  },
  {
   "cell_type": "code",
   "execution_count": 8,
   "metadata": {},
   "outputs": [
    {
     "data": {
      "text/html": [
       "<div>\n",
       "<style scoped>\n",
       "    .dataframe tbody tr th:only-of-type {\n",
       "        vertical-align: middle;\n",
       "    }\n",
       "\n",
       "    .dataframe tbody tr th {\n",
       "        vertical-align: top;\n",
       "    }\n",
       "\n",
       "    .dataframe thead th {\n",
       "        text-align: right;\n",
       "    }\n",
       "</style>\n",
       "<table border=\"1\" class=\"dataframe\">\n",
       "  <thead>\n",
       "    <tr style=\"text-align: right;\">\n",
       "      <th></th>\n",
       "      <th>name</th>\n",
       "      <th>location</th>\n",
       "    </tr>\n",
       "  </thead>\n",
       "  <tbody>\n",
       "    <tr>\n",
       "      <th>0</th>\n",
       "      <td>paris</td>\n",
       "      <td>{'city': 'Paris', 'state': 'Ile-de-France', 'c...</td>\n",
       "    </tr>\n",
       "    <tr>\n",
       "      <th>1</th>\n",
       "      <td>berlin</td>\n",
       "      <td>{'city': 'Berlin', 'state': 'Berlin', 'country...</td>\n",
       "    </tr>\n",
       "    <tr>\n",
       "      <th>2</th>\n",
       "      <td>london</td>\n",
       "      <td>{'city': 'London', 'state': 'England', 'countr...</td>\n",
       "    </tr>\n",
       "  </tbody>\n",
       "</table>\n",
       "</div>"
      ],
      "text/plain": [
       "     name                                           location\n",
       "0   paris  {'city': 'Paris', 'state': 'Ile-de-France', 'c...\n",
       "1  berlin  {'city': 'Berlin', 'state': 'Berlin', 'country...\n",
       "2  london  {'city': 'London', 'state': 'England', 'countr..."
      ]
     },
     "execution_count": 8,
     "metadata": {},
     "output_type": "execute_result"
    }
   ],
   "source": [
    "df"
   ]
  },
  {
   "cell_type": "code",
   "execution_count": 12,
   "metadata": {},
   "outputs": [
    {
     "name": "stdout",
     "output_type": "stream",
     "text": [
      "<class 'pandas.core.frame.DataFrame'>\n",
      "RangeIndex: 3 entries, 0 to 2\n",
      "Data columns (total 2 columns):\n",
      "name        3 non-null object\n",
      "location    3 non-null object\n",
      "dtypes: object(2)\n",
      "memory usage: 128.0+ bytes\n"
     ]
    }
   ],
   "source": [
    "df.to_json('to_json.json', orient='records')\n",
    "df.info()"
   ]
  },
  {
   "cell_type": "code",
   "execution_count": 12,
   "metadata": {},
   "outputs": [
    {
     "data": {
      "text/plain": [
       "str"
      ]
     },
     "execution_count": 12,
     "metadata": {},
     "output_type": "execute_result"
    }
   ],
   "source": [
    "type(df.at[2, 'name'])"
   ]
  },
  {
   "cell_type": "code",
   "execution_count": 6,
   "metadata": {},
   "outputs": [
    {
     "name": "stdout",
     "output_type": "stream",
     "text": [
      "Hello\n"
     ]
    }
   ],
   "source": [
    "print('Hello')"
   ]
  },
  {
   "cell_type": "code",
   "execution_count": null,
   "metadata": {},
   "outputs": [],
   "source": []
  }
 ],
 "metadata": {
  "kernelspec": {
   "display_name": "Python 3",
   "language": "python",
   "name": "python3"
  },
  "language_info": {
   "codemirror_mode": {
    "name": "ipython",
    "version": 3
   },
   "file_extension": ".py",
   "mimetype": "text/x-python",
   "name": "python",
   "nbconvert_exporter": "python",
   "pygments_lexer": "ipython3",
   "version": "3.6.3"
  }
 },
 "nbformat": 4,
 "nbformat_minor": 4
}
